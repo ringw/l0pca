{
 "cells": [
  {
   "cell_type": "code",
   "execution_count": 1,
   "metadata": {},
   "outputs": [],
   "source": [
    "import numpy as np\n",
    "np.set_printoptions(precision = 4, linewidth = 100, suppress = True)"
   ]
  },
  {
   "cell_type": "code",
   "execution_count": 93,
   "metadata": {},
   "outputs": [],
   "source": [
    "np.random.seed(4)\n",
    "size = 100\n",
    "data = np.random.poisson(lam=10, size=(size, 20)).astype(np.float32)\n",
    "data -= data.mean(axis=0)[None, :]\n",
    "cov = np.cov(data.T)"
   ]
  },
  {
   "cell_type": "code",
   "execution_count": 94,
   "metadata": {},
   "outputs": [],
   "source": [
    "evals, evecs = np.linalg.eigh(cov[:2, :2])"
   ]
  },
  {
   "cell_type": "code",
   "execution_count": 95,
   "metadata": {},
   "outputs": [
    {
     "data": {
      "text/plain": [
       "array([[ 8.1284,  0.    ],\n",
       "       [ 0.    , 10.7814]])"
      ]
     },
     "execution_count": 95,
     "metadata": {},
     "output_type": "execute_result"
    }
   ],
   "source": [
    "evecs.dot(cov[:2, :2]).dot(evecs.T)"
   ]
  },
  {
   "cell_type": "code",
   "execution_count": 98,
   "metadata": {},
   "outputs": [
    {
     "data": {
      "text/plain": [
       "98.99999986885754"
      ]
     },
     "execution_count": 98,
     "metadata": {},
     "output_type": "execute_result"
    }
   ],
   "source": [
    "np.square(np.linalg.svd(data[:, :2], full_matrices=False)[0][:, 1].dot(\n",
    "    (data[:, :2].dot(evecs) / np.sqrt(evals[None, :]))[:, 0]\n",
    "))"
   ]
  },
  {
   "cell_type": "code",
   "execution_count": 99,
   "metadata": {},
   "outputs": [
    {
     "data": {
      "text/plain": [
       "array([[-0.7572],\n",
       "       [ 0.3132]])"
      ]
     },
     "execution_count": 99,
     "metadata": {},
     "output_type": "execute_result"
    }
   ],
   "source": [
    "vec_proj = (data[:, :2].dot(evecs) / np.sqrt(evals[None, :])).T.dot(\n",
    "    data[:, 2:3]\n",
    ") / (size - 1)\n",
    "vec_proj"
   ]
  },
  {
   "cell_type": "code",
   "execution_count": 107,
   "metadata": {},
   "outputs": [
    {
     "data": {
      "text/plain": [
       "True"
      ]
     },
     "execution_count": 107,
     "metadata": {},
     "output_type": "execute_result"
    }
   ],
   "source": [
    "# Much more useful than holding the raw data\n",
    "np.allclose(\n",
    "    (evecs.T / np.sqrt(evals[:, None])).dot(cov[0:2, 2:3]),\n",
    "    vec_proj,\n",
    "    rtol=1e-17)"
   ]
  },
  {
   "cell_type": "code",
   "execution_count": 108,
   "metadata": {},
   "outputs": [
    {
     "data": {
      "text/plain": [
       "[3.3306690738754696e-16, -5.551115123125783e-17]"
      ]
     },
     "execution_count": 108,
     "metadata": {},
     "output_type": "execute_result"
    }
   ],
   "source": [
    "list(((evecs.T / np.sqrt(evals[:, None])).dot(cov[0:2, 2:3]) - vec_proj)[:, 0])"
   ]
  },
  {
   "cell_type": "code",
   "execution_count": 109,
   "metadata": {},
   "outputs": [
    {
     "data": {
      "text/plain": [
       "True"
      ]
     },
     "execution_count": 109,
     "metadata": {},
     "output_type": "execute_result"
    }
   ],
   "source": [
    "data[:, 2].dot(data[:, 2]) / (size-1) == cov[2, 2]"
   ]
  },
  {
   "cell_type": "code",
   "execution_count": 111,
   "metadata": {},
   "outputs": [
    {
     "data": {
      "text/plain": [
       "3.467777587428768"
      ]
     },
     "execution_count": 111,
     "metadata": {},
     "output_type": "execute_result"
    }
   ],
   "source": [
    "np.sqrt(cov[2, 2] - np.linalg.norm(vec_proj) ** 2)"
   ]
  },
  {
   "cell_type": "code",
   "execution_count": 112,
   "metadata": {},
   "outputs": [
    {
     "data": {
      "text/plain": [
       "array([[ 2.851 ,  0.    , -0.7572],\n",
       "       [ 0.    ,  3.2835,  0.3132],\n",
       "       [ 0.    ,  0.    ,  3.4678]])"
      ]
     },
     "execution_count": 112,
     "metadata": {},
     "output_type": "execute_result"
    }
   ],
   "source": [
    "# A^T A and A A^T have the same eigenvalues and trace, also constructed\n",
    "# so that A A^T is similar to the augmented covariance matrix - where the\n",
    "# update to the trace is precisely cov[2, 2].\n",
    "A = np.asarray(\n",
    "    [[np.sqrt(evals[0]), 0, vec_proj[0, 0]],\n",
    "     [0, np.sqrt(evals[1]), vec_proj[1, 0]],\n",
    "     [0, 0, np.sqrt(cov[2, 2] - np.linalg.norm(vec_proj) ** 2)]],\n",
    ")\n",
    "A"
   ]
  },
  {
   "cell_type": "code",
   "execution_count": 113,
   "metadata": {},
   "outputs": [
    {
     "data": {
      "text/plain": [
       "array([ 7.2273, 10.5245, 13.855 ])"
      ]
     },
     "execution_count": 113,
     "metadata": {},
     "output_type": "execute_result"
    }
   ],
   "source": [
    "np.linalg.eigh(A.dot(A.T))[0]"
   ]
  },
  {
   "cell_type": "code",
   "execution_count": 114,
   "metadata": {},
   "outputs": [
    {
     "data": {
      "text/plain": [
       "array([ 7.2273, 10.5245, 13.855 ])"
      ]
     },
     "execution_count": 114,
     "metadata": {},
     "output_type": "execute_result"
    }
   ],
   "source": [
    "np.linalg.eigh(cov[:3, :3])[0]"
   ]
  },
  {
   "cell_type": "code",
   "execution_count": 115,
   "metadata": {},
   "outputs": [
    {
     "data": {
      "text/plain": [
       "True"
      ]
     },
     "execution_count": 115,
     "metadata": {},
     "output_type": "execute_result"
    }
   ],
   "source": [
    "np.allclose(\n",
    "    np.linalg.eigh(A.dot(A.T))[0],\n",
    "    np.linalg.eigh(cov[:3, :3])[0],\n",
    "    rtol=1e-10)"
   ]
  },
  {
   "cell_type": "code",
   "execution_count": null,
   "metadata": {},
   "outputs": [],
   "source": []
  }
 ],
 "metadata": {
  "kernelspec": {
   "display_name": "Python 3.10.6 ('tensorflow')",
   "language": "python",
   "name": "python3"
  },
  "language_info": {
   "codemirror_mode": {
    "name": "ipython",
    "version": 3
   },
   "file_extension": ".py",
   "mimetype": "text/x-python",
   "name": "python",
   "nbconvert_exporter": "python",
   "pygments_lexer": "ipython3",
   "version": "3.10.6"
  },
  "orig_nbformat": 4,
  "vscode": {
   "interpreter": {
    "hash": "76395dc4225a3510e19f72ca6602e397fbce3a474a89e3d17074f82d2029a2fc"
   }
  }
 },
 "nbformat": 4,
 "nbformat_minor": 2
}
