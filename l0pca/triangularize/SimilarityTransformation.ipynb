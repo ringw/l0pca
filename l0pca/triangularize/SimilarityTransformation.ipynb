{
 "cells": [
  {
   "cell_type": "code",
   "execution_count": 73,
   "metadata": {},
   "outputs": [],
   "source": [
    "import numpy as np\n",
    "np.set_printoptions(precision = 3, linewidth = 80, suppress = True)"
   ]
  },
  {
   "cell_type": "code",
   "execution_count": 100,
   "metadata": {},
   "outputs": [
    {
     "data": {
      "text/plain": [
       "array([[ 0.872,  0.   ,  0.   ,  0.   , -0.53 ],\n",
       "       [ 0.   ,  0.009,  0.   ,  0.   ,  0.09 ],\n",
       "       [ 0.   ,  0.   ,  0.894,  0.   , -0.934],\n",
       "       [ 0.   ,  0.   ,  0.   ,  0.185, -0.212],\n",
       "       [-0.53 ,  0.09 , -0.934, -0.212,  2.466]])"
      ]
     },
     "execution_count": 100,
     "metadata": {},
     "output_type": "execute_result"
    }
   ],
   "source": [
    "n = 5\n",
    "np.random.seed(4)\n",
    "A = np.diag(np.random.uniform(-1, 1, n))\n",
    "A[:, -1] = np.random.uniform(-1, 1, n)\n",
    "A = A.T.dot(A)\n",
    "A"
   ]
  },
  {
   "cell_type": "code",
   "execution_count": 172,
   "metadata": {},
   "outputs": [
    {
     "data": {
      "text/plain": [
       "array([[ 0.872,  0.446,  0.   ,  0.   , -0.287],\n",
       "       [ 0.446,  1.667,  0.786,  0.179, -1.155],\n",
       "       [ 0.   ,  0.786,  0.894,  0.   , -0.504],\n",
       "       [ 0.   ,  0.179,  0.   ,  0.185, -0.115],\n",
       "       [-0.287, -1.155, -0.504, -0.115,  0.808]])"
      ]
     },
     "execution_count": 172,
     "metadata": {},
     "output_type": "execute_result"
    }
   ],
   "source": [
    "M = np.eye(5)\n",
    "M[1, 1] = np.cos(1)\n",
    "M[1, -1] = -np.sin(1)\n",
    "M[-1, 1] = np.sin(1)\n",
    "M[-1, -1] = np.cos(1)\n",
    "M.dot(A).dot(M.T)"
   ]
  },
  {
   "cell_type": "code",
   "execution_count": 201,
   "metadata": {},
   "outputs": [
    {
     "data": {
      "text/plain": [
       "array([[ 0.043,  0.681, -0.071, -0.078, -0.067],\n",
       "       [ 0.   ,  0.009,  0.   ,  0.   ,  0.09 ],\n",
       "       [ 0.   ,  0.   ,  0.894,  0.   , -0.934],\n",
       "       [ 0.   ,  0.   ,  0.   ,  0.185, -0.212],\n",
       "       [-0.53 , -8.272, -0.067,  0.741,  3.295]])"
      ]
     },
     "execution_count": 201,
     "metadata": {},
     "output_type": "execute_result"
    }
   ],
   "source": [
    "M = np.eye(n)\n",
    "M[0, -1] = -A[0, -1] / A[-1, -1]\n",
    "M[0, 1] = -M[0, -1] * A[-1, 1] / A[1, 1]\n",
    "M[0, 2] = -M[0, -1] * A[-1, 2] / A[2, 2]\n",
    "M[0, 3] = -M[0, -1] * A[-1, 3] / A[3, 3]\n",
    "M[0, 1:] *= 7.27\n",
    "M.dot(A)\n",
    "M.dot(A).dot(np.linalg.inv(M))"
   ]
  },
  {
   "cell_type": "code",
   "execution_count": 267,
   "metadata": {},
   "outputs": [
    {
     "data": {
      "text/plain": [
       "array([[ 0.395,  0.004,  0.007,  0.02 , -0.023],\n",
       "       [ 0.   ,  0.009,  0.   ,  0.   ,  0.09 ],\n",
       "       [ 0.   ,  0.   ,  0.894,  0.   , -0.934],\n",
       "       [ 0.   ,  0.   ,  0.   ,  0.185, -0.212],\n",
       "       [-0.53 ,  0.196, -0.032, -0.743,  2.943]])"
      ]
     },
     "execution_count": 267,
     "metadata": {},
     "output_type": "execute_result"
    }
   ],
   "source": [
    "M = np.eye(n)\n",
    "M[0, 1] = 0.2\n",
    "M[0, 2] = 1.7\n",
    "M[0, 3] = -1.\n",
    "M[0, 4] = 0.9\n",
    "A2 =M.dot(A).dot(np.linalg.inv(M))\n",
    "A2"
   ]
  },
  {
   "cell_type": "code",
   "execution_count": 287,
   "metadata": {},
   "outputs": [
    {
     "data": {
      "text/plain": [
       "array([[ 0.395,  0.004,  0.007,  0.02 , -0.023],\n",
       "       [ 0.008,  0.006,  0.009,  0.002,  0.047],\n",
       "       [ 0.   ,  0.   ,  0.894,  0.   , -0.934],\n",
       "       [ 0.   ,  0.   ,  0.   ,  0.185, -0.212],\n",
       "       [-0.53 ,  0.196, -0.034, -0.733,  2.946]])"
      ]
     },
     "execution_count": 287,
     "metadata": {},
     "output_type": "execute_result"
    }
   ],
   "source": [
    "M2 = np.eye(n)\n",
    "M2[1, 2] = 0.01\n",
    "M2[1, 3] = -0.05\n",
    "M2[1, 4] = -0.015\n",
    "A3 = M2.dot(A2).dot(np.linalg.inv(M2))\n",
    "A3"
   ]
  },
  {
   "cell_type": "code",
   "execution_count": 288,
   "metadata": {},
   "outputs": [
    {
     "data": {
      "text/plain": [
       "array([3.024, 0.878, 0.39 , 0.133, 0.   ])"
      ]
     },
     "execution_count": 288,
     "metadata": {},
     "output_type": "execute_result"
    }
   ],
   "source": [
    "np.linalg.eig(A)[0]"
   ]
  },
  {
   "cell_type": "code",
   "execution_count": 289,
   "metadata": {},
   "outputs": [
    {
     "data": {
      "text/plain": [
       "array([3.024, 0.878, 0.39 , 0.133, 0.   ])"
      ]
     },
     "execution_count": 289,
     "metadata": {},
     "output_type": "execute_result"
    }
   ],
   "source": [
    "np.linalg.eig(A3)[0]"
   ]
  },
  {
   "cell_type": "code",
   "execution_count": 170,
   "metadata": {},
   "outputs": [
    {
     "data": {
      "text/plain": [
       "array([[ 0.342,  0.09 , -0.934, -0.212,  1.936],\n",
       "       [ 0.   ,  0.009,  0.   ,  0.   ,  0.09 ],\n",
       "       [ 0.   ,  0.   ,  0.894,  0.   , -0.934],\n",
       "       [ 0.   ,  0.   ,  0.   ,  0.185, -0.212],\n",
       "       [-0.53 ,  0.09 , -0.934, -0.212,  2.466]])"
      ]
     },
     "execution_count": 170,
     "metadata": {},
     "output_type": "execute_result"
    }
   ],
   "source": [
    "np.dot([[1, 0, 0, 0, 1], [0, 1, 0, 0, 0], [0, 0, 1, 0, 0], [0, 0, 0, 1, 0], [0, 0, 0, 0, 1]], A)"
   ]
  },
  {
   "cell_type": "code",
   "execution_count": 55,
   "metadata": {},
   "outputs": [
    {
     "data": {
      "text/plain": [
       "-0.5623100214072791"
      ]
     },
     "execution_count": 55,
     "metadata": {},
     "output_type": "execute_result"
    }
   ],
   "source": [
    "M[0, -1] / np.linalg.norm([M[0, -1], M[-1, -1]])"
   ]
  },
  {
   "cell_type": "code",
   "execution_count": 56,
   "metadata": {},
   "outputs": [
    {
     "data": {
      "text/plain": [
       "array([[ 0.934,  0.   ,  0.   ,  0.   ,  0.   ,  0.   ,  0.   ,  0.009],\n",
       "       [ 0.   ,  0.094,  0.   ,  0.   ,  0.   ,  0.   ,  0.   , -0.13 ],\n",
       "       [ 0.   ,  0.   ,  0.945,  0.   ,  0.   ,  0.   ,  0.   ,  0.559],\n",
       "       [ 0.   ,  0.   ,  0.   ,  0.43 ,  0.   ,  0.   ,  0.   , -0.605],\n",
       "       [ 0.   ,  0.   ,  0.   ,  0.   ,  0.395,  0.   ,  0.   ,  0.726],\n",
       "       [ 0.   ,  0.   ,  0.   ,  0.   ,  0.   , -0.568,  0.   ,  0.967],\n",
       "       [ 0.   ,  0.   ,  0.   ,  0.   ,  0.   ,  0.   ,  0.953, -0.672],\n",
       "       [ 0.   ,  0.   ,  0.   ,  0.   ,  0.   ,  0.   ,  0.   ,  0.195]])"
      ]
     },
     "execution_count": 56,
     "metadata": {},
     "output_type": "execute_result"
    }
   ],
   "source": [
    "M.dot(A).dot(np.linalg.inv(M))"
   ]
  },
  {
   "cell_type": "code",
   "execution_count": 61,
   "metadata": {},
   "outputs": [
    {
     "data": {
      "text/plain": [
       "array([[ 0.934,  0.   ,  0.   ,  0.   ,  0.   ,  0.   ,  0.   ,  0.009],\n",
       "       [ 0.   ,  0.094,  0.   ,  0.   ,  0.   ,  0.   ,  0.   , -0.005],\n",
       "       [ 0.   ,  0.   ,  0.945,  0.   ,  0.   ,  0.   ,  0.   ,  0.559],\n",
       "       [ 0.   ,  0.   ,  0.   ,  0.43 ,  0.   ,  0.   ,  0.   , -0.605],\n",
       "       [ 0.   ,  0.   ,  0.   ,  0.   ,  0.395,  0.   ,  0.   ,  0.726],\n",
       "       [ 0.   ,  0.   ,  0.   ,  0.   ,  0.   , -0.568,  0.   ,  0.967],\n",
       "       [ 0.   ,  0.   ,  0.   ,  0.   ,  0.   ,  0.   ,  0.953, -0.672],\n",
       "       [ 0.   ,  0.   ,  0.   ,  0.   ,  0.   ,  0.   ,  0.   ,  0.195]])"
      ]
     },
     "execution_count": 61,
     "metadata": {},
     "output_type": "execute_result"
    }
   ],
   "source": [
    "M2 = np.eye(8)\n",
    "M2[1, -1] = 1.25\n",
    "M2.dot(M).dot(A).dot(np.linalg.inv(M).dot(np.linalg.inv(M2)))"
   ]
  },
  {
   "cell_type": "code",
   "execution_count": 62,
   "metadata": {},
   "outputs": [
    {
     "data": {
      "text/plain": [
       "array([-0.568,  0.094,  0.195,  0.395,  0.43 ,  0.934,  0.945,  0.953])"
      ]
     },
     "execution_count": 62,
     "metadata": {},
     "output_type": "execute_result"
    }
   ],
   "source": [
    "np.linalg.eigh(A)[0]"
   ]
  },
  {
   "cell_type": "code",
   "execution_count": 174,
   "metadata": {},
   "outputs": [
    {
     "data": {
      "text/plain": [
       "array([[2., 0., 0., 0., 0., 0., 0.],\n",
       "       [0., 2., 0., 0., 0., 0., 0.],\n",
       "       [0., 0., 2., 0., 0., 0., 0.],\n",
       "       [0., 0., 0., 2., 0., 0., 0.],\n",
       "       [0., 0., 0., 0., 2., 0., 0.],\n",
       "       [0., 0., 0., 0., 0., 2., 0.],\n",
       "       [0., 0., 0., 0., 0., 0., 2.]])"
      ]
     },
     "execution_count": 174,
     "metadata": {},
     "output_type": "execute_result"
    }
   ],
   "source": [
    "M = np.eye(7)\n",
    "M[0, 1:] = np.random.uniform(-1, 1, 6)\n",
    "M + np.linalg.inv(M)"
   ]
  },
  {
   "cell_type": "code",
   "execution_count": null,
   "metadata": {},
   "outputs": [],
   "source": []
  }
 ],
 "metadata": {
  "kernelspec": {
   "display_name": "Python 3.10.4 64-bit",
   "language": "python",
   "name": "python3"
  },
  "language_info": {
   "codemirror_mode": {
    "name": "ipython",
    "version": 3
   },
   "file_extension": ".py",
   "mimetype": "text/x-python",
   "name": "python",
   "nbconvert_exporter": "python",
   "pygments_lexer": "ipython3",
   "version": "3.10.4"
  },
  "orig_nbformat": 4,
  "vscode": {
   "interpreter": {
    "hash": "3ad933181bd8a04b432d3370b9dc3b0662ad032c4dfaa4e4f1596c548f763858"
   }
  }
 },
 "nbformat": 4,
 "nbformat_minor": 2
}
