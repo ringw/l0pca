{
 "cells": [
  {
   "cell_type": "code",
   "execution_count": 1,
   "metadata": {},
   "outputs": [],
   "source": [
    "import numpy as np\n",
    "np.set_printoptions(precision = 5, linewidth = 150, suppress = True)"
   ]
  },
  {
   "cell_type": "code",
   "execution_count": 67,
   "metadata": {},
   "outputs": [
    {
     "data": {
      "text/plain": [
       "array([[ 0.2    ,  0.     ,  0.     ,  0.     ,  0.     ,  0.     ,  5.     ],\n",
       "       [ 0.     , -0.33604,  0.     ,  0.     ,  0.     ,  0.     , -0.32918],\n",
       "       [ 0.     ,  0.     ,  0.64246,  0.     ,  0.     ,  0.     ,  0.24504],\n",
       "       [ 0.     ,  0.     ,  0.     , -0.91661,  0.     ,  0.     , -0.12372],\n",
       "       [ 0.     ,  0.     ,  0.     ,  0.     , -0.78469,  0.     ,  0.47176],\n",
       "       [ 0.     ,  0.     ,  0.     ,  0.     ,  0.     ,  0.1901 ,  0.03607],\n",
       "       [ 0.     ,  0.     ,  0.     ,  0.     ,  0.     ,  0.     ,  0.15772]])"
      ]
     },
     "execution_count": 67,
     "metadata": {},
     "output_type": "execute_result"
    }
   ],
   "source": [
    "n = 7\n",
    "np.random.seed(6)\n",
    "S = np.diag(np.random.uniform(-1, 1, n))\n",
    "S[:, -1] = np.random.uniform(-1, 1, n)\n",
    "S[0, 0] = 0.2\n",
    "S[0, -1] = 5\n",
    "S"
   ]
  },
  {
   "cell_type": "code",
   "execution_count": 71,
   "metadata": {},
   "outputs": [
    {
     "data": {
      "text/plain": [
       "25.4574258424205"
      ]
     },
     "execution_count": 71,
     "metadata": {},
     "output_type": "execute_result"
    }
   ],
   "source": [
    "S.T.dot(S)\n",
    "np.linalg.norm(np.diagonal(S.T.dot(S)))"
   ]
  },
  {
   "cell_type": "code",
   "execution_count": 72,
   "metadata": {},
   "outputs": [
    {
     "data": {
      "text/plain": [
       "(0.04000000000000001, 1.0)"
      ]
     },
     "execution_count": 72,
     "metadata": {},
     "output_type": "execute_result"
    }
   ],
   "source": [
    "S[0, 0] ** 2, S[0, 0] * S[0, -1]"
   ]
  },
  {
   "cell_type": "code",
   "execution_count": 80,
   "metadata": {},
   "outputs": [
    {
     "data": {
      "text/plain": [
       "(0.03930064937796555, 0.039290533248248855, 0.9992278288744105)"
      ]
     },
     "execution_count": 80,
     "metadata": {},
     "output_type": "execute_result"
    }
   ],
   "source": [
    "phi = np.arctan(2 * (S.T.dot(S))[0, -1] / ((S.T.dot(S))[-1,-1] - (S.T.dot(S))[0, 0])) / 2\n",
    "phi, np.sin(phi), np.cos(phi)"
   ]
  },
  {
   "cell_type": "code",
   "execution_count": 76,
   "metadata": {},
   "outputs": [
    {
     "data": {
      "text/plain": [
       "25.340281256007746"
      ]
     },
     "execution_count": 76,
     "metadata": {},
     "output_type": "execute_result"
    }
   ],
   "source": [
    "Q = np.eye(n)\n",
    "Q[0, 0] = np.cos(phi)\n",
    "Q[0, -1] = np.sin(phi)\n",
    "Q[-1, 0] = -np.sin(phi)\n",
    "Q[-1, -1] = np.cos(phi)\n",
    "np.linalg.norm(np.diagonal(Q.dot(S.T).dot(S).dot(Q.T)))"
   ]
  },
  {
   "cell_type": "code",
   "execution_count": 81,
   "metadata": {},
   "outputs": [
    {
     "data": {
      "text/plain": [
       "array([[ 0.3963 , -0.01293,  0.00963, -0.00486,  0.01854,  0.00142,  0.0062 ],\n",
       "       [ 0.     , -0.33604,  0.     ,  0.     ,  0.     ,  0.     ,  0.     ],\n",
       "       [ 0.     ,  0.     ,  0.64246,  0.     ,  0.     ,  0.     ,  0.     ],\n",
       "       [ 0.     ,  0.     ,  0.     , -0.91661,  0.     ,  0.     ,  0.     ],\n",
       "       [ 0.     ,  0.     ,  0.     ,  0.     , -0.78469,  0.     ,  0.     ],\n",
       "       [ 0.     ,  0.     ,  0.     ,  0.     ,  0.     ,  0.1901 ,  0.     ],\n",
       "       [ 4.98828, -0.32893,  0.24485, -0.12362,  0.4714 ,  0.03604,  0.1576 ]])"
      ]
     },
     "execution_count": 81,
     "metadata": {},
     "output_type": "execute_result"
    }
   ],
   "source": [
    "Q.dot(S.T)"
   ]
  },
  {
   "cell_type": "code",
   "execution_count": 78,
   "metadata": {},
   "outputs": [
    {
     "data": {
      "text/plain": [
       "array([[ 0.04   ,  0.     ,  0.     ,  0.     ,  0.     ,  0.     ,  1.     ],\n",
       "       [ 0.     ,  0.11292,  0.     ,  0.     ,  0.     ,  0.     ,  0.11062],\n",
       "       [ 0.     ,  0.     ,  0.41275,  0.     ,  0.     ,  0.     ,  0.15743],\n",
       "       [ 0.     ,  0.     ,  0.     ,  0.84017,  0.     ,  0.     ,  0.1134 ],\n",
       "       [ 0.     ,  0.     ,  0.     ,  0.     ,  0.61573,  0.     , -0.37019],\n",
       "       [ 0.     ,  0.     ,  0.     ,  0.     ,  0.     ,  0.03614,  0.00686],\n",
       "       [ 1.     ,  0.11062,  0.15743,  0.1134 , -0.37019,  0.00686, 25.43245]])"
      ]
     },
     "execution_count": 78,
     "metadata": {},
     "output_type": "execute_result"
    }
   ],
   "source": [
    "S.T.dot(S)"
   ]
  },
  {
   "cell_type": "code",
   "execution_count": 77,
   "metadata": {},
   "outputs": [
    {
     "data": {
      "text/plain": [
       "array([[ 0.15772,  0.00435,  0.00619,  0.00446, -0.01454,  0.00027,  1.99383],\n",
       "       [ 0.00435,  0.11292,  0.     ,  0.     ,  0.     ,  0.     ,  0.11053],\n",
       "       [ 0.00619,  0.     ,  0.41275,  0.     ,  0.     ,  0.     ,  0.15731],\n",
       "       [ 0.00446,  0.     ,  0.     ,  0.84017,  0.     ,  0.     ,  0.11331],\n",
       "       [-0.01454,  0.     ,  0.     ,  0.     ,  0.61573,  0.     , -0.3699 ],\n",
       "       [ 0.00027,  0.     ,  0.     ,  0.     ,  0.     ,  0.03614,  0.00685],\n",
       "       [ 1.99383,  0.11053,  0.15731,  0.11331, -0.3699 ,  0.00685, 25.31473]])"
      ]
     },
     "execution_count": 77,
     "metadata": {},
     "output_type": "execute_result"
    }
   ],
   "source": [
    "Q.dot(S.T).dot(S).dot(Q.T)"
   ]
  },
  {
   "cell_type": "code",
   "execution_count": 64,
   "metadata": {},
   "outputs": [
    {
     "data": {
      "text/plain": [
       "-0.1550887399328767"
      ]
     },
     "execution_count": 64,
     "metadata": {},
     "output_type": "execute_result"
    }
   ],
   "source": [
    "np.tan(phi * 2)"
   ]
  },
  {
   "cell_type": "code",
   "execution_count": 65,
   "metadata": {},
   "outputs": [
    {
     "data": {
      "text/plain": [
       "-0.1550887399328767"
      ]
     },
     "execution_count": 65,
     "metadata": {},
     "output_type": "execute_result"
    }
   ],
   "source": [
    "2 * (S.T.dot(S))[0, -1] / ((S.T.dot(S))[-1,-1] - (S.T.dot(S))[0, 0])"
   ]
  },
  {
   "cell_type": "code",
   "execution_count": null,
   "metadata": {},
   "outputs": [],
   "source": []
  }
 ],
 "metadata": {
  "kernelspec": {
   "display_name": "Python 3 (ipykernel)",
   "language": "python",
   "name": "python3"
  },
  "language_info": {
   "codemirror_mode": {
    "name": "ipython",
    "version": 3
   },
   "file_extension": ".py",
   "mimetype": "text/x-python",
   "name": "python",
   "nbconvert_exporter": "python",
   "pygments_lexer": "ipython3",
   "version": "3.9.12"
  },
  "vscode": {
   "interpreter": {
    "hash": "916dbcbb3f70747c44a77c7bcd40155683ae19c65e1c03b4aa3499c5328201f1"
   }
  }
 },
 "nbformat": 4,
 "nbformat_minor": 2
}
