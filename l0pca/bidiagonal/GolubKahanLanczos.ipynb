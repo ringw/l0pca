{
 "cells": [
  {
   "cell_type": "code",
   "execution_count": 3,
   "metadata": {},
   "outputs": [],
   "source": [
    "import numpy as np\n",
    "np.set_printoptions(linewidth = 150, precision = 5, suppress = True)"
   ]
  },
  {
   "cell_type": "code",
   "execution_count": 5,
   "metadata": {},
   "outputs": [
    {
     "data": {
      "text/plain": [
       "array([[ 0.93406,  0.     ,  0.     ,  0.     , -0.56782],\n",
       "       [ 0.     ,  0.09446,  0.     ,  0.     ,  0.95255],\n",
       "       [ 0.     ,  0.     ,  0.94537,  0.     , -0.98754],\n",
       "       [ 0.     ,  0.     ,  0.     ,  0.42963, -0.49404],\n",
       "       [ 0.     ,  0.     ,  0.     ,  0.     , -0.13042]])"
      ]
     },
     "execution_count": 5,
     "metadata": {},
     "output_type": "execute_result"
    }
   ],
   "source": [
    "n = 5\n",
    "np.random.seed(4)\n",
    "A = np.diag(np.random.uniform(-1., 1., n))\n",
    "A[:, -1] = np.random.uniform(-1., 1., n)\n",
    "A"
   ]
  },
  {
   "cell_type": "code",
   "execution_count": 37,
   "metadata": {},
   "outputs": [],
   "source": [
    "diag = np.full(n, np.nan)\n",
    "off_diag = np.full(n - 1, np.nan)"
   ]
  },
  {
   "cell_type": "code",
   "execution_count": 38,
   "metadata": {},
   "outputs": [],
   "source": [
    "beta = 0.\n",
    "v = np.asarray([1., 0., 0., 0., 0.])[:, None]\n",
    "u = np.zeros_like(v)"
   ]
  },
  {
   "cell_type": "code",
   "execution_count": 39,
   "metadata": {},
   "outputs": [
    {
     "data": {
      "text/plain": [
       "(array([[1.],\n",
       "        [0.],\n",
       "        [0.],\n",
       "        [0.],\n",
       "        [0.]]),\n",
       " 0.9340596780273533,\n",
       " array([[ 0.],\n",
       "        [ 0.],\n",
       "        [ 0.],\n",
       "        [ 0.],\n",
       "        [-1.]]),\n",
       " 0.5678210088392472)"
      ]
     },
     "execution_count": 39,
     "metadata": {},
     "output_type": "execute_result"
    }
   ],
   "source": [
    "u = A.dot(v) - beta*u\n",
    "alpha = np.linalg.norm(u)\n",
    "diag[0] = alpha\n",
    "u /= alpha\n",
    "v = A.T.dot(u) - alpha*v\n",
    "beta = np.linalg.norm(v)\n",
    "off_diag[0] = beta\n",
    "v /= beta\n",
    "u, alpha, v, beta"
   ]
  },
  {
   "cell_type": "code",
   "execution_count": 29,
   "metadata": {},
   "outputs": [
    {
     "data": {
      "text/plain": [
       "(array([[ 0.     ],\n",
       "        [-0.65059],\n",
       "        [ 0.67449],\n",
       "        [ 0.33743],\n",
       "        [ 0.08907]]),\n",
       " array([[ 0.     ],\n",
       "        [-0.09357],\n",
       "        [ 0.97084],\n",
       "        [ 0.22072],\n",
       "        [ 0.     ]]))"
      ]
     },
     "execution_count": 29,
     "metadata": {},
     "output_type": "execute_result"
    }
   ],
   "source": [
    "u = A.dot(v) - beta*u\n",
    "alpha = np.linalg.norm(u)\n",
    "diag[1] = alpha\n",
    "u /= alpha\n",
    "v = A.T.dot(u) - alpha*v\n",
    "beta = np.linalg.norm(v)\n",
    "off_diag[1] = beta\n",
    "v /= beta\n",
    "u, v"
   ]
  },
  {
   "cell_type": "code",
   "execution_count": 30,
   "metadata": {},
   "outputs": [
    {
     "data": {
      "text/plain": [
       "(array([[ 0.     ],\n",
       "        [ 0.64567],\n",
       "        [ 0.73259],\n",
       "        [-0.19563],\n",
       "        [-0.09027]]),\n",
       " array([[ 0.     ],\n",
       "        [ 0.45849],\n",
       "        [ 0.23881],\n",
       "        [-0.85601],\n",
       "        [-0.     ]]))"
      ]
     },
     "execution_count": 30,
     "metadata": {},
     "output_type": "execute_result"
    }
   ],
   "source": [
    "u = A.dot(v) - beta*u\n",
    "alpha = np.linalg.norm(u)\n",
    "diag[2] = alpha\n",
    "u /= alpha\n",
    "v = A.T.dot(u) - alpha*v\n",
    "beta = np.linalg.norm(v)\n",
    "off_diag[2] = beta\n",
    "v /= beta\n",
    "u, v"
   ]
  },
  {
   "cell_type": "code",
   "execution_count": 31,
   "metadata": {},
   "outputs": [
    {
     "data": {
      "text/plain": [
       "(array([[ 0.     ],\n",
       "        [-0.37304],\n",
       "        [ 0.09153],\n",
       "        [-0.92065],\n",
       "        [ 0.0698 ]]),\n",
       " array([[ 0.     ],\n",
       "        [-0.88376],\n",
       "        [ 0.0211 ],\n",
       "        [-0.46746],\n",
       "        [-0.     ]]))"
      ]
     },
     "execution_count": 31,
     "metadata": {},
     "output_type": "execute_result"
    }
   ],
   "source": [
    "u = A.dot(v) - beta*u\n",
    "alpha = np.linalg.norm(u)\n",
    "diag[3] = alpha\n",
    "u /= alpha\n",
    "v = A.T.dot(u) - alpha*v\n",
    "beta = np.linalg.norm(v)\n",
    "off_diag[3] = beta\n",
    "v /= beta\n",
    "u, v"
   ]
  },
  {
   "cell_type": "code",
   "execution_count": 32,
   "metadata": {},
   "outputs": [],
   "source": [
    "diag[-1] = np.linalg.norm(A.dot(v) - beta*u)"
   ]
  },
  {
   "cell_type": "code",
   "execution_count": 33,
   "metadata": {},
   "outputs": [
    {
     "data": {
      "text/plain": [
       "array([[0.93406, 0.56782, 0.     , 0.     , 0.     ],\n",
       "       [0.     , 1.46413, 0.6568 , 0.     , 0.     ],\n",
       "       [0.     , 0.     , 0.64811, 0.2653 , 0.     ],\n",
       "       [0.     , 0.     , 0.     , 0.34309, 0.21787],\n",
       "       [0.     , 0.     , 0.     , 0.     , 0.01537]])"
      ]
     },
     "execution_count": 33,
     "metadata": {},
     "output_type": "execute_result"
    }
   ],
   "source": [
    "B = np.diag(diag)\n",
    "B[range(n - 1), range(1, n)] = off_diag\n",
    "B"
   ]
  },
  {
   "cell_type": "code",
   "execution_count": 35,
   "metadata": {},
   "outputs": [
    {
     "data": {
      "text/plain": [
       "True"
      ]
     },
     "execution_count": 35,
     "metadata": {},
     "output_type": "execute_result"
    }
   ],
   "source": [
    "np.allclose(np.linalg.svd(B)[1], np.linalg.svd(A)[1])"
   ]
  },
  {
   "cell_type": "code",
   "execution_count": null,
   "metadata": {},
   "outputs": [],
   "source": []
  }
 ],
 "metadata": {
  "kernelspec": {
   "display_name": "Python 3.8.10 64-bit",
   "language": "python",
   "name": "python3"
  },
  "language_info": {
   "codemirror_mode": {
    "name": "ipython",
    "version": 3
   },
   "file_extension": ".py",
   "mimetype": "text/x-python",
   "name": "python",
   "nbconvert_exporter": "python",
   "pygments_lexer": "ipython3",
   "version": "3.8.10"
  },
  "orig_nbformat": 4,
  "vscode": {
   "interpreter": {
    "hash": "31f2aee4e71d21fbe5cf8b01ff0e069b9275f58929596ceb00d14d90e3e16cd6"
   }
  }
 },
 "nbformat": 4,
 "nbformat_minor": 2
}
