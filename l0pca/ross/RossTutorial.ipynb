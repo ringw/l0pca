{
 "cells": [
  {
   "cell_type": "markdown",
   "id": "12308348",
   "metadata": {},
   "source": [
    "# Batch Offline SVD of Feature Subsets\n",
    "\n",
    "The sparse PCA problem (L0 constraint) is a combinatorial optimization problem. We select k columns (k << n) as a subset of the data matrix, and try to maximize the PCA explained variance (the sum of squares of largest d singular values, d << n). We could greedily select features based on their variance or pairwise covariance (there are common greedy variance cutoffs, such as top 1000 features in bioinformatics). However, there is interplay between the pairwise covariances of 3 or more selected features (the squared singular values are the eigenvalues of the covariance matrix, and the eigenvalues can change dramatically by replacing one column). Sparse PCA with L0 constraint is NP-hard (Berk 2019).\n",
    "\n",
    "We won't change the asymptotic complexity of each SVD to be done, but we will apply a dramatic speed-up factor. Online algorithms would append data to the data matrix frequently (Ross 2008). To improve on a full recalculation, the update must be orthogonalized using the SVD orthogonal matrices and applied directly to the singular values diagonal matrix. This was left up to the reader, but would have been written for the CPU and serially at the time. A GPU algorithm should be more flat (pack the sparse columns/diagonals into flat arrays, but then process batches in a multi-dimensional array).\n",
    "\n",
    "We chose bidiagonalization, but not preserving similarity, so that we maintain the sparsity level of the matrix all throughout the process. The bidiagonal matrix is not similar to the original Ross matrix, but its Gram matrix is similar to the Ross matrix's Gram matrix, and the Gram matrix will be tridiagonal (for QR algorithm solution).\n",
    "\n",
    "### References\n",
    "\n",
    "Berk, Lauren, and Dimitris Bertsimas. \"Certifiably optimal sparse principal component analysis.\" *Mathematical Programming Computation* 11.3 (2019): 381-420.\n",
    "\n",
    "Ross, David A., et al. \"Incremental learning for robust visual tracking.\" *International journal of computer vision* 77.1 (2008): 125-141."
   ]
  },
  {
   "cell_type": "code",
   "execution_count": 1,
   "id": "30ccd0e9",
   "metadata": {},
   "outputs": [],
   "source": [
    "from l0pca.ross import bidiagonal_reference, dense_blocks\n",
    "import numpy as np\n",
    "import matplotlib.colors\n",
    "import matplotlib.pyplot as plt"
   ]
  },
  {
   "cell_type": "code",
   "execution_count": 2,
   "id": "f45e34df",
   "metadata": {},
   "outputs": [],
   "source": [
    "mat = bidiagonal_reference.sparse_to_dense(dense_blocks.new_random_matrices(1, 7))"
   ]
  },
  {
   "cell_type": "markdown",
   "id": "5a10c597",
   "metadata": {},
   "source": [
    "# Ross Augmented Singular Values\n",
    "\n",
    "We have a subproblem SVD singular values (n-1) diagonal matrix. Then, we want to append to the data matrix. There is one dense column (norm of the projection of new data onto the subproblem singular vectors). The new diagonal represents a new orthogonal singular vector, and the norm of the new data along the orthogonalized basis vector."
   ]
  },
  {
   "cell_type": "code",
   "execution_count": 3,
   "id": "76ec21e7",
   "metadata": {},
   "outputs": [
    {
     "data": {
      "text/plain": [
       "<matplotlib.colorbar.Colorbar at 0x7f366cae7730>"
      ]
     },
     "execution_count": 3,
     "metadata": {},
     "output_type": "execute_result"
    },
    {
     "data": {
      "image/png": "[encoded data removed]",
      "text/plain": [
       "<Figure size 640x480 with 2 Axes>"
      ]
     },
     "metadata": {},
     "output_type": "display_data"
    }
   ],
   "source": [
    "plt.imshow(mat[0], norm=matplotlib.colors.LogNorm())\n",
    "plt.colorbar()"
   ]
  },
  {
   "cell_type": "markdown",
   "id": "eed174ab",
   "metadata": {},
   "source": [
    "# Bidiagonal Matrix\n",
    "\n",
    "This is an example schematic of the expected matrix. We use a decomposition A = U * B * V where B is bidiagonal."
   ]
  },
  {
   "cell_type": "code",
   "execution_count": 4,
   "id": "757a37f2",
   "metadata": {},
   "outputs": [
    {
     "data": {
      "text/plain": [
       "<matplotlib.image.AxesImage at 0x7f365c56f580>"
      ]
     },
     "execution_count": 4,
     "metadata": {},
     "output_type": "execute_result"
    },
    {
     "data": {
      "image/png": "[encoded data removed]",
      "text/plain": [
       "<Figure size 200x200 with 1 Axes>"
      ]
     },
     "metadata": {},
     "output_type": "display_data"
    }
   ],
   "source": [
    "n = 7\n",
    "schematic = np.eye(n)\n",
    "schematic[np.arange(n - 1), np.arange(1, n)] = 1\n",
    "plt.figure(figsize=(2, 2))\n",
    "plt.imshow(schematic)"
   ]
  },
  {
   "cell_type": "markdown",
   "id": "0968a87b",
   "metadata": {},
   "source": [
    "# Orthogonal Transformations\n",
    "\n",
    "Start with U and V as identity, and apply a 2D rotation to either adjacent rows element-wise, or adjacent columns element-wise. Our first goal is to rotate A_1n and A_2n so that A_1n goes to zero (starting to sparsify the appended dense column, and starting from the end that is far from the main diagonal). This is a rotation matrix that is applied elementwise to each column of A, so it must be multiplied on the LHS.\n",
    "\n",
    "As a side effect, we densified a 2x2 square along the diagonal, which are going to clean up next. In general, our data columns and singular values are already unique, so we are not going to get any cancellations. When we apply a rotation matrix to zero out one entry, any dimension that had only one entry along that location will now have both entries nonzero."
   ]
  },
  {
   "cell_type": "code",
   "execution_count": 5,
   "id": "98dcb069",
   "metadata": {},
   "outputs": [
    {
     "data": {
      "text/plain": [
       "<matplotlib.image.AxesImage at 0x7f365c5ad060>"
      ]
     },
     "execution_count": 5,
     "metadata": {},
     "output_type": "execute_result"
    },
    {
     "data": {
      "image/png": "[encoded data removed]",
      "text/plain": [
       "<Figure size 200x200 with 1 Axes>"
      ]
     },
     "metadata": {},
     "output_type": "display_data"
    }
   ],
   "source": [
    "schematic = np.eye(n)\n",
    "schematic[1:6, -1] = 1\n",
    "schematic[0:2, 0:2] = 1\n",
    "plt.figure(figsize=(2, 2))\n",
    "plt.imshow(schematic)"
   ]
  },
  {
   "cell_type": "markdown",
   "id": "2d9d1623",
   "metadata": {},
   "source": [
    "# Termination\n",
    "\n",
    "Clean up the diagonal, and keep the upper off-diagonal, using a rotation matrix from the RHS. We plan a rotation on entries A_21 and A_22, and then it is applied to every row in turn. We will see below that there will be intermediate steps between modifying the dense augmented column, and reaching this termination subroutine in the inner loop."
   ]
  },
  {
   "cell_type": "code",
   "execution_count": 6,
   "id": "ab33f0d9",
   "metadata": {},
   "outputs": [
    {
     "data": {
      "text/plain": [
       "<matplotlib.image.AxesImage at 0x7f365c3f6500>"
      ]
     },
     "execution_count": 6,
     "metadata": {},
     "output_type": "execute_result"
    },
    {
     "data": {
      "image/png": "[encoded data removed]",
      "text/plain": [
       "<Figure size 200x200 with 1 Axes>"
      ]
     },
     "metadata": {},
     "output_type": "display_data"
    }
   ],
   "source": [
    "schematic = np.eye(n)\n",
    "schematic[1:6, -1] = 1\n",
    "schematic[0, 1] = 1\n",
    "plt.figure(figsize=(2, 2))\n",
    "plt.imshow(schematic)"
   ]
  },
  {
   "cell_type": "markdown",
   "id": "438a6449",
   "metadata": {},
   "source": [
    "# Initialize Next Diagonal\n",
    "\n",
    "The LHS rotation will always work similarly to the first one. We'll start highlighting the entries that are read and written on the current step. We will write back to the sparse storage (diagonal array, off-diagonal +1 array, augmented column array). We finish this operation immediately because it will take more than one step to resolve the element that is on the off-diagonal -1."
   ]
  },
  {
   "cell_type": "code",
   "execution_count": 7,
   "id": "60955745",
   "metadata": {},
   "outputs": [
    {
     "data": {
      "text/plain": [
       "<matplotlib.image.AxesImage at 0x7f365c420820>"
      ]
     },
     "execution_count": 7,
     "metadata": {},
     "output_type": "execute_result"
    },
    {
     "data": {
      "image/png": "[encoded data removed]",
      "text/plain": [
       "<Figure size 400x200 with 2 Axes>"
      ]
     },
     "metadata": {},
     "output_type": "display_data"
    }
   ],
   "source": [
    "plt.figure(figsize=(4, 2))\n",
    "schematic = np.eye(n)\n",
    "schematic[1:6, -1] = 1\n",
    "schematic[0, 1] = 1\n",
    "schematic[1:3, 1:3] -= 0.2\n",
    "schematic[1:3, -1] -= 0.2\n",
    "plt.subplot(1, 2, 1)\n",
    "plt.imshow(schematic)\n",
    "plt.subplot(1, 2, 2)\n",
    "schematic[1, -1] -= 1\n",
    "schematic[1, 2] += 1\n",
    "schematic[2, 1] += 1\n",
    "plt.imshow(schematic)"
   ]
  },
  {
   "cell_type": "markdown",
   "id": "76e045bc",
   "metadata": {},
   "source": [
    "# Inner Loop\n",
    "\n",
    "Now, we start slicing 3 data rows into our storage on each read/write, because the number of nonzero entries in the current column has increased. We apply an RHS rotation where columns 2 and 3 are non-identity, followed by an LHS rotation where rows 1 and 2 are non-identity. Write the 3 rows of data back, and decrement an inner loop counter by 1 until the local variable (off-diagonal entry storage) reaches row 2. Then, we can apply the termination subroutine."
   ]
  },
  {
   "cell_type": "code",
   "execution_count": 8,
   "id": "c4fce96e",
   "metadata": {},
   "outputs": [
    {
     "data": {
      "text/plain": [
       "<matplotlib.image.AxesImage at 0x7f365c2e15d0>"
      ]
     },
     "execution_count": 8,
     "metadata": {},
     "output_type": "execute_result"
    },
    {
     "data": {
      "image/png": "[encoded data removed]",
      "text/plain": [
       "<Figure size 600x200 with 3 Axes>"
      ]
     },
     "metadata": {},
     "output_type": "display_data"
    }
   ],
   "source": [
    "plt.figure(figsize=(6, 2))\n",
    "schematic = np.eye(n)\n",
    "schematic[2:6, -1] = 1\n",
    "schematic[range(0, 2), range(1, 3)] = 1\n",
    "schematic[2, 1] = 1\n",
    "schematic[0:3, 0:3] -= 0.2\n",
    "schematic[0:3, -1] -= 0.2\n",
    "plt.subplot(1, 3, 1)\n",
    "plt.imshow(schematic)\n",
    "plt.subplot(1, 3, 2)\n",
    "schematic[2, 1] -= 1\n",
    "schematic[0, 2] += 1\n",
    "plt.imshow(schematic)\n",
    "plt.subplot(1, 3, 3)\n",
    "schematic[0, 2] -= 1\n",
    "schematic[1, 0] += 1\n",
    "plt.imshow(schematic)"
   ]
  },
  {
   "cell_type": "markdown",
   "id": "6ea890c2",
   "metadata": {},
   "source": [
    "# Time Complexity\n",
    "\n",
    "For convenience purposes, this scheme uses O(1) additional storage and O(n^2) time (for each row in turn to become bidiagonalized, the number of operations ramps up from ~1 to ~n).\n",
    "\n",
    "With increased code complexity, we could permit 2 of the localy modified entries which we described (which are on either the -1 off-diagonal or the +2 off-diagonal) to coexist. Then, we would probably find a way to rotate one such cell down to zero without making any new cell nonzero (reducing the number of non-bidiagonal entries from n to n - 1). This could improve time complexity to O(n). However, when computing this SVD subproblem, we have always started with a main matrix which is O(m * n), and we usually choose n as the smaller dimension, so we accept O(n^2) time complexity here."
   ]
  },
  {
   "cell_type": "markdown",
   "id": "10d35337",
   "metadata": {},
   "source": [
    "# Reference Implementation\n",
    "\n",
    "NumPy arrays were chosen for a reference implementation because they are mutable. In TensorFlow, making many inner-loop updates in matrix form may cut into performance gains on more typical projects. The packed slices of immutable data that are sliced out in the production TensorFlow implementation will be documented elsewhere."
   ]
  },
  {
   "cell_type": "code",
   "execution_count": 9,
   "id": "9733e499",
   "metadata": {},
   "outputs": [],
   "source": [
    "import importlib\n",
    "bidiagonal_reference = importlib.reload(bidiagonal_reference)\n",
    "mat = bidiagonal_reference.sparse_to_dense(dense_blocks.new_random_matrices(1, 7))"
   ]
  },
  {
   "cell_type": "code",
   "execution_count": 10,
   "id": "2481188f",
   "metadata": {},
   "outputs": [
    {
     "data": {
      "text/plain": [
       "<matplotlib.colorbar.Colorbar at 0x7f365c1ef430>"
      ]
     },
     "execution_count": 10,
     "metadata": {},
     "output_type": "execute_result"
    },
    {
     "data": {
      "image/png": "[encoded data removed]",
      "text/plain": [
       "<Figure size 640x480 with 2 Axes>"
      ]
     },
     "metadata": {},
     "output_type": "display_data"
    }
   ],
   "source": [
    "mat = bidiagonal_reference.update_augmented(mat, 0)\n",
    "plt.imshow(np.abs(mat[0, :, :]), norm=matplotlib.colors.LogNorm())\n",
    "plt.colorbar()"
   ]
  },
  {
   "cell_type": "code",
   "execution_count": 11,
   "id": "4df4b44a",
   "metadata": {},
   "outputs": [
    {
     "data": {
      "text/plain": [
       "<matplotlib.colorbar.Colorbar at 0x7f365c03c8b0>"
      ]
     },
     "execution_count": 11,
     "metadata": {},
     "output_type": "execute_result"
    },
    {
     "data": {
      "image/png": "[encoded data removed]",
      "text/plain": [
       "<Figure size 640x480 with 2 Axes>"
      ]
     },
     "metadata": {},
     "output_type": "display_data"
    }
   ],
   "source": [
    "mat = bidiagonal_reference.terminate_temp_value(mat)\n",
    "plt.imshow(np.abs(mat[0, :, :]), norm=matplotlib.colors.LogNorm())\n",
    "plt.colorbar()"
   ]
  },
  {
   "cell_type": "code",
   "execution_count": 12,
   "id": "fcae5d72",
   "metadata": {},
   "outputs": [
    {
     "data": {
      "text/plain": [
       "<matplotlib.colorbar.Colorbar at 0x7f365be64e50>"
      ]
     },
     "execution_count": 12,
     "metadata": {},
     "output_type": "execute_result"
    },
    {
     "data": {
      "image/png": "[encoded data removed]",
      "text/plain": [
       "<Figure size 640x480 with 2 Axes>"
      ]
     },
     "metadata": {},
     "output_type": "display_data"
    }
   ],
   "source": [
    "mat = bidiagonal_reference.update_augmented(mat, 1)\n",
    "plt.imshow(np.abs(mat[0, :, :]), norm=matplotlib.colors.LogNorm())\n",
    "plt.colorbar()"
   ]
  },
  {
   "cell_type": "code",
   "execution_count": 13,
   "id": "34dea6de",
   "metadata": {},
   "outputs": [
    {
     "data": {
      "text/plain": [
       "<matplotlib.colorbar.Colorbar at 0x7f365bda6a70>"
      ]
     },
     "execution_count": 13,
     "metadata": {},
     "output_type": "execute_result"
    },
    {
     "data": {
      "image/png": "[encoded data removed]",
      "text/plain": [
       "<Figure size 640x480 with 2 Axes>"
      ]
     },
     "metadata": {},
     "output_type": "display_data"
    }
   ],
   "source": [
    "mat = bidiagonal_reference.step_temp_cell(mat, 2, 1)\n",
    "plt.imshow(np.abs(mat[0, :, :]), norm=matplotlib.colors.LogNorm())\n",
    "plt.colorbar()"
   ]
  },
  {
   "cell_type": "code",
   "execution_count": 14,
   "id": "1df3cf81",
   "metadata": {},
   "outputs": [
    {
     "data": {
      "text/plain": [
       "<matplotlib.colorbar.Colorbar at 0x7f365c4c7550>"
      ]
     },
     "execution_count": 14,
     "metadata": {},
     "output_type": "execute_result"
    },
    {
     "data": {
      "image/png": "[encoded data removed]",
      "text/plain": [
       "<Figure size 640x480 with 2 Axes>"
      ]
     },
     "metadata": {},
     "output_type": "display_data"
    }
   ],
   "source": [
    "mat = bidiagonal_reference.terminate_temp_value(mat)\n",
    "plt.imshow(np.abs(mat[0, :, :]), norm=matplotlib.colors.LogNorm())\n",
    "plt.colorbar()"
   ]
  },
  {
   "cell_type": "code",
   "execution_count": 15,
   "id": "14a73586",
   "metadata": {},
   "outputs": [
    {
     "name": "stderr",
     "output_type": "stream",
     "text": [
      "2022-11-05 18:07:01.231266: I tensorflow/core/platform/cpu_feature_guard.cc:193] This TensorFlow binary is optimized with oneAPI Deep Neural Network Library (oneDNN) to use the following CPU instructions in performance-critical operations:  AVX2 AVX512F AVX512_VNNI FMA\n",
      "To enable them in other operations, rebuild TensorFlow with the appropriate compiler flags.\n",
      "2022-11-05 18:07:01.352029: I tensorflow/core/util/util.cc:169] oneDNN custom operations are on. You may see slightly different numerical results due to floating-point round-off errors from different computation orders. To turn them off, set the environment variable `TF_ENABLE_ONEDNN_OPTS=0`.\n",
      "2022-11-05 18:07:01.373812: E tensorflow/stream_executor/cuda/cuda_blas.cc:2981] Unable to register cuBLAS factory: Attempting to register factory for plugin cuBLAS when one has already been registered\n",
      "2022-11-05 18:07:01.789170: W tensorflow/stream_executor/platform/default/dso_loader.cc:64] Could not load dynamic library 'libnvinfer.so.7'; dlerror: libnvinfer.so.7: cannot open shared object file: No such file or directory\n",
      "2022-11-05 18:07:01.789259: W tensorflow/stream_executor/platform/default/dso_loader.cc:64] Could not load dynamic library 'libnvinfer_plugin.so.7'; dlerror: libnvinfer_plugin.so.7: cannot open shared object file: No such file or directory\n",
      "2022-11-05 18:07:01.789264: W tensorflow/compiler/tf2tensorrt/utils/py_utils.cc:38] TF-TRT Warning: Cannot dlopen some TensorRT libraries. If you would like to use Nvidia GPU with TensorRT, please make sure the missing libraries mentioned above are installed properly.\n"
     ]
    }
   ],
   "source": [
    "from l0pca.ross import bidiagonal_packed"
   ]
  },
  {
   "cell_type": "code",
   "execution_count": 16,
   "id": "b20006e6",
   "metadata": {},
   "outputs": [
    {
     "name": "stderr",
     "output_type": "stream",
     "text": [
      "2022-11-05 18:07:02.470646: I tensorflow/stream_executor/cuda/cuda_gpu_executor.cc:966] could not open file to read NUMA node: /sys/bus/pci/devices/0000:01:00.0/numa_node\n",
      "Your kernel may have been built without NUMA support.\n",
      "2022-11-05 18:07:02.491797: I tensorflow/stream_executor/cuda/cuda_gpu_executor.cc:966] could not open file to read NUMA node: /sys/bus/pci/devices/0000:01:00.0/numa_node\n",
      "Your kernel may have been built without NUMA support.\n",
      "2022-11-05 18:07:02.492398: I tensorflow/stream_executor/cuda/cuda_gpu_executor.cc:966] could not open file to read NUMA node: /sys/bus/pci/devices/0000:01:00.0/numa_node\n",
      "Your kernel may have been built without NUMA support.\n",
      "2022-11-05 18:07:02.492846: I tensorflow/core/platform/cpu_feature_guard.cc:193] This TensorFlow binary is optimized with oneAPI Deep Neural Network Library (oneDNN) to use the following CPU instructions in performance-critical operations:  AVX2 AVX512F AVX512_VNNI FMA\n",
      "To enable them in other operations, rebuild TensorFlow with the appropriate compiler flags.\n",
      "2022-11-05 18:07:02.494249: I tensorflow/stream_executor/cuda/cuda_gpu_executor.cc:966] could not open file to read NUMA node: /sys/bus/pci/devices/0000:01:00.0/numa_node\n",
      "Your kernel may have been built without NUMA support.\n",
      "2022-11-05 18:07:02.494754: I tensorflow/stream_executor/cuda/cuda_gpu_executor.cc:966] could not open file to read NUMA node: /sys/bus/pci/devices/0000:01:00.0/numa_node\n",
      "Your kernel may have been built without NUMA support.\n",
      "2022-11-05 18:07:02.495264: I tensorflow/stream_executor/cuda/cuda_gpu_executor.cc:966] could not open file to read NUMA node: /sys/bus/pci/devices/0000:01:00.0/numa_node\n",
      "Your kernel may have been built without NUMA support.\n",
      "2022-11-05 18:07:03.008614: I tensorflow/stream_executor/cuda/cuda_gpu_executor.cc:966] could not open file to read NUMA node: /sys/bus/pci/devices/0000:01:00.0/numa_node\n",
      "Your kernel may have been built without NUMA support.\n",
      "2022-11-05 18:07:03.009030: I tensorflow/stream_executor/cuda/cuda_gpu_executor.cc:966] could not open file to read NUMA node: /sys/bus/pci/devices/0000:01:00.0/numa_node\n",
      "Your kernel may have been built without NUMA support.\n",
      "2022-11-05 18:07:03.009042: I tensorflow/core/common_runtime/gpu/gpu_device.cc:1700] Could not identify NUMA node of platform GPU id 0, defaulting to 0.  Your kernel may not have been built with NUMA support.\n",
      "2022-11-05 18:07:03.009321: I tensorflow/stream_executor/cuda/cuda_gpu_executor.cc:966] could not open file to read NUMA node: /sys/bus/pci/devices/0000:01:00.0/numa_node\n",
      "Your kernel may have been built without NUMA support.\n",
      "2022-11-05 18:07:03.009359: I tensorflow/core/common_runtime/gpu/gpu_device.cc:1616] Created device /job:localhost/replica:0/task:0/device:GPU:0 with 6002 MB memory:  -> device: 0, name: NVIDIA T1000 8GB, pci bus id: 0000:01:00.0, compute capability: 7.5\n",
      "2022-11-05 18:07:03.925425: I tensorflow/compiler/xla/service/service.cc:173] XLA service 0x7f34dc009e20 initialized for platform CUDA (this does not guarantee that XLA will be used). Devices:\n",
      "2022-11-05 18:07:03.925476: I tensorflow/compiler/xla/service/service.cc:181]   StreamExecutor device (0): NVIDIA T1000 8GB, Compute Capability 7.5\n",
      "2022-11-05 18:07:03.949491: I tensorflow/compiler/mlir/tensorflow/utils/dump_mlir_util.cc:268] disabling MLIR crash reproducer, set env var `MLIR_CRASH_REPRODUCER_DIRECTORY` to enable.\n",
      "2022-11-05 18:07:04.453353: I tensorflow/core/platform/default/subprocess.cc:304] Start cannot spawn child process: No such file or directory\n",
      "2022-11-05 18:07:07.578200: I tensorflow/compiler/jit/xla_compilation_cache.cc:476] Compiled cluster using XLA!  This line is logged at most once for the lifetime of the process.\n"
     ]
    },
    {
     "name": "stdout",
     "output_type": "stream",
     "text": [
      "CPU times: user 13.5 s, sys: 688 ms, total: 14.2 s\n",
      "Wall time: 15.7 s\n"
     ]
    },
    {
     "data": {
      "text/plain": [
       "TensorShape([1048576, 3, 9])"
      ]
     },
     "execution_count": 16,
     "metadata": {},
     "output_type": "execute_result"
    }
   ],
   "source": [
    "%%time\n",
    "mat = dense_blocks.new_random_matrices(1024 * 1024, 9)\n",
    "bidiagonal_packed.diagonalize_packed_storage(mat)[0].shape"
   ]
  },
  {
   "cell_type": "code",
   "execution_count": 17,
   "id": "5cb4dbf6",
   "metadata": {},
   "outputs": [
    {
     "name": "stdout",
     "output_type": "stream",
     "text": [
      "884 ms ± 8.79 ms per loop (mean ± std. dev. of 7 runs, 1 loop each)\n"
     ]
    }
   ],
   "source": [
    "%timeit bidiagonal_packed.diagonalize_packed_storage(mat)[0].shape"
   ]
  },
  {
   "cell_type": "code",
   "execution_count": 18,
   "id": "e0b3ddd4",
   "metadata": {},
   "outputs": [
    {
     "name": "stdout",
     "output_type": "stream",
     "text": [
      "CPU times: user 2.84 s, sys: 90.2 ms, total: 2.93 s\n",
      "Wall time: 4.13 s\n"
     ]
    },
    {
     "data": {
      "text/plain": [
       "TensorShape([1048576, 3, 8])"
      ]
     },
     "execution_count": 18,
     "metadata": {},
     "output_type": "execute_result"
    }
   ],
   "source": [
    "%%time\n",
    "mat = dense_blocks.new_random_matrices(1024 * 1024, 8)\n",
    "bidiagonal_packed.diagonalize_packed_storage(mat)[0].shape"
   ]
  },
  {
   "cell_type": "code",
   "execution_count": 19,
   "id": "85d28203",
   "metadata": {},
   "outputs": [
    {
     "name": "stdout",
     "output_type": "stream",
     "text": [
      "615 ms ± 1.39 ms per loop (mean ± std. dev. of 7 runs, 1 loop each)\n"
     ]
    }
   ],
   "source": [
    "%timeit bidiagonal_packed.diagonalize_packed_storage(mat)[0].shape"
   ]
  },
  {
   "cell_type": "code",
   "execution_count": 20,
   "id": "84ec81d1",
   "metadata": {},
   "outputs": [
    {
     "name": "stdout",
     "output_type": "stream",
     "text": [
      "CPU times: user 1.78 s, sys: 42.4 ms, total: 1.83 s\n",
      "Wall time: 2.66 s\n"
     ]
    },
    {
     "data": {
      "text/plain": [
       "TensorShape([1048576, 3, 6])"
      ]
     },
     "execution_count": 20,
     "metadata": {},
     "output_type": "execute_result"
    }
   ],
   "source": [
    "%%time\n",
    "mat = dense_blocks.new_random_matrices(1024 * 1024, 6)\n",
    "bidiagonal_packed.diagonalize_packed_storage(mat)[0].shape"
   ]
  },
  {
   "cell_type": "code",
   "execution_count": 21,
   "id": "dbbe34fd",
   "metadata": {},
   "outputs": [
    {
     "name": "stdout",
     "output_type": "stream",
     "text": [
      "260 ms ± 1.2 ms per loop (mean ± std. dev. of 7 runs, 1 loop each)\n"
     ]
    }
   ],
   "source": [
    "%timeit bidiagonal_packed.diagonalize_packed_storage(mat)[0].shape"
   ]
  },
  {
   "cell_type": "markdown",
   "id": "05bc153c",
   "metadata": {},
   "source": [
    "## Comparison: Full SVD recalculation performance\n",
    "\n",
    "Notes: Our bidiagonal matrix requires additional steps (Gram matrix, QR algorithm). Also, there is an intermediate custom solution with minimal code (Gram matrix of original matrix from Ross; built-in eigh method). Therefore, the custom orthogonalization code may be responsible for about a 2X speedup (in user-level code, evaluated against state-of-the-art GpuSolver)."
   ]
  },
  {
   "cell_type": "code",
   "execution_count": 23,
   "id": "49457f4b",
   "metadata": {},
   "outputs": [],
   "source": [
    "import tensorflow as tf"
   ]
  },
  {
   "cell_type": "code",
   "execution_count": 24,
   "id": "a10c7c9c",
   "metadata": {},
   "outputs": [
    {
     "name": "stderr",
     "output_type": "stream",
     "text": [
      "2022-11-05 18:20:07.193769: I tensorflow/core/util/cuda_solvers.cc:179] Creating GpuSolver handles for stream 0x8b63a90\n"
     ]
    },
    {
     "name": "stdout",
     "output_type": "stream",
     "text": [
      "4.24 s ± 28.4 ms per loop (mean ± std. dev. of 7 runs, 1 loop each)\n"
     ]
    }
   ],
   "source": [
    "%timeit tf.linalg.svd(bidiagonal_reference.sparse_to_dense(mat))"
   ]
  },
  {
   "cell_type": "code",
   "execution_count": null,
   "id": "2f8cff1c",
   "metadata": {},
   "outputs": [],
   "source": []
  }
 ],
 "metadata": {
  "kernelspec": {
   "display_name": "Python 3 (ipykernel)",
   "language": "python",
   "name": "python3"
  },
  "language_info": {
   "codemirror_mode": {
    "name": "ipython",
    "version": 3
   },
   "file_extension": ".py",
   "mimetype": "text/x-python",
   "name": "python",
   "nbconvert_exporter": "python",
   "pygments_lexer": "ipython3",
   "version": "3.10.6"
  }
 },
 "nbformat": 4,
 "nbformat_minor": 5
}
