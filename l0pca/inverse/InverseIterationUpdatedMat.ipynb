{
 "cells": [
  {
   "cell_type": "code",
   "execution_count": 2,
   "id": "676fcf46",
   "metadata": {},
   "outputs": [],
   "source": [
    "import numpy as np\n",
    "np.set_printoptions(precision = 3, linewidth = 150)"
   ]
  },
  {
   "cell_type": "code",
   "execution_count": 3,
   "id": "b30a4ef7",
   "metadata": {},
   "outputs": [
    {
     "name": "stdout",
     "output_type": "stream",
     "text": [
      "(20, 20) float32\n"
     ]
    }
   ],
   "source": [
    "np.random.seed(4)\n",
    "counts = np.repeat(\n",
    "    np.arange(5, 10),\n",
    "    [8, 4, 4, 3, 1])\n",
    "data = np.random.poisson(counts[None, :], [100, 20]).astype(np.float32)\n",
    "data -= np.mean(data, axis=0)\n",
    "cov = np.cov(data.T).astype(np.float32)\n",
    "print('{} {}'.format(cov.shape, cov.dtype))"
   ]
  },
  {
   "cell_type": "code",
   "execution_count": 4,
   "id": "63594b34",
   "metadata": {},
   "outputs": [
    {
     "data": {
      "text/plain": [
       "array([[1.646, 0.   , 0.   , 0.   , 0.   , 0.   , 0.   , 0.   , 0.   ],\n",
       "       [0.   , 1.762, 0.   , 0.   , 0.   , 0.   , 0.   , 0.   , 0.   ],\n",
       "       [0.   , 0.   , 1.966, 0.   , 0.   , 0.   , 0.   , 0.   , 0.   ],\n",
       "       [0.   , 0.   , 0.   , 2.06 , 0.   , 0.   , 0.   , 0.   , 0.   ],\n",
       "       [0.   , 0.   , 0.   , 0.   , 2.176, 0.   , 0.   , 0.   , 0.   ],\n",
       "       [0.   , 0.   , 0.   , 0.   , 0.   , 2.313, 0.   , 0.   , 0.   ],\n",
       "       [0.   , 0.   , 0.   , 0.   , 0.   , 0.   , 2.411, 0.   , 0.   ],\n",
       "       [0.   , 0.   , 0.   , 0.   , 0.   , 0.   , 0.   , 2.569, 0.   ],\n",
       "       [0.   , 0.   , 0.   , 0.   , 0.   , 0.   , 0.   , 0.   , 0.   ]])"
      ]
     },
     "execution_count": 4,
     "metadata": {},
     "output_type": "execute_result"
    }
   ],
   "source": [
    "A = np.diag(np.linalg.eigh(cov[:8, :8])[0])\n",
    "A_n = np.c_[np.r_[np.sqrt(A), np.zeros_like(A[0:1, :])], np.zeros([A.shape[0]+1,1])]\n",
    "A_n"
   ]
  },
  {
   "cell_type": "code",
   "execution_count": 5,
   "id": "654757f8",
   "metadata": {},
   "outputs": [
    {
     "name": "stderr",
     "output_type": "stream",
     "text": [
      "2022-11-13 07:44:14.337738: I tensorflow/core/platform/cpu_feature_guard.cc:193] This TensorFlow binary is optimized with oneAPI Deep Neural Network Library (oneDNN) to use the following CPU instructions in performance-critical operations:  AVX2 AVX512F AVX512_VNNI FMA\n",
      "To enable them in other operations, rebuild TensorFlow with the appropriate compiler flags.\n",
      "2022-11-13 07:44:14.424924: I tensorflow/core/util/util.cc:169] oneDNN custom operations are on. You may see slightly different numerical results due to floating-point round-off errors from different computation orders. To turn them off, set the environment variable `TF_ENABLE_ONEDNN_OPTS=0`.\n",
      "2022-11-13 07:44:14.447651: E tensorflow/stream_executor/cuda/cuda_blas.cc:2981] Unable to register cuBLAS factory: Attempting to register factory for plugin cuBLAS when one has already been registered\n",
      "2022-11-13 07:44:14.788378: W tensorflow/stream_executor/platform/default/dso_loader.cc:64] Could not load dynamic library 'libnvinfer.so.7'; dlerror: libnvinfer.so.7: cannot open shared object file: No such file or directory; LD_LIBRARY_PATH: /opt/nvidia/nsight-systems/2022.4.2/target-linux-x64\n",
      "2022-11-13 07:44:14.788451: W tensorflow/stream_executor/platform/default/dso_loader.cc:64] Could not load dynamic library 'libnvinfer_plugin.so.7'; dlerror: libnvinfer_plugin.so.7: cannot open shared object file: No such file or directory; LD_LIBRARY_PATH: /opt/nvidia/nsight-systems/2022.4.2/target-linux-x64\n",
      "2022-11-13 07:44:14.788457: W tensorflow/compiler/tf2tensorrt/utils/py_utils.cc:38] TF-TRT Warning: Cannot dlopen some TensorRT libraries. If you would like to use Nvidia GPU with TensorRT, please make sure the missing libraries mentioned above are installed properly.\n"
     ]
    }
   ],
   "source": [
    "from l0pca.bunch import rank_one_update"
   ]
  },
  {
   "cell_type": "code",
   "execution_count": 6,
   "id": "509f1250",
   "metadata": {},
   "outputs": [
    {
     "name": "stderr",
     "output_type": "stream",
     "text": [
      "2022-11-13 07:44:15.300295: I tensorflow/stream_executor/cuda/cuda_gpu_executor.cc:966] could not open file to read NUMA node: /sys/bus/pci/devices/0000:01:00.0/numa_node\n",
      "Your kernel may have been built without NUMA support.\n",
      "2022-11-13 07:44:15.315160: I tensorflow/stream_executor/cuda/cuda_gpu_executor.cc:966] could not open file to read NUMA node: /sys/bus/pci/devices/0000:01:00.0/numa_node\n",
      "Your kernel may have been built without NUMA support.\n",
      "2022-11-13 07:44:15.315867: I tensorflow/stream_executor/cuda/cuda_gpu_executor.cc:966] could not open file to read NUMA node: /sys/bus/pci/devices/0000:01:00.0/numa_node\n",
      "Your kernel may have been built without NUMA support.\n",
      "2022-11-13 07:44:15.316697: I tensorflow/core/platform/cpu_feature_guard.cc:193] This TensorFlow binary is optimized with oneAPI Deep Neural Network Library (oneDNN) to use the following CPU instructions in performance-critical operations:  AVX2 AVX512F AVX512_VNNI FMA\n",
      "To enable them in other operations, rebuild TensorFlow with the appropriate compiler flags.\n",
      "2022-11-13 07:44:15.320009: I tensorflow/stream_executor/cuda/cuda_gpu_executor.cc:966] could not open file to read NUMA node: /sys/bus/pci/devices/0000:01:00.0/numa_node\n",
      "Your kernel may have been built without NUMA support.\n",
      "2022-11-13 07:44:15.320720: I tensorflow/stream_executor/cuda/cuda_gpu_executor.cc:966] could not open file to read NUMA node: /sys/bus/pci/devices/0000:01:00.0/numa_node\n",
      "Your kernel may have been built without NUMA support.\n",
      "2022-11-13 07:44:15.321422: I tensorflow/stream_executor/cuda/cuda_gpu_executor.cc:966] could not open file to read NUMA node: /sys/bus/pci/devices/0000:01:00.0/numa_node\n",
      "Your kernel may have been built without NUMA support.\n",
      "2022-11-13 07:44:15.794311: I tensorflow/stream_executor/cuda/cuda_gpu_executor.cc:966] could not open file to read NUMA node: /sys/bus/pci/devices/0000:01:00.0/numa_node\n",
      "Your kernel may have been built without NUMA support.\n",
      "2022-11-13 07:44:15.794915: I tensorflow/stream_executor/cuda/cuda_gpu_executor.cc:966] could not open file to read NUMA node: /sys/bus/pci/devices/0000:01:00.0/numa_node\n",
      "Your kernel may have been built without NUMA support.\n",
      "2022-11-13 07:44:15.794926: I tensorflow/core/common_runtime/gpu/gpu_device.cc:1700] Could not identify NUMA node of platform GPU id 0, defaulting to 0.  Your kernel may not have been built with NUMA support.\n",
      "2022-11-13 07:44:15.795447: I tensorflow/stream_executor/cuda/cuda_gpu_executor.cc:966] could not open file to read NUMA node: /sys/bus/pci/devices/0000:01:00.0/numa_node\n",
      "Your kernel may have been built without NUMA support.\n",
      "2022-11-13 07:44:15.795492: I tensorflow/core/common_runtime/gpu/gpu_device.cc:1616] Created device /job:localhost/replica:0/task:0/device:GPU:0 with 6002 MB memory:  -> device: 0, name: NVIDIA T1000 8GB, pci bus id: 0000:01:00.0, compute capability: 7.5\n"
     ]
    },
    {
     "data": {
      "text/plain": [
       "array([-0.277,  0.369,  0.099, -0.182,  0.116, -0.006,  0.37 , -0.273,  2.23 ], dtype=float32)"
      ]
     },
     "execution_count": 6,
     "metadata": {},
     "output_type": "execute_result"
    }
   ],
   "source": [
    "update_aug = rank_one_update.create_update_append_column(\n",
    "    np.arange(8), np.sqrt(np.diagonal(A)),\n",
    "    np.linalg.eigh(cov[:8, :8])[1], 8, cov,\n",
    "    np.linalg.norm(data, axis=0), 100).numpy()\n",
    "update_aug = np.concatenate([update_aug[1:], update_aug[0:1]])\n",
    "update_aug"
   ]
  },
  {
   "cell_type": "code",
   "execution_count": 7,
   "id": "4cd2e077",
   "metadata": {},
   "outputs": [
    {
     "data": {
      "text/plain": [
       "array([[ 1.646,  0.   ,  0.   ,  0.   ,  0.   ,  0.   ,  0.   ,  0.   , -0.277],\n",
       "       [ 0.   ,  1.762,  0.   ,  0.   ,  0.   ,  0.   ,  0.   ,  0.   ,  0.369],\n",
       "       [ 0.   ,  0.   ,  1.966,  0.   ,  0.   ,  0.   ,  0.   ,  0.   ,  0.099],\n",
       "       [ 0.   ,  0.   ,  0.   ,  2.06 ,  0.   ,  0.   ,  0.   ,  0.   , -0.182],\n",
       "       [ 0.   ,  0.   ,  0.   ,  0.   ,  2.176,  0.   ,  0.   ,  0.   ,  0.116],\n",
       "       [ 0.   ,  0.   ,  0.   ,  0.   ,  0.   ,  2.313,  0.   ,  0.   , -0.006],\n",
       "       [ 0.   ,  0.   ,  0.   ,  0.   ,  0.   ,  0.   ,  2.411,  0.   ,  0.37 ],\n",
       "       [ 0.   ,  0.   ,  0.   ,  0.   ,  0.   ,  0.   ,  0.   ,  2.569, -0.273],\n",
       "       [ 0.   ,  0.   ,  0.   ,  0.   ,  0.   ,  0.   ,  0.   ,  0.   ,  2.23 ]])"
      ]
     },
     "execution_count": 7,
     "metadata": {},
     "output_type": "execute_result"
    }
   ],
   "source": [
    "A_aug_full = A_n.copy()\n",
    "A_aug_full[:, -1] = update_aug\n",
    "A_aug_full"
   ]
  },
  {
   "cell_type": "code",
   "execution_count": 8,
   "id": "90fba285",
   "metadata": {},
   "outputs": [
    {
     "data": {
      "text/plain": [
       "True"
      ]
     },
     "execution_count": 8,
     "metadata": {},
     "output_type": "execute_result"
    }
   ],
   "source": [
    "np.allclose(\n",
    "    A_n ** 2 + update_aug[:, None] * update_aug[None, :],\n",
    "    A_aug_full.dot(A_aug_full.T))"
   ]
  },
  {
   "cell_type": "code",
   "execution_count": 9,
   "id": "45dfe0d0",
   "metadata": {},
   "outputs": [
    {
     "data": {
      "text/plain": [
       "True"
      ]
     },
     "execution_count": 9,
     "metadata": {},
     "output_type": "execute_result"
    }
   ],
   "source": [
    "import scipy.linalg\n",
    "V = scipy.linalg.block_diag(\n",
    "    np.linalg.eigh(cov[:8, :8])[1],\n",
    "    [[1.]]\n",
    ")\n",
    "np.allclose(np.linalg.inv(V), V.T)"
   ]
  },
  {
   "cell_type": "code",
   "execution_count": 10,
   "id": "df9c5f97",
   "metadata": {},
   "outputs": [
    {
     "data": {
      "text/plain": [
       "array([[ 4.614, -0.122,  0.111,  0.114,  0.107, -0.435,  0.381,  0.306,  0.   ],\n",
       "       [-0.122,  3.981, -0.14 ,  0.112,  0.508, -0.22 ,  0.381, -0.223,  0.   ],\n",
       "       [ 0.111, -0.14 ,  4.991, -0.181, -0.108, -0.018, -0.447,  0.232,  0.   ],\n",
       "       [ 0.114,  0.112, -0.181,  3.826, -0.44 ,  0.688,  0.74 , -0.498,  0.   ],\n",
       "       [ 0.107,  0.508, -0.108, -0.44 ,  4.499, -1.116, -0.232, -0.686,  0.   ],\n",
       "       [-0.435, -0.22 , -0.018,  0.688, -1.116,  5.277, -0.843, -0.234,  0.   ],\n",
       "       [ 0.381,  0.381, -0.447,  0.74 , -0.232, -0.843,  4.29 , -0.207,  0.   ],\n",
       "       [ 0.306, -0.223,  0.232, -0.498, -0.686, -0.234, -0.207,  4.937,  0.   ],\n",
       "       [ 0.   ,  0.   ,  0.   ,  0.   ,  0.   ,  0.   ,  0.   ,  0.   ,  0.   ]])"
      ]
     },
     "execution_count": 10,
     "metadata": {},
     "output_type": "execute_result"
    }
   ],
   "source": [
    "V.dot(A_n ** 2).dot(V.T)"
   ]
  },
  {
   "cell_type": "code",
   "execution_count": 11,
   "id": "fc3a4c3e",
   "metadata": {},
   "outputs": [
    {
     "data": {
      "text/plain": [
       "array([[ 4.614, -0.122,  0.111,  0.114,  0.107, -0.435,  0.381,  0.306,  0.065],\n",
       "       [-0.122,  3.981, -0.14 ,  0.112,  0.508, -0.22 ,  0.381, -0.223,  0.348],\n",
       "       [ 0.111, -0.14 ,  4.991, -0.181, -0.108, -0.018, -0.447,  0.232,  0.317],\n",
       "       [ 0.114,  0.112, -0.181,  3.826, -0.44 ,  0.688,  0.74 , -0.498, -1.116],\n",
       "       [ 0.107,  0.508, -0.108, -0.44 ,  4.499, -1.116, -0.232, -0.686,  0.017],\n",
       "       [-0.435, -0.22 , -0.018,  0.688, -1.116,  5.277, -0.843, -0.234, -0.588],\n",
       "       [ 0.381,  0.381, -0.447,  0.74 , -0.232, -0.843,  4.29 , -0.207,  0.275],\n",
       "       [ 0.306, -0.223,  0.232, -0.498, -0.686, -0.234, -0.207,  4.937,  0.517],\n",
       "       [ 0.065,  0.348,  0.317, -1.116,  0.017, -0.588,  0.275,  0.517,  5.452]], dtype=float32)"
      ]
     },
     "execution_count": 11,
     "metadata": {},
     "output_type": "execute_result"
    }
   ],
   "source": [
    "cov[:9, :9]"
   ]
  },
  {
   "cell_type": "code",
   "execution_count": 12,
   "id": "e654ac69",
   "metadata": {},
   "outputs": [
    {
     "data": {
      "text/plain": [
       "array([[ 4.614, -0.119,  0.113,  0.104,  0.107, -0.439,  0.384,  0.31 ,  0.04 ],\n",
       "       [-0.119,  4.013, -0.116,  0.01 ,  0.502, -0.255,  0.412, -0.187,  0.4  ],\n",
       "       [ 0.113, -0.116,  5.01 , -0.259, -0.113, -0.045, -0.424,  0.259,  0.306],\n",
       "       [ 0.104,  0.01 , -0.259,  4.147, -0.423,  0.799,  0.644, -0.611, -1.263],\n",
       "       [ 0.107,  0.502, -0.113, -0.423,  4.5  , -1.109, -0.238, -0.692, -0.069],\n",
       "       [-0.439, -0.255, -0.045,  0.799, -1.109,  5.316, -0.877, -0.273, -0.438],\n",
       "       [ 0.384,  0.412, -0.424,  0.644, -0.238, -0.877,  4.319, -0.173,  0.377],\n",
       "       [ 0.31 , -0.187,  0.259, -0.611, -0.692, -0.273, -0.173,  4.977,  0.445],\n",
       "       [ 0.04 ,  0.4  ,  0.306, -1.263, -0.069, -0.438,  0.377,  0.445,  4.971]])"
      ]
     },
     "execution_count": 12,
     "metadata": {},
     "output_type": "execute_result"
    }
   ],
   "source": [
    "V.dot(A_n ** 2 + update_aug[:, None].dot(update_aug[None, :])).dot(V.T)"
   ]
  },
  {
   "cell_type": "code",
   "execution_count": 13,
   "id": "e8627099",
   "metadata": {},
   "outputs": [
    {
     "data": {
      "text/plain": [
       "array([[ 4.614, -0.119,  0.113,  0.104,  0.107, -0.439,  0.384,  0.31 ,  0.04 ],\n",
       "       [-0.119,  4.013, -0.116,  0.01 ,  0.502, -0.255,  0.412, -0.187,  0.4  ],\n",
       "       [ 0.113, -0.116,  5.01 , -0.259, -0.113, -0.045, -0.424,  0.259,  0.306],\n",
       "       [ 0.104,  0.01 , -0.259,  4.147, -0.423,  0.799,  0.644, -0.611, -1.263],\n",
       "       [ 0.107,  0.502, -0.113, -0.423,  4.5  , -1.109, -0.238, -0.692, -0.069],\n",
       "       [-0.439, -0.255, -0.045,  0.799, -1.109,  5.316, -0.877, -0.273, -0.438],\n",
       "       [ 0.384,  0.412, -0.424,  0.644, -0.238, -0.877,  4.319, -0.173,  0.377],\n",
       "       [ 0.31 , -0.187,  0.259, -0.611, -0.692, -0.273, -0.173,  4.977,  0.445],\n",
       "       [ 0.04 ,  0.4  ,  0.306, -1.263, -0.069, -0.438,  0.377,  0.445,  4.971]])"
      ]
     },
     "execution_count": 13,
     "metadata": {},
     "output_type": "execute_result"
    }
   ],
   "source": [
    "V.dot(A_aug_full.dot(A_aug_full.T)).dot(V.T)"
   ]
  },
  {
   "cell_type": "code",
   "execution_count": 14,
   "id": "999b71df",
   "metadata": {},
   "outputs": [
    {
     "data": {
      "text/plain": [
       "array([[ 1.835e-04,  1.401e-01, -9.153e-02,  7.244e-01,  7.161e-02,  4.679e-01, -4.414e-01, -6.150e-02,  1.570e-01],\n",
       "       [ 2.488e-02,  3.872e-01, -8.035e-01, -4.180e-02,  2.572e-01, -2.639e-01,  6.425e-02, -1.982e-01,  1.509e-01],\n",
       "       [-8.242e-02, -4.495e-02, -4.065e-02, -2.471e-01,  6.353e-01,  5.449e-01,  2.557e-01,  3.869e-01,  1.133e-01],\n",
       "       [ 6.454e-01, -3.669e-01, -1.479e-01, -1.569e-01,  2.374e-01,  1.217e-01, -2.872e-01, -2.695e-01, -4.196e-01],\n",
       "       [-1.346e-01, -6.239e-01, -2.381e-01,  1.662e-01, -1.589e-01,  1.893e-01,  4.537e-01, -4.065e-01,  2.760e-01],\n",
       "       [-3.588e-01, -2.789e-01, -2.278e-01,  3.844e-01,  1.551e-01, -2.460e-01,  8.480e-02,  3.318e-01, -6.262e-01],\n",
       "       [-5.439e-01, -2.480e-01,  1.166e-01, -2.399e-01,  3.628e-01, -1.803e-01, -5.306e-01, -3.210e-01,  1.512e-01],\n",
       "       [-1.139e-02, -3.030e-01, -4.193e-01, -2.577e-01, -4.251e-01,  9.297e-02, -3.983e-01,  5.208e-01,  2.160e-01],\n",
       "       [ 3.651e-01, -2.709e-01,  1.562e-01,  2.976e-01,  3.272e-01, -5.121e-01,  8.982e-03,  2.916e-01,  4.753e-01]])"
      ]
     },
     "execution_count": 14,
     "metadata": {},
     "output_type": "execute_result"
    }
   ],
   "source": [
    "np.linalg.eigh(A_aug_full.dot(A_aug_full.T))[1].T.dot(V.T).T"
   ]
  },
  {
   "cell_type": "code",
   "execution_count": 15,
   "id": "6fda907e",
   "metadata": {},
   "outputs": [
    {
     "data": {
      "text/plain": [
       "array([[ 0.048],\n",
       "       [-0.045],\n",
       "       [ 0.188],\n",
       "       [-0.251],\n",
       "       [-0.249],\n",
       "       [-0.487],\n",
       "       [-0.73 ],\n",
       "       [-0.072],\n",
       "       [-0.245]])"
      ]
     },
     "execution_count": 15,
     "metadata": {},
     "output_type": "execute_result"
    }
   ],
   "source": [
    "guess = np.random.normal(size=[9, 1])\n",
    "guess /= np.linalg.norm(guess)\n",
    "guess"
   ]
  },
  {
   "cell_type": "code",
   "execution_count": 16,
   "id": "962f6548",
   "metadata": {},
   "outputs": [
    {
     "data": {
      "text/plain": [
       "(array([2.578, 2.951, 3.837, 4.13 , 4.638, 4.983, 5.348, 6.242, 7.158]),\n",
       " array([[ 8.790e-01,  4.117e-01, -6.601e-02, -1.074e-01, -9.766e-02,  1.393e-01, -2.259e-03, -6.394e-02, -9.490e-02],\n",
       "        [-2.954e-01,  8.658e-01,  1.352e-01,  1.980e-01,  1.635e-01, -2.245e-01,  3.538e-03,  9.588e-02,  1.387e-01],\n",
       "        [-3.250e-02,  3.893e-02, -9.664e-01,  2.056e-01,  8.716e-02, -1.014e-01,  1.439e-03,  3.402e-02,  4.591e-02],\n",
       "        [ 4.611e-02, -5.052e-02,  1.204e-01,  8.881e-01, -3.135e-01,  2.814e-01, -3.547e-03, -7.431e-02, -9.526e-02],\n",
       "        [-2.271e-02,  2.334e-02, -3.479e-02, -1.061e-01, -8.342e-01, -5.303e-01,  4.059e-03,  6.272e-02,  7.296e-02],\n",
       "        [ 9.059e-04, -8.899e-04,  1.058e-03,  2.692e-03,  5.701e-03, -1.864e-02, -9.998e-01, -5.431e-03, -5.014e-03],\n",
       "        [-4.822e-02,  4.633e-02, -5.028e-02, -1.211e-01, -2.141e-01,  5.093e-01, -1.711e-02,  7.047e-01,  4.197e-01],\n",
       "        [ 2.869e-02, -2.688e-02,  2.661e-02,  6.106e-02,  9.492e-02, -1.937e-01,  4.713e-03,  6.280e-01, -7.437e-01],\n",
       "        [ 3.651e-01, -2.709e-01,  1.562e-01,  2.976e-01,  3.272e-01, -5.121e-01,  8.982e-03,  2.916e-01,  4.753e-01]]))"
      ]
     },
     "execution_count": 16,
     "metadata": {},
     "output_type": "execute_result"
    }
   ],
   "source": [
    "np.linalg.eigh(A_aug_full.dot(A_aug_full.T))"
   ]
  },
  {
   "cell_type": "code",
   "execution_count": 25,
   "id": "e57083f7",
   "metadata": {},
   "outputs": [
    {
     "name": "stdout",
     "output_type": "stream",
     "text": [
      "(6.242337, array([2.578, 2.951, 3.837, 4.13 , 4.638, 4.983, 5.348, 6.242, 7.158], dtype=float32))\n"
     ]
    }
   ],
   "source": [
    "lam = np.linalg.eigh(cov[:9, :9])[0][7]\n",
    "print((lam, np.linalg.eigh(cov[:9, :9])[0]))"
   ]
  },
  {
   "cell_type": "code",
   "execution_count": 18,
   "id": "0fbb1519",
   "metadata": {},
   "outputs": [
    {
     "data": {
      "text/plain": [
       "array([[ 0.011],\n",
       "       [-0.002],\n",
       "       [ 0.101],\n",
       "       [-0.132],\n",
       "       [-0.108],\n",
       "       [-0.211],\n",
       "       [-0.286],\n",
       "       [-0.04 ],\n",
       "       [-0.11 ]])"
      ]
     },
     "execution_count": 18,
     "metadata": {},
     "output_type": "execute_result"
    }
   ],
   "source": [
    "g = np.linalg.solve(A_aug_full, guess)\n",
    "g"
   ]
  },
  {
   "cell_type": "code",
   "execution_count": 19,
   "id": "b3e1ce80",
   "metadata": {},
   "outputs": [
    {
     "data": {
      "text/plain": [
       "array([[-2.145,  0.   ,  0.   ,  0.   ,  0.   ,  0.   ,  0.   ,  0.   , -0.47 ],\n",
       "       [ 0.   , -1.781,  0.   ,  0.   ,  0.   ,  0.   ,  0.   ,  0.   ,  0.586],\n",
       "       [ 0.   ,  0.   , -1.21 ,  0.   ,  0.   ,  0.   ,  0.   ,  0.   ,  0.141],\n",
       "       [ 0.   ,  0.   ,  0.   , -0.97 ,  0.   ,  0.   ,  0.   ,  0.   , -0.247],\n",
       "       [ 0.   ,  0.   ,  0.   ,  0.   , -0.694,  0.   ,  0.   ,  0.   ,  0.149],\n",
       "       [ 0.   ,  0.   ,  0.   ,  0.   ,  0.   , -0.387,  0.   ,  0.   , -0.007],\n",
       "       [ 0.   ,  0.   ,  0.   ,  0.   ,  0.   ,  0.   , -0.178,  0.   ,  0.429],\n",
       "       [ 0.   ,  0.   ,  0.   ,  0.   ,  0.   ,  0.   ,  0.   ,  0.138, -0.298],\n",
       "       [-0.277,  0.369,  0.099, -0.182,  0.116, -0.006,  0.37 , -0.273, -0.57 ]])"
      ]
     },
     "execution_count": 19,
     "metadata": {},
     "output_type": "execute_result"
    }
   ],
   "source": [
    "mat = A_aug_full.T - np.linalg.inv(A_aug_full) * lam\n",
    "mat"
   ]
  },
  {
   "cell_type": "code",
   "execution_count": 20,
   "id": "0c27a096",
   "metadata": {},
   "outputs": [
    {
     "data": {
      "text/plain": [
       "array([[ 0.064],\n",
       "       [-0.096],\n",
       "       [-0.034],\n",
       "       [ 0.074],\n",
       "       [-0.063],\n",
       "       [ 0.005],\n",
       "       [-0.705],\n",
       "       [-0.628],\n",
       "       [-0.292]])"
      ]
     },
     "execution_count": 20,
     "metadata": {},
     "output_type": "execute_result"
    }
   ],
   "source": [
    "e2 = np.linalg.solve(mat, g)\n",
    "e2 /= np.linalg.norm(e2)\n",
    "e2"
   ]
  },
  {
   "cell_type": "code",
   "execution_count": 21,
   "id": "c457d2b6",
   "metadata": {},
   "outputs": [
    {
     "data": {
      "text/plain": [
       "array([[ 0.064],\n",
       "       [-0.096],\n",
       "       [-0.034],\n",
       "       [ 0.074],\n",
       "       [-0.063],\n",
       "       [ 0.005],\n",
       "       [-0.705],\n",
       "       [-0.628],\n",
       "       [-0.292]])"
      ]
     },
     "execution_count": 21,
     "metadata": {},
     "output_type": "execute_result"
    }
   ],
   "source": [
    "e3 = np.linalg.solve(mat, np.linalg.solve(A_aug_full, e2))\n",
    "e3 /= np.linalg.norm(e3)\n",
    "e3"
   ]
  },
  {
   "cell_type": "code",
   "execution_count": 22,
   "id": "44fb7854",
   "metadata": {},
   "outputs": [
    {
     "data": {
      "text/plain": [
       "array([ 0.062,  0.211, -0.378,  0.228,  0.403, -0.343,  0.334, -0.508, -0.327], dtype=float32)"
      ]
     },
     "execution_count": 22,
     "metadata": {},
     "output_type": "execute_result"
    }
   ],
   "source": [
    "np.linalg.eigh(cov[:9, :9])[1][:, 7]"
   ]
  },
  {
   "cell_type": "code",
   "execution_count": 23,
   "id": "2f941aa3",
   "metadata": {},
   "outputs": [
    {
     "data": {
      "text/plain": [
       "array([[ 0.064],\n",
       "       [-0.096],\n",
       "       [-0.034],\n",
       "       [ 0.074],\n",
       "       [-0.063],\n",
       "       [ 0.005],\n",
       "       [-0.705],\n",
       "       [-0.628],\n",
       "       [-0.292]])"
      ]
     },
     "execution_count": 23,
     "metadata": {},
     "output_type": "execute_result"
    }
   ],
   "source": [
    "e2x = np.linalg.solve(\n",
    "    A_aug_full.dot(A_aug_full.T)\n",
    "    - np.diag(np.repeat(lam, 9)),\n",
    "    guess)\n",
    "e2x /= np.linalg.norm(e2x)\n",
    "e2x"
   ]
  },
  {
   "cell_type": "code",
   "execution_count": 24,
   "id": "2db82f81",
   "metadata": {},
   "outputs": [
    {
     "data": {
      "text/plain": [
       "(array([-3.665e+00, -3.291e+00, -2.405e+00, -2.112e+00, -1.604e+00, -1.259e+00, -8.939e-01,  2.870e-07,  9.158e-01]),\n",
       " array([[ 8.790e-01,  4.117e-01,  6.601e-02,  1.074e-01, -9.766e-02,  1.393e-01, -2.259e-03,  6.394e-02, -9.490e-02],\n",
       "        [-2.954e-01,  8.658e-01, -1.352e-01, -1.980e-01,  1.635e-01, -2.245e-01,  3.538e-03, -9.588e-02,  1.387e-01],\n",
       "        [-3.250e-02,  3.893e-02,  9.664e-01, -2.056e-01,  8.716e-02, -1.014e-01,  1.439e-03, -3.402e-02,  4.591e-02],\n",
       "        [ 4.611e-02, -5.052e-02, -1.204e-01, -8.881e-01, -3.135e-01,  2.814e-01, -3.547e-03,  7.431e-02, -9.526e-02],\n",
       "        [-2.271e-02,  2.334e-02,  3.479e-02,  1.061e-01, -8.342e-01, -5.303e-01,  4.059e-03, -6.272e-02,  7.296e-02],\n",
       "        [ 9.059e-04, -8.899e-04, -1.058e-03, -2.692e-03,  5.701e-03, -1.864e-02, -9.998e-01,  5.431e-03, -5.014e-03],\n",
       "        [-4.822e-02,  4.633e-02,  5.028e-02,  1.211e-01, -2.141e-01,  5.093e-01, -1.711e-02, -7.047e-01,  4.197e-01],\n",
       "        [ 2.869e-02, -2.688e-02, -2.661e-02, -6.106e-02,  9.492e-02, -1.937e-01,  4.713e-03, -6.280e-01, -7.437e-01],\n",
       "        [ 3.651e-01, -2.709e-01, -1.562e-01, -2.976e-01,  3.272e-01, -5.121e-01,  8.982e-03, -2.916e-01,  4.753e-01]]))"
      ]
     },
     "execution_count": 24,
     "metadata": {},
     "output_type": "execute_result"
    }
   ],
   "source": [
    "np.linalg.eigh(A_aug_full.dot(A_aug_full.T)\n",
    "    - np.diag(np.repeat(lam, 9)))"
   ]
  },
  {
   "cell_type": "code",
   "execution_count": 33,
   "id": "edbb7dec",
   "metadata": {},
   "outputs": [
    {
     "data": {
      "text/plain": [
       "array([[ 1.835e-04,  1.401e-01, -9.153e-02,  7.244e-01,  7.161e-02,  4.679e-01, -4.414e-01, -6.150e-02,  1.570e-01],\n",
       "       [ 2.488e-02,  3.872e-01, -8.035e-01, -4.180e-02,  2.572e-01, -2.639e-01,  6.425e-02, -1.982e-01,  1.509e-01],\n",
       "       [-8.242e-02, -4.495e-02, -4.065e-02, -2.471e-01,  6.353e-01,  5.449e-01,  2.557e-01,  3.869e-01,  1.133e-01],\n",
       "       [ 6.454e-01, -3.669e-01, -1.479e-01, -1.569e-01,  2.374e-01,  1.217e-01, -2.872e-01, -2.695e-01, -4.196e-01],\n",
       "       [-1.346e-01, -6.239e-01, -2.381e-01,  1.662e-01, -1.589e-01,  1.893e-01,  4.537e-01, -4.065e-01,  2.760e-01],\n",
       "       [-3.588e-01, -2.789e-01, -2.278e-01,  3.844e-01,  1.551e-01, -2.460e-01,  8.480e-02,  3.318e-01, -6.262e-01],\n",
       "       [-5.439e-01, -2.480e-01,  1.166e-01, -2.399e-01,  3.628e-01, -1.803e-01, -5.306e-01, -3.210e-01,  1.512e-01],\n",
       "       [-1.139e-02, -3.030e-01, -4.193e-01, -2.577e-01, -4.251e-01,  9.297e-02, -3.983e-01,  5.208e-01,  2.160e-01],\n",
       "       [ 3.651e-01, -2.709e-01,  1.562e-01,  2.976e-01,  3.272e-01, -5.121e-01,  8.982e-03,  2.916e-01,  4.753e-01]])"
      ]
     },
     "execution_count": 33,
     "metadata": {},
     "output_type": "execute_result"
    }
   ],
   "source": [
    "np.linalg.eigh(A_aug_full.dot(A_aug_full.T))[1].T.dot(\n",
    "    np.r_[\n",
    "        np.c_[np.linalg.eigh(cov[:8, :8])[1].T, np.zeros((8, 1))],\n",
    "        np.c_[np.zeros((1, 8)), [[1.]]]\n",
    "    ]).T"
   ]
  },
  {
   "cell_type": "code",
   "execution_count": 28,
   "id": "7052be09",
   "metadata": {},
   "outputs": [
    {
     "data": {
      "text/plain": [
       "array([[ 6.627e-04, -1.408e-01, -9.194e-02, -7.236e-01,  7.068e-02, -4.694e-01,  4.414e-01,  6.241e-02, -1.555e-01],\n",
       "       [-1.154e-02, -3.975e-01, -8.099e-01,  5.409e-02,  2.433e-01,  2.418e-01, -6.386e-02,  2.114e-01, -1.287e-01],\n",
       "       [ 9.167e-02,  3.780e-02, -4.508e-02,  2.557e-01,  6.256e-01, -5.605e-01, -2.554e-01, -3.775e-01, -9.757e-02],\n",
       "       [-6.875e-01,  3.992e-01, -1.280e-01,  1.182e-01,  2.812e-01, -5.213e-02,  2.859e-01,  2.279e-01,  3.496e-01],\n",
       "       [ 1.309e-01,  6.267e-01, -2.365e-01, -1.694e-01, -1.552e-01, -1.835e-01, -4.538e-01,  4.030e-01, -2.817e-01],\n",
       "       [ 3.481e-01,  2.872e-01, -2.225e-01, -3.945e-01,  1.667e-01,  2.645e-01, -8.514e-02, -3.431e-01,  6.070e-01],\n",
       "       [ 5.576e-01,  2.374e-01,  1.102e-01,  2.524e-01,  3.487e-01,  1.579e-01,  5.310e-01,  3.344e-01, -1.288e-01],\n",
       "       [ 2.371e-02,  2.935e-01, -4.253e-01,  2.693e-01, -4.382e-01, -1.139e-01,  3.987e-01, -5.081e-01, -1.946e-01],\n",
       "       [-2.629e-01,  2.088e-01,  1.372e-01, -2.713e-01,  3.160e-01,  5.127e-01, -9.316e-03, -3.268e-01, -5.704e-01]], dtype=float32)"
      ]
     },
     "execution_count": 28,
     "metadata": {},
     "output_type": "execute_result"
    }
   ],
   "source": [
    "np.linalg.eigh(cov[:9, :9])[1]"
   ]
  },
  {
   "cell_type": "code",
   "execution_count": null,
   "id": "eea77258",
   "metadata": {},
   "outputs": [],
   "source": []
  }
 ],
 "metadata": {
  "kernelspec": {
   "display_name": "Python 3 (ipykernel)",
   "language": "python",
   "name": "python3"
  },
  "language_info": {
   "codemirror_mode": {
    "name": "ipython",
    "version": 3
   },
   "file_extension": ".py",
   "mimetype": "text/x-python",
   "name": "python",
   "nbconvert_exporter": "python",
   "pygments_lexer": "ipython3",
   "version": "3.10.6"
  }
 },
 "nbformat": 4,
 "nbformat_minor": 5
}
