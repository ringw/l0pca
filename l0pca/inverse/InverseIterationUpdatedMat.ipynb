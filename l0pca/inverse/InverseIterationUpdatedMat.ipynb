{
 "cells": [
  {
   "cell_type": "code",
   "execution_count": 7,
   "id": "05f53f8f",
   "metadata": {},
   "outputs": [],
   "source": [
    "import numpy as np\n",
    "np.set_printoptions(precision = 3, linewidth = 150)"
   ]
  },
  {
   "cell_type": "code",
   "execution_count": 25,
   "id": "063f93c7",
   "metadata": {},
   "outputs": [
    {
     "name": "stdout",
     "output_type": "stream",
     "text": [
      "(20, 20) float32\n"
     ]
    }
   ],
   "source": [
    "np.random.seed(4)\n",
    "counts = np.repeat(\n",
    "    np.arange(5, 10),\n",
    "    [8, 4, 4, 3, 1])\n",
    "data = np.random.poisson(counts[None, :], [100, 20]).astype(np.float32)\n",
    "data -= np.mean(data, axis=0)\n",
    "cov = np.cov(data.T).astype(np.float32)\n",
    "print('{} {}'.format(cov.shape, cov.dtype))"
   ]
  },
  {
   "cell_type": "code",
   "execution_count": 26,
   "id": "6daf63f0",
   "metadata": {},
   "outputs": [
    {
     "data": {
      "text/plain": [
       "array([[0.   , 0.   , 0.   , 0.   , 0.   , 0.   , 0.   , 0.   , 0.   ],\n",
       "       [0.   , 2.71 , 0.   , 0.   , 0.   , 0.   , 0.   , 0.   , 0.   ],\n",
       "       [0.   , 0.   , 3.104, 0.   , 0.   , 0.   , 0.   , 0.   , 0.   ],\n",
       "       [0.   , 0.   , 0.   , 3.865, 0.   , 0.   , 0.   , 0.   , 0.   ],\n",
       "       [0.   , 0.   , 0.   , 0.   , 4.243, 0.   , 0.   , 0.   , 0.   ],\n",
       "       [0.   , 0.   , 0.   , 0.   , 0.   , 4.733, 0.   , 0.   , 0.   ],\n",
       "       [0.   , 0.   , 0.   , 0.   , 0.   , 0.   , 5.348, 0.   , 0.   ],\n",
       "       [0.   , 0.   , 0.   , 0.   , 0.   , 0.   , 0.   , 5.814, 0.   ],\n",
       "       [0.   , 0.   , 0.   , 0.   , 0.   , 0.   , 0.   , 0.   , 6.598]])"
      ]
     },
     "execution_count": 26,
     "metadata": {},
     "output_type": "execute_result"
    }
   ],
   "source": [
    "A = np.diag(np.linalg.eigh(cov[:8, :8])[0])\n",
    "A_aug = np.c_[np.zeros([A.shape[0]+1,1]), np.r_[np.zeros_like(A[0:1, :]), A]]\n",
    "A_aug"
   ]
  },
  {
   "cell_type": "code",
   "execution_count": 27,
   "id": "91f56368",
   "metadata": {},
   "outputs": [],
   "source": [
    "from l0pca.bunch import rank_one_update"
   ]
  },
  {
   "cell_type": "code",
   "execution_count": 28,
   "id": "f9c37042",
   "metadata": {},
   "outputs": [
    {
     "data": {
      "text/plain": [
       "array([ 2.23 , -0.277,  0.369,  0.099, -0.182,  0.116, -0.006,  0.37 , -0.273], dtype=float32)"
      ]
     },
     "execution_count": 28,
     "metadata": {},
     "output_type": "execute_result"
    }
   ],
   "source": [
    "update_aug = rank_one_update.create_update_append_column(\n",
    "    np.arange(8), np.sqrt(np.diagonal(A)),\n",
    "    np.linalg.eigh(cov[:8, :8])[1], 8, cov,\n",
    "    np.linalg.norm(data, axis=0), 100).numpy()\n",
    "update_aug"
   ]
  },
  {
   "cell_type": "code",
   "execution_count": 49,
   "id": "d6086d43",
   "metadata": {},
   "outputs": [
    {
     "data": {
      "text/plain": [
       "array([2.71 , 3.104, 3.865, 4.243, 4.733, 5.348, 5.814, 6.598], dtype=float32)"
      ]
     },
     "execution_count": 49,
     "metadata": {},
     "output_type": "execute_result"
    }
   ],
   "source": [
    "np.linalg.eigh(cov[:8, :8])[0]"
   ]
  },
  {
   "cell_type": "code",
   "execution_count": 29,
   "id": "a49c51bd",
   "metadata": {},
   "outputs": [
    {
     "data": {
      "text/plain": [
       "array([2.578, 2.951, 3.837, 4.13 , 4.638, 4.983, 5.348, 6.242, 7.158], dtype=float32)"
      ]
     },
     "execution_count": 29,
     "metadata": {},
     "output_type": "execute_result"
    }
   ],
   "source": [
    "np.linalg.eigh(cov[:9, :9])[0]"
   ]
  },
  {
   "cell_type": "code",
   "execution_count": 30,
   "id": "f7795f5a",
   "metadata": {},
   "outputs": [
    {
     "data": {
      "text/plain": [
       "array([2.578, 2.951, 3.837, 4.13 , 4.638, 4.983, 5.348, 6.242, 7.158])"
      ]
     },
     "execution_count": 30,
     "metadata": {},
     "output_type": "execute_result"
    }
   ],
   "source": [
    "np.linalg.eigh(A_aug + update_aug[:, None].dot(update_aug[None, :]))[0]"
   ]
  },
  {
   "cell_type": "code",
   "execution_count": 44,
   "id": "d5cbf8c1",
   "metadata": {},
   "outputs": [
    {
     "data": {
      "text/plain": [
       "array([2.39 , 2.909, 3.833, 4.128, 4.652, 5.044, 5.348, 6.251, 7.066])"
      ]
     },
     "execution_count": 44,
     "metadata": {},
     "output_type": "execute_result"
    }
   ],
   "source": [
    "np.linalg.eigh(A_aug + np.linalg.norm(update_aug) ** 1 * np.c_[update_aug[:, None], np.zeros_like(A_aug[:, 1:])])[0]"
   ]
  },
  {
   "cell_type": "code",
   "execution_count": 48,
   "id": "28b4d66d",
   "metadata": {},
   "outputs": [
    {
     "data": {
      "text/plain": [
       "array([0.   , 2.71 , 3.104, 3.865, 4.243, 4.733, 5.348, 5.814, 6.598])"
      ]
     },
     "execution_count": 48,
     "metadata": {},
     "output_type": "execute_result"
    }
   ],
   "source": [
    "np.square(np.linalg.svd(np.sqrt(A_aug))[1][::-1])"
   ]
  },
  {
   "cell_type": "code",
   "execution_count": 52,
   "id": "aae4b4f4",
   "metadata": {},
   "outputs": [
    {
     "data": {
      "text/plain": [
       "array([2.578, 2.951, 3.837, 4.13 , 4.638, 4.983, 5.348, 6.242, 7.158])"
      ]
     },
     "execution_count": 52,
     "metadata": {},
     "output_type": "execute_result"
    }
   ],
   "source": [
    "np.square(\n",
    "    np.linalg.svd(np.sqrt(A_aug) + np.linalg.norm(update_aug) ** 0 * np.c_[update_aug[:, None], np.zeros_like(A_aug[:, 1:])])[1]\n",
    ")[::-1]"
   ]
  },
  {
   "cell_type": "code",
   "execution_count": 53,
   "id": "1d86a0b6",
   "metadata": {},
   "outputs": [
    {
     "data": {
      "text/plain": [
       "array([[ 2.23 ,  0.   ,  0.   ,  0.   ,  0.   ,  0.   ,  0.   ,  0.   ,  0.   ],\n",
       "       [-0.277,  1.646,  0.   ,  0.   ,  0.   ,  0.   ,  0.   ,  0.   ,  0.   ],\n",
       "       [ 0.369,  0.   ,  1.762,  0.   ,  0.   ,  0.   ,  0.   ,  0.   ,  0.   ],\n",
       "       [ 0.099,  0.   ,  0.   ,  1.966,  0.   ,  0.   ,  0.   ,  0.   ,  0.   ],\n",
       "       [-0.182,  0.   ,  0.   ,  0.   ,  2.06 ,  0.   ,  0.   ,  0.   ,  0.   ],\n",
       "       [ 0.116,  0.   ,  0.   ,  0.   ,  0.   ,  2.176,  0.   ,  0.   ,  0.   ],\n",
       "       [-0.006,  0.   ,  0.   ,  0.   ,  0.   ,  0.   ,  2.313,  0.   ,  0.   ],\n",
       "       [ 0.37 ,  0.   ,  0.   ,  0.   ,  0.   ,  0.   ,  0.   ,  2.411,  0.   ],\n",
       "       [-0.273,  0.   ,  0.   ,  0.   ,  0.   ,  0.   ,  0.   ,  0.   ,  2.569]])"
      ]
     },
     "execution_count": 53,
     "metadata": {},
     "output_type": "execute_result"
    }
   ],
   "source": [
    "np.sqrt(A_aug) + np.linalg.norm(update_aug) ** 0 * np.c_[update_aug[:, None], np.zeros_like(A_aug[:, 1:])]"
   ]
  },
  {
   "cell_type": "code",
   "execution_count": 76,
   "id": "d2bfd93c",
   "metadata": {},
   "outputs": [
    {
     "data": {
      "text/plain": [
       "array([[ 0.448,  0.   ,  0.   ,  0.   ,  0.   ,  0.   ,  0.   ,  0.   ,  0.   ],\n",
       "       [ 0.075,  0.607,  0.   ,  0.   ,  0.   ,  0.   ,  0.   ,  0.   ,  0.   ],\n",
       "       [-0.094,  0.   ,  0.568,  0.   ,  0.   ,  0.   ,  0.   ,  0.   ,  0.   ],\n",
       "       [-0.023,  0.   ,  0.   ,  0.509,  0.   ,  0.   ,  0.   ,  0.   ,  0.   ],\n",
       "       [ 0.04 ,  0.   ,  0.   ,  0.   ,  0.485,  0.   ,  0.   ,  0.   ,  0.   ],\n",
       "       [-0.024,  0.   ,  0.   ,  0.   ,  0.   ,  0.46 ,  0.   ,  0.   ,  0.   ],\n",
       "       [ 0.001,  0.   ,  0.   ,  0.   ,  0.   ,  0.   ,  0.432,  0.   ,  0.   ],\n",
       "       [-0.069,  0.   ,  0.   ,  0.   ,  0.   ,  0.   ,  0.   ,  0.415,  0.   ],\n",
       "       [ 0.048,  0.   ,  0.   ,  0.   ,  0.   ,  0.   ,  0.   ,  0.   ,  0.389]])"
      ]
     },
     "execution_count": 76,
     "metadata": {},
     "output_type": "execute_result"
    }
   ],
   "source": [
    "A_aug_inv = np.linalg.inv(np.sqrt(A_aug) + np.linalg.norm(update_aug) ** 0 * np.c_[update_aug[:, None], np.zeros_like(A_aug[:, 1:])])\n",
    "A_aug_inv"
   ]
  },
  {
   "cell_type": "code",
   "execution_count": 57,
   "id": "3f03818f",
   "metadata": {},
   "outputs": [
    {
     "data": {
      "text/plain": [
       "array([[ 0.813,  0.   ,  0.   ,  0.   ,  0.   ,  0.   ,  0.   ,  0.   ,  0.   ],\n",
       "       [ 0.348,  1.547,  0.   ,  0.   ,  0.   ,  0.   ,  0.   ,  0.   ,  0.   ],\n",
       "       [-0.393,  0.   ,  1.313,  0.   ,  0.   ,  0.   ,  0.   ,  0.   ,  0.   ],\n",
       "       [-0.083,  0.   ,  0.   ,  1.035,  0.   ,  0.   ,  0.   ,  0.   ,  0.   ],\n",
       "       [ 0.14 ,  0.   ,  0.   ,  0.   ,  0.943,  0.   ,  0.   ,  0.   ,  0.   ],\n",
       "       [-0.08 ,  0.   ,  0.   ,  0.   ,  0.   ,  0.851,  0.   ,  0.   ,  0.   ],\n",
       "       [ 0.004,  0.   ,  0.   ,  0.   ,  0.   ,  0.   ,  0.762,  0.   ,  0.   ],\n",
       "       [-0.213,  0.   ,  0.   ,  0.   ,  0.   ,  0.   ,  0.   ,  0.709,  0.   ],\n",
       "       [ 0.142,  0.   ,  0.   ,  0.   ,  0.   ,  0.   ,  0.   ,  0.   ,  0.638]])"
      ]
     },
     "execution_count": 57,
     "metadata": {},
     "output_type": "execute_result"
    }
   ],
   "source": [
    "np.linalg.inv(np.sqrt(A_aug) - np.diag([1,1,1,1,1,1,1,1,1]) + np.linalg.norm(update_aug) ** 0 * np.c_[update_aug[:, None], np.zeros_like(A_aug[:, 1:])])"
   ]
  },
  {
   "cell_type": "code",
   "execution_count": 71,
   "id": "fa8f6232",
   "metadata": {},
   "outputs": [
    {
     "data": {
      "text/plain": [
       "[1.6055138111114502,\n",
       " 1.7179895639419556,\n",
       " 1.958818793296814,\n",
       " 2.0323104858398438,\n",
       " 2.153677463531494,\n",
       " 2.2322957515716553,\n",
       " 2.3126745223999023,\n",
       " 2.498466968536377,\n",
       " 2.6754770278930664]"
      ]
     },
     "execution_count": 71,
     "metadata": {},
     "output_type": "execute_result"
    }
   ],
   "source": [
    "list(map(float, np.sqrt(np.linalg.eigh(cov[:9, :9])[0])))"
   ]
  },
  {
   "cell_type": "code",
   "execution_count": 65,
   "id": "58ecf9a4",
   "metadata": {},
   "outputs": [
    {
     "data": {
      "text/plain": [
       "array([11.221,  4.756,  2.756,  2.107,  1.833,  1.509,  1.381,  1.025,  0.878])"
      ]
     },
     "execution_count": 65,
     "metadata": {},
     "output_type": "execute_result"
    }
   ],
   "source": [
    "lam = 2.6754770278930664\n",
    "np.linalg.svd(\n",
    "    np.linalg.inv(np.sqrt(A_aug) - np.diag([lam,lam,lam,lam,lam,lam,lam,lam,lam]) + np.linalg.norm(update_aug) ** 0 * np.c_[update_aug[:, None], np.zeros_like(A_aug[:, 1:])]))[1]"
   ]
  },
  {
   "cell_type": "code",
   "execution_count": 73,
   "id": "93e32af0",
   "metadata": {},
   "outputs": [
    {
     "data": {
      "text/plain": [
       "array([25.366, 12.962,  5.382,  3.255,  2.6  ,  2.014,  1.809,  1.247,  1.016])"
      ]
     },
     "execution_count": 73,
     "metadata": {},
     "output_type": "execute_result"
    }
   ],
   "source": [
    "lam = 2.498466968536377\n",
    "np.linalg.svd(\n",
    "    np.linalg.inv(np.sqrt(A_aug) - np.diag([lam,lam,lam,lam,lam,lam,lam,lam,lam]) + np.linalg.norm(update_aug) ** 0 * np.c_[update_aug[:, None], np.zeros_like(A_aug[:, 1:])]))[1]"
   ]
  },
  {
   "cell_type": "code",
   "execution_count": 75,
   "id": "4894ceaa",
   "metadata": {},
   "outputs": [
    {
     "data": {
      "text/plain": [
       "[2.577674627304077,\n",
       " 2.9514880180358887,\n",
       " 3.8369710445404053,\n",
       " 4.13028621673584,\n",
       " 4.638326168060303,\n",
       " 4.983144283294678,\n",
       " 5.348463535308838,\n",
       " 6.242337226867676,\n",
       " 7.158176898956299]"
      ]
     },
     "execution_count": 75,
     "metadata": {},
     "output_type": "execute_result"
    }
   ],
   "source": [
    "list(map(float, np.linalg.eigh(cov[:9, :9])[0]))"
   ]
  },
  {
   "cell_type": "code",
   "execution_count": 85,
   "id": "e3791a20",
   "metadata": {},
   "outputs": [
    {
     "data": {
      "text/plain": [
       "array([[ 2.23 ,  0.   ,  0.   ,  0.   ,  0.   ,  0.   ,  0.   ,  0.   ,  0.   ],\n",
       "       [-0.277,  1.646,  0.   ,  0.   ,  0.   ,  0.   ,  0.   ,  0.   ,  0.   ],\n",
       "       [ 0.369,  0.   ,  1.762,  0.   ,  0.   ,  0.   ,  0.   ,  0.   ,  0.   ],\n",
       "       [ 0.099,  0.   ,  0.   ,  1.966,  0.   ,  0.   ,  0.   ,  0.   ,  0.   ],\n",
       "       [-0.182,  0.   ,  0.   ,  0.   ,  2.06 ,  0.   ,  0.   ,  0.   ,  0.   ],\n",
       "       [ 0.116,  0.   ,  0.   ,  0.   ,  0.   ,  2.176,  0.   ,  0.   ,  0.   ],\n",
       "       [-0.006,  0.   ,  0.   ,  0.   ,  0.   ,  0.   ,  2.313,  0.   ,  0.   ],\n",
       "       [ 0.37 ,  0.   ,  0.   ,  0.   ,  0.   ,  0.   ,  0.   ,  2.411,  0.   ],\n",
       "       [-0.273,  0.   ,  0.   ,  0.   ,  0.   ,  0.   ,  0.   ,  0.   ,  2.569]])"
      ]
     },
     "execution_count": 85,
     "metadata": {},
     "output_type": "execute_result"
    }
   ],
   "source": [
    "A_aug_full = np.sqrt(A_aug) + np.c_[update_aug[:, None], np.zeros_like(A_aug[:, 1:])]\n",
    "A_aug_full"
   ]
  },
  {
   "cell_type": "code",
   "execution_count": 92,
   "id": "5cb1de1d",
   "metadata": {},
   "outputs": [
    {
     "data": {
      "text/plain": [
       "array([[ 1.276e+03, -2.549e+02,  3.726e+02,  1.233e+02, -2.558e+02,  1.960e+02, -1.347e+01,  1.127e+03, -1.998e+03],\n",
       "       [-2.549e+02,  5.067e+01, -7.440e+01, -2.462e+01,  5.108e+01, -3.913e+01,  2.689e+00, -2.251e+02,  3.989e+02],\n",
       "       [ 3.726e+02, -7.440e+01,  1.085e+02,  3.599e+01, -7.467e+01,  5.719e+01, -3.931e+00,  3.291e+02, -5.832e+02],\n",
       "       [ 1.233e+02, -2.462e+01,  3.599e+01,  1.161e+01, -2.471e+01,  1.893e+01, -1.301e+00,  1.089e+02, -1.930e+02],\n",
       "       [-2.558e+02,  5.108e+01, -7.467e+01, -2.471e+01,  5.093e+01, -3.927e+01,  2.699e+00, -2.260e+02,  4.004e+02],\n",
       "       [ 1.960e+02, -3.913e+01,  5.719e+01,  1.893e+01, -3.927e+01,  2.967e+01, -2.067e+00,  1.731e+02, -3.067e+02],\n",
       "       [-1.347e+01,  2.689e+00, -3.931e+00, -1.301e+00,  2.699e+00, -2.067e+00, -4.105e-01, -1.189e+01,  2.108e+01],\n",
       "       [ 1.127e+03, -2.251e+02,  3.291e+02,  1.089e+02, -2.260e+02,  1.731e+02, -1.189e+01,  9.950e+02, -1.765e+03],\n",
       "       [-1.998e+03,  3.989e+02, -5.832e+02, -1.930e+02,  4.004e+02, -3.067e+02,  2.108e+01, -1.765e+03,  3.125e+03]])"
      ]
     },
     "execution_count": 92,
     "metadata": {},
     "output_type": "execute_result"
    }
   ],
   "source": [
    "np.linalg.inv(A_aug_full.dot(A_aug_full.T) - np.diag(np.repeat(7.158, 9)))"
   ]
  },
  {
   "cell_type": "code",
   "execution_count": 98,
   "id": "a6acc03d",
   "metadata": {},
   "outputs": [
    {
     "data": {
      "text/plain": [
       "array([-1.119e+00, -7.942e-01, -6.234e-01, -4.735e-01, -4.157e-01, -3.039e-01, -2.729e-01,  1.092e+00,  7.126e+06])"
      ]
     },
     "execution_count": 98,
     "metadata": {},
     "output_type": "execute_result"
    }
   ],
   "source": [
    "np.linalg.eigh(np.linalg.inv(A_aug_full.dot(A_aug_full.T) - np.diag(np.repeat(6.242337226867676, 9))))[0]"
   ]
  },
  {
   "cell_type": "code",
   "execution_count": 101,
   "id": "ba843fbf",
   "metadata": {},
   "outputs": [
    {
     "data": {
      "text/plain": [
       "array([ 0.062,  0.211, -0.378,  0.228,  0.403, -0.343,  0.334, -0.508, -0.327], dtype=float32)"
      ]
     },
     "execution_count": 101,
     "metadata": {},
     "output_type": "execute_result"
    }
   ],
   "source": [
    "np.linalg.eigh(cov[:9, :9])[1][:, -2]"
   ]
  },
  {
   "cell_type": "code",
   "execution_count": 99,
   "id": "f4da7a84",
   "metadata": {},
   "outputs": [
    {
     "data": {
      "text/plain": [
       "array([ 0.292, -0.064,  0.096,  0.034, -0.074,  0.063, -0.005,  0.705,  0.628])"
      ]
     },
     "execution_count": 99,
     "metadata": {},
     "output_type": "execute_result"
    }
   ],
   "source": [
    "np.linalg.eigh(np.linalg.inv(A_aug_full.dot(A_aug_full.T) - np.diag(np.repeat(6.242337226867676, 9))))[1][:, -1]"
   ]
  },
  {
   "cell_type": "markdown",
   "id": "64382196",
   "metadata": {},
   "source": [
    "# sparse_mat * sparse_mat.T * x - mu .* x = guess\n",
    "\n",
    "sparse_mat.T * x - (inv(sparse_mat) .* mu) * x = inv(sparse_mat) * guess"
   ]
  },
  {
   "cell_type": "code",
   "execution_count": 102,
   "id": "32e466f6",
   "metadata": {},
   "outputs": [
    {
     "data": {
      "text/plain": [
       "array([[ 0.448,  0.   ,  0.   ,  0.   ,  0.   ,  0.   ,  0.   ,  0.   ,  0.   ],\n",
       "       [ 0.075,  0.607,  0.   ,  0.   ,  0.   ,  0.   ,  0.   ,  0.   ,  0.   ],\n",
       "       [-0.094,  0.   ,  0.568,  0.   ,  0.   ,  0.   ,  0.   ,  0.   ,  0.   ],\n",
       "       [-0.023,  0.   ,  0.   ,  0.509,  0.   ,  0.   ,  0.   ,  0.   ,  0.   ],\n",
       "       [ 0.04 ,  0.   ,  0.   ,  0.   ,  0.485,  0.   ,  0.   ,  0.   ,  0.   ],\n",
       "       [-0.024,  0.   ,  0.   ,  0.   ,  0.   ,  0.46 ,  0.   ,  0.   ,  0.   ],\n",
       "       [ 0.001,  0.   ,  0.   ,  0.   ,  0.   ,  0.   ,  0.432,  0.   ,  0.   ],\n",
       "       [-0.069,  0.   ,  0.   ,  0.   ,  0.   ,  0.   ,  0.   ,  0.415,  0.   ],\n",
       "       [ 0.048,  0.   ,  0.   ,  0.   ,  0.   ,  0.   ,  0.   ,  0.   ,  0.389]])"
      ]
     },
     "execution_count": 102,
     "metadata": {},
     "output_type": "execute_result"
    }
   ],
   "source": [
    "np.linalg.inv(A_aug_full)"
   ]
  },
  {
   "cell_type": "code",
   "execution_count": 104,
   "id": "0539de12",
   "metadata": {},
   "outputs": [],
   "source": [
    "guess = np.random.normal([9, 1])\n",
    "guess /= np.linalg.norm(guess)\n",
    "mu = 6.242337226867676"
   ]
  },
  {
   "cell_type": "code",
   "execution_count": 110,
   "id": "fd171f25",
   "metadata": {},
   "outputs": [
    {
     "data": {
      "text/plain": [
       "array([[-0.57 , -0.277,  0.369,  0.099, -0.182,  0.116, -0.006,  0.37 , -0.273],\n",
       "       [-0.47 , -2.145,  0.   ,  0.   ,  0.   ,  0.   ,  0.   ,  0.   ,  0.   ],\n",
       "       [ 0.586,  0.   , -1.781,  0.   ,  0.   ,  0.   ,  0.   ,  0.   ,  0.   ],\n",
       "       [ 0.141,  0.   ,  0.   , -1.21 ,  0.   ,  0.   ,  0.   ,  0.   ,  0.   ],\n",
       "       [-0.247,  0.   ,  0.   ,  0.   , -0.97 ,  0.   ,  0.   ,  0.   ,  0.   ],\n",
       "       [ 0.149,  0.   ,  0.   ,  0.   ,  0.   , -0.694,  0.   ,  0.   ,  0.   ],\n",
       "       [-0.007,  0.   ,  0.   ,  0.   ,  0.   ,  0.   , -0.387,  0.   ,  0.   ],\n",
       "       [ 0.429,  0.   ,  0.   ,  0.   ,  0.   ,  0.   ,  0.   , -0.178,  0.   ],\n",
       "       [-0.298,  0.   ,  0.   ,  0.   ,  0.   ,  0.   ,  0.   ,  0.   ,  0.138]])"
      ]
     },
     "execution_count": 110,
     "metadata": {},
     "output_type": "execute_result"
    }
   ],
   "source": [
    "# Upper diagonalization (subtracting X times last row) \n",
    "A_aug_full.T - np.linalg.inv(A_aug_full) * mu"
   ]
  },
  {
   "cell_type": "code",
   "execution_count": null,
   "id": "898dbb38",
   "metadata": {},
   "outputs": [],
   "source": []
  }
 ],
 "metadata": {
  "kernelspec": {
   "display_name": "Python 3 (ipykernel)",
   "language": "python",
   "name": "python3"
  },
  "language_info": {
   "codemirror_mode": {
    "name": "ipython",
    "version": 3
   },
   "file_extension": ".py",
   "mimetype": "text/x-python",
   "name": "python",
   "nbconvert_exporter": "python",
   "pygments_lexer": "ipython3",
   "version": "3.10.6"
  }
 },
 "nbformat": 4,
 "nbformat_minor": 5
}
