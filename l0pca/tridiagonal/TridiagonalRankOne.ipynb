{
 "cells": [
  {
   "cell_type": "code",
   "execution_count": 1,
   "metadata": {},
   "outputs": [],
   "source": [
    "import numpy as np\n",
    "np.set_printoptions(precision = 3, linewidth = 150, suppress = True)"
   ]
  },
  {
   "cell_type": "code",
   "execution_count": 59,
   "metadata": {},
   "outputs": [
    {
     "data": {
      "text/plain": [
       "array([-0.425,  0.142,  0.412,  0.551,  0.943,  0.946,  3.99 ])"
      ]
     },
     "execution_count": 59,
     "metadata": {},
     "output_type": "execute_result"
    }
   ],
   "source": [
    "n = 7\n",
    "np.random.seed(4)\n",
    "A_diag = np.diag(np.random.uniform(-1, 1, n))\n",
    "data = np.random.uniform(-1, 1, n)\n",
    "A = A_diag + data[:, None].dot(data[None, :])\n",
    "np.linalg.eigh(A)[0]"
   ]
  },
  {
   "cell_type": "code",
   "execution_count": 49,
   "metadata": {},
   "outputs": [
    {
     "data": {
      "text/plain": [
       "array([ 0.   ,  0.812,  0.052, -0.222,  0.24 , -0.289, -0.384])"
      ]
     },
     "execution_count": 49,
     "metadata": {},
     "output_type": "execute_result"
    }
   ],
   "source": [
    "v1 = data * data[0]\n",
    "# Ignore the diagonal A_diag\n",
    "v1[0] = 0\n",
    "v1[1] += (1. if v1[1] >= 0 else -1.) * np.linalg.norm(v1)\n",
    "# v1[1] += 1. if v1[1] >= 0 else -1.\n",
    "v1 /= np.linalg.norm(v1)\n",
    "M = np.eye(n) - 2 * v1[:, None].dot(v1[None, :])\n",
    "v1"
   ]
  },
  {
   "cell_type": "code",
   "execution_count": 50,
   "metadata": {},
   "outputs": [
    {
     "data": {
      "text/plain": [
       "array([[ 1.   ,  0.   ,  0.   ,  0.   ,  0.   ,  0.   ,  0.   ],\n",
       "       [ 0.   , -0.319, -0.084,  0.361, -0.39 ,  0.469,  0.624],\n",
       "       [ 0.   , -0.084,  0.995,  0.023, -0.025,  0.03 ,  0.04 ],\n",
       "       [ 0.   ,  0.361,  0.023,  0.901,  0.107, -0.128, -0.171],\n",
       "       [ 0.   , -0.39 , -0.025,  0.107,  0.885,  0.139,  0.185],\n",
       "       [ 0.   ,  0.469,  0.03 , -0.128,  0.139,  0.834, -0.222],\n",
       "       [ 0.   ,  0.624,  0.04 , -0.171,  0.185, -0.222,  0.705]])"
      ]
     },
     "execution_count": 50,
     "metadata": {},
     "output_type": "execute_result"
    }
   ],
   "source": [
    "M"
   ]
  },
  {
   "cell_type": "code",
   "execution_count": 51,
   "metadata": {},
   "outputs": [
    {
     "data": {
      "text/plain": [
       "array([[ 0.975, -1.53 , -0.   ,  0.   ,  0.   ,  0.   ,  0.   ],\n",
       "       [-1.53 ,  2.401,  0.   ,  0.   , -0.   , -0.   , -0.   ],\n",
       "       [-0.   ,  0.   , -0.   ,  0.   ,  0.   , -0.   , -0.   ],\n",
       "       [-0.   ,  0.   , -0.   ,  0.   ,  0.   , -0.   , -0.   ],\n",
       "       [-0.   ,  0.   , -0.   ,  0.   ,  0.   , -0.   , -0.   ],\n",
       "       [ 0.   , -0.   , -0.   , -0.   , -0.   ,  0.   ,  0.   ],\n",
       "       [ 0.   ,  0.   ,  0.   ,  0.   ,  0.   ,  0.   ,  0.   ]])"
      ]
     },
     "execution_count": 51,
     "metadata": {},
     "output_type": "execute_result"
    }
   ],
   "source": [
    "(np.eye(n) - 2 * v1[:, None].dot(v1[None, :])).dot(data[:, None]).dot(data[None, :]).dot(np.eye(n) - 2 * v1[:, None].dot(v1[None, :]))"
   ]
  },
  {
   "cell_type": "code",
   "execution_count": 52,
   "metadata": {},
   "outputs": [
    {
     "data": {
      "text/plain": [
       "array([[ 0.934,  0.   ,  0.   ,  0.   ,  0.   ,  0.   ,  0.   ],\n",
       "       [ 0.   ,  0.379, -0.053,  0.043, -0.033, -0.411,  0.401],\n",
       "       [ 0.   , -0.053,  0.937,  0.022, -0.023, -0.001,  0.059],\n",
       "       [ 0.   ,  0.043,  0.022,  0.385,  0.045,  0.07 , -0.167],\n",
       "       [ 0.   , -0.033, -0.023,  0.045,  0.351, -0.08 ,  0.174],\n",
       "       [ 0.   , -0.411, -0.001,  0.07 , -0.08 , -0.311,  0.004],\n",
       "       [ 0.   ,  0.401,  0.059, -0.167,  0.174,  0.004,  0.51 ]])"
      ]
     },
     "execution_count": 52,
     "metadata": {},
     "output_type": "execute_result"
    }
   ],
   "source": [
    "(np.eye(n) - 2 * v1[:, None].dot(v1[None, :])).dot(A_diag).dot(np.eye(n) - 2 * v1[:, None].dot(v1[None, :]))"
   ]
  },
  {
   "cell_type": "code",
   "execution_count": 53,
   "metadata": {},
   "outputs": [
    {
     "data": {
      "text/plain": [
       "array([ 0.   ,  0.   ,  0.674,  0.055, -0.043, -0.527,  0.514])"
      ]
     },
     "execution_count": 53,
     "metadata": {},
     "output_type": "execute_result"
    }
   ],
   "source": [
    "diag1 = M.dot(A_diag).dot(M[:, 1:2])\n",
    "v2 = diag1.copy()[:, 0]\n",
    "# Ignore the diagonal A_diag\n",
    "v2[0:2] = 0\n",
    "v2[2] += (1. if v2[1] >= 0 else -1.) * np.linalg.norm(v2)\n",
    "v2 /= np.linalg.norm(v2)\n",
    "M2 = np.eye(n) - 2 * v2[:, None].dot(v2[None, :])\n",
    "v2"
   ]
  },
  {
   "cell_type": "code",
   "execution_count": 56,
   "metadata": {},
   "outputs": [
    {
     "data": {
      "text/plain": [
       "True"
      ]
     },
     "execution_count": 56,
     "metadata": {},
     "output_type": "execute_result"
    }
   ],
   "source": [
    "np.allclose(M2.dot(M).T, M.dot(M2))"
   ]
  },
  {
   "cell_type": "code",
   "execution_count": 60,
   "metadata": {},
   "outputs": [
    {
     "data": {
      "text/plain": [
       "array([-0.425,  0.142,  0.412,  0.551,  0.943,  0.946,  3.99 ])"
      ]
     },
     "execution_count": 60,
     "metadata": {},
     "output_type": "execute_result"
    }
   ],
   "source": [
    "np.sort(np.linalg.eig(M2.dot(M).dot(A).dot(M).dot(M2))[0])"
   ]
  },
  {
   "cell_type": "code",
   "execution_count": null,
   "metadata": {},
   "outputs": [],
   "source": []
  }
 ],
 "metadata": {
  "kernelspec": {
   "display_name": "Python 3.8.10 64-bit",
   "language": "python",
   "name": "python3"
  },
  "language_info": {
   "codemirror_mode": {
    "name": "ipython",
    "version": 3
   },
   "file_extension": ".py",
   "mimetype": "text/x-python",
   "name": "python",
   "nbconvert_exporter": "python",
   "pygments_lexer": "ipython3",
   "version": "3.8.10"
  },
  "orig_nbformat": 4,
  "vscode": {
   "interpreter": {
    "hash": "31f2aee4e71d21fbe5cf8b01ff0e069b9275f58929596ceb00d14d90e3e16cd6"
   }
  }
 },
 "nbformat": 4,
 "nbformat_minor": 2
}
