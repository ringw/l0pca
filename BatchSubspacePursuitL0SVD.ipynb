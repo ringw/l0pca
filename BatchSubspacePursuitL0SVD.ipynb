{
 "cells": [
  {
   "cell_type": "markdown",
   "id": "40ab082f",
   "metadata": {},
   "source": [
    "### Large-Scale Sparse SVD Subspace Pursuit\n",
    "\n",
    "This notebook implements PCA (one-sided singular values of a matrix) with an L0 constraint of the subset of rows/features (k). The step of updating the subdata to rank k+q (q=1 in this project), then greedily trimming q rows, was motivated by SASR simulated annealing (Du 2014). However, the state of a single matrix going under serialized mutations in that paper was not desirable. A linear algebra library would have low utilization of the CPU, let alone GPU, for the small SVDs being done in serial.\n",
    "\n",
    "Du et al had a uniform distribution of features that can be updated in the subdata, whereas we should continuously histogram the performance of each feature in the current subdatas and start trimming features. We can spend much time making rough k+1 SVD updates on every single possible feature, without re-running SVD (Ross 2008). This quickly fills up a histogram of which features are being selected above some minimum criteria.\n",
    "\n",
    "The metric for retaining a feature (out of k+1 features) is the percentage of variance explained by the feature in the most significant D eigenvectors (k, d, are parameters). This is the L2 norm of the k'th coordinate in the D left singular values. For now, when the user selects D > 1 during feature selection, we don't rescale this performance criteria by variance (it is fidelity along Mahalanobis distance).\n",
    "\n",
    "#### References\n",
    "\n",
    "Du, Xinpeng, Lizhi Cheng, and Daiqiang Chen. \"A simulated annealing algorithm for sparse recovery by l0 minimization.\" Neurocomputing 131 (2014): 98-104.\n",
    "\n",
    "Ross, D. A., Lim, J., Lin, R. S., & Yang, M. H. (2008). Incremental learning for robust visual tracking. International journal of computer vision, 77(1), 125-141."
   ]
  },
  {
   "cell_type": "code",
   "execution_count": 74,
   "id": "f9079245",
   "metadata": {},
   "outputs": [],
   "source": [
    "import tensorflow as tf"
   ]
  },
  {
   "cell_type": "code",
   "execution_count": 75,
   "id": "93fd86ce",
   "metadata": {},
   "outputs": [],
   "source": [
    "data = tf.random.normal((20, 100))"
   ]
  },
  {
   "cell_type": "code",
   "execution_count": 76,
   "id": "96532d36",
   "metadata": {},
   "outputs": [
    {
     "data": {
      "text/plain": [
       "TensorShape([5, 3, 100])"
      ]
     },
     "execution_count": 76,
     "metadata": {},
     "output_type": "execute_result"
    }
   ],
   "source": [
    "# Subsets of the data.\n",
    "matrices = tf.gather(\n",
    "    data,\n",
    "    tf.reshape(tf.random.shuffle(tf.range(data.shape[0]))[:15], (5, 3))\n",
    ")\n",
    "s, u, v = tf.linalg.svd(matrices)\n",
    "matrices.shape"
   ]
  },
  {
   "cell_type": "code",
   "execution_count": 77,
   "id": "4c524a84",
   "metadata": {},
   "outputs": [
    {
     "data": {
      "text/plain": [
       "TensorShape([5, 100, 3])"
      ]
     },
     "execution_count": 77,
     "metadata": {},
     "output_type": "execute_result"
    }
   ],
   "source": [
    "v.shape"
   ]
  },
  {
   "cell_type": "code",
   "execution_count": 78,
   "id": "97cf1a4a",
   "metadata": {},
   "outputs": [
    {
     "data": {
      "text/plain": [
       "<tf.Tensor: shape=(3, 3), dtype=float32, numpy=\n",
       "array([[ 0.856, -0.493,  0.156],\n",
       "       [-0.142,  0.066,  0.988],\n",
       "       [-0.497, -0.868, -0.013]], dtype=float32)>"
      ]
     },
     "execution_count": 78,
     "metadata": {},
     "output_type": "execute_result"
    }
   ],
   "source": [
    "u[0]"
   ]
  },
  {
   "cell_type": "code",
   "execution_count": 79,
   "id": "4b892884",
   "metadata": {},
   "outputs": [],
   "source": [
    "augmented_data = tf.gather(\n",
    "    data,\n",
    "    tf.random.shuffle(tf.range(data.shape[0]))[:10]\n",
    ")"
   ]
  },
  {
   "cell_type": "code",
   "execution_count": 80,
   "id": "ad7743d0",
   "metadata": {},
   "outputs": [],
   "source": [
    "exact_augmented_shape = [5, 10, 3, 100]\n",
    "s_aug_exact, u_aug_exact, v_aug_exact = tf.linalg.svd(\n",
    "    tf.concat(\n",
    "        [\n",
    "            tf.broadcast_to(matrices[:, None, :, :], exact_augmented_shape),\n",
    "            tf.broadcast_to(augmented_data[None, :, None, :], [5, 10, 1, 100]),\n",
    "        ],\n",
    "        axis=2\n",
    "    )\n",
    ")"
   ]
  },
  {
   "cell_type": "code",
   "execution_count": 81,
   "id": "0bffcba8",
   "metadata": {},
   "outputs": [
    {
     "data": {
      "text/plain": [
       "<tf.Tensor: shape=(3,), dtype=float32, numpy=array([10.547, 10.239,  9.165], dtype=float32)>"
      ]
     },
     "execution_count": 81,
     "metadata": {},
     "output_type": "execute_result"
    }
   ],
   "source": [
    "s[0]"
   ]
  },
  {
   "cell_type": "code",
   "execution_count": 82,
   "id": "0b14f7e0",
   "metadata": {},
   "outputs": [
    {
     "data": {
      "text/plain": [
       "<tf.Tensor: shape=(4,), dtype=float32, numpy=array([10.624, 10.265,  9.437,  8.354], dtype=float32)>"
      ]
     },
     "execution_count": 82,
     "metadata": {},
     "output_type": "execute_result"
    }
   ],
   "source": [
    "s_aug_exact[0, 1]"
   ]
  },
  {
   "cell_type": "code",
   "execution_count": 85,
   "id": "2e402d3f",
   "metadata": {},
   "outputs": [],
   "source": [
    "import tensorflow_probability as tfp\n",
    "\n",
    "@tf.function(jit_compile = True)\n",
    "def transpose_simple(matrices):\n",
    "    \"\"\"Transpose utility for batches of matrices (high-dimensional).\"\"\"\n",
    "    ndim = len(matrices.shape)\n",
    "    return tf.transpose(matrices, list(range(ndim-2)) + [ndim-1, ndim-2])\n",
    "\n",
    "@tf.function(jit_compile = True)\n",
    "def create_block_diagonal_augmented_u(svd_u):\n",
    "    \"\"\"Treat the batch of u matrices as being updated block diagonally.\n",
    "\n",
    "    The orthonormal basis is trivial on the left side at this point, when\n",
    "    adding a new row. The existing basis is zero along this dimension, and\n",
    "    we produce an orthonormal basis vector e_N. Then, the augmented matrix\n",
    "    SVD would need a V with a more sophisticated basis vector, but we\n",
    "    discard V in this algorithm.\n",
    "    \n",
    "    The new SVD factorization's left singular vectors are found by\n",
    "    multiplying this trivial matrix by the left singular vectors of the\n",
    "    \"augmented S\".\n",
    "    \"\"\"\n",
    "    augmented_pca_u = tf.concat(\n",
    "        [\n",
    "            tf.concat(\n",
    "                [\n",
    "                    svd_u,\n",
    "                    tf.zeros(svd_u.shape[:-1] + (1,)),\n",
    "                ],\n",
    "                axis=-1,\n",
    "            ),\n",
    "            tf.concat(\n",
    "                [\n",
    "                    tf.zeros(svd_u.shape[:-2] + (1, svd_u.shape[-1])),\n",
    "                    tf.ones(svd_u.shape[:-2] + (1, 1)),\n",
    "                ],\n",
    "                axis=-1,\n",
    "            ),\n",
    "        ],\n",
    "        axis=-2,\n",
    "    )\n",
    "    return augmented_pca_u\n",
    "\n",
    "@tf.function(jit_compile = True)\n",
    "def build_update_s_matrix_blocks(svd_s, svd_u, svd_v, possible_rows):\n",
    "    # Add a row to the SVD decomposition by adding to S*V^T:\n",
    "    # encoding^T * V + ortho_norm * orthogonalize(V, row)\n",
    "    # encoding is the vector of the projection of row onto each\n",
    "    # basis vector in V. The orthogonalize function would subtract\n",
    "    # the projection onto this column space from row, then save the\n",
    "    # norm of the resulting normalized vector. The norm goes into S.\n",
    "    # U is updated with a 1 (add a diagonal block for the identity matrix 1x1).\n",
    "    # This is the transpose of the single-column update given by Ross 2008.\n",
    "    # Ross, D. A., Lim, J., Lin, R. S., & Yang, M. H. (2008). Incremental learning for robust visual tracking. International journal of computer vision, 77(1), 125-141.\n",
    "    n_matrices = svd_s.shape[0]\n",
    "    n_observations = svd_v.shape[1]\n",
    "    n_outputs = possible_rows.shape[0]\n",
    "    feature_k = svd_s.shape[1]\n",
    "    s_21 = tf.linalg.matmul(possible_rows[None, :, :], svd_v)[:, :, None, :]\n",
    "    proj_rows_batch_shape = [n_matrices, n_outputs, 1, feature_k]\n",
    "    transpose_v_batch_shape = [n_matrices, n_outputs, feature_k, n_observations]\n",
    "    # Note: A projection matrix onto the right-singular vectors is:\n",
    "    # `svd_v * svd_v^T` (unlike NumPy, \"v\" return value is not transposed).\n",
    "    # svd_v contains precisely the eigenvectors of M^T M in columns. We\n",
    "    # transpose the entire expression projecting our input vectors (which are\n",
    "    # row vectors). Then, we use the already-computed s_21 and possible_rows.\n",
    "    # `svd_v * svd_v^T * ColVecs = (RowVecs * svd_v * svd_v^T)^T`\n",
    "    row_projection = tf.squeeze(\n",
    "        tf.linalg.matmul(\n",
    "            s_21,\n",
    "            transpose_simple(svd_v)[:, None, :, :]),\n",
    "        axis=2)\n",
    "    row_ortho = possible_rows[None, :, :] - row_projection\n",
    "    # row_ortho would be used as a new right-singular vector in V, but we are\n",
    "    # discarding V. It must be unit-scaled.\n",
    "    row_ortho = tf.linalg.normalize(row_ortho)[0]\n",
    "    # Now find the extent of the original data along the orthogonal basis vector.\n",
    "    s_22 = tf.linalg.matmul(row_ortho[:, :, None, :], possible_rows[None, :, :, None])\n",
    "    # matmul creates 1x1 matrices, so we extract the scalar value.\n",
    "    s_22 = s_22[:, :, 0, 0]\n",
    "    return s_21, s_22\n",
    "\n",
    "@tf.function(jit_compile = True)\n",
    "def approximate_update_eigenvalues(svd_s, s_22):\n",
    "    \"\"\"Initialization for augmented matrix power iteration.\n",
    "    \n",
    "    Augmented S is no longer a diagonal matrix, so the eigenvalues\n",
    "    are perturbed from the original matrix. Generally, the update\n",
    "    to the matrix trace is small, and the final eigenvalue is even\n",
    "    smaller than the final diagonal entry that we append. We can\n",
    "    divide up the final value of S^2 arbitrarily, and add some of\n",
    "    that contribution uniformly to the larger eigenvalues, while the\n",
    "    final eigenvalue will be very small.\n",
    "    \"\"\"\n",
    "    feature_k = svd_s.shape[1]\n",
    "    aug_contribution = tf.square(s_22) / 2. / feature_k\n",
    "    return tf.concat([tf.square(svd_s)[:, None, :] + aug_contribution[:, :, None], (tf.square(s_22) / 2.)[:, :, None]], axis=-1)\n",
    "\n",
    "# TODO: We are close to not needing to create these augmented matrices explicitly.\n",
    "@tf.function(jit_compile = True)\n",
    "def build_augmented_s(svd_s, s_21, s_22):\n",
    "    \"\"\"Augment S for k+1 rows - no longer a diagonal matrix.\"\"\"\n",
    "    b1 = s_21.shape[0]\n",
    "    b2 = s_21.shape[1]\n",
    "    feature_k = svd_s.shape[1]\n",
    "    return tf.concat(\n",
    "        [\n",
    "            tf.concat(\n",
    "                [\n",
    "                    tf.broadcast_to(\n",
    "                        tf.linalg.diag(svd_s)[:, None, :, :],\n",
    "                        [b1, b2, feature_k, feature_k]),\n",
    "                    tf.zeros((b1, b2, feature_k, 1)),\n",
    "                ],\n",
    "                axis=-1,\n",
    "            ),\n",
    "            tf.concat(\n",
    "                [\n",
    "                    s_21,\n",
    "                    s_22[:, :, None, None],\n",
    "                ],\n",
    "                axis=-1\n",
    "            ),\n",
    "        ],\n",
    "        axis=-2,\n",
    "    )\n",
    "\n",
    "@tf.function(jit_compile = True)\n",
    "def build_augmented_psd(svd_s, s_21, s_22):\n",
    "    \"\"\"Build AugS * AugS^T.\"\"\"\n",
    "    b1 = s_21.shape[0]\n",
    "    b2 = s_21.shape[1]\n",
    "    feature_k = svd_s.shape[1]\n",
    "    return tf.concat(\n",
    "        [\n",
    "            tf.concat(\n",
    "                [\n",
    "                    tf.broadcast_to(\n",
    "                        tf.linalg.diag(tf.square(svd_s))[:, None, :, :],\n",
    "                        [b1, b2, feature_k, feature_k]),\n",
    "                    transpose_simple(s_21 * svd_s[:, None, None, :]),\n",
    "                ],\n",
    "                axis=-1,\n",
    "            ),\n",
    "            tf.concat(\n",
    "                [\n",
    "                    s_21 * svd_s[:, None, None, :],\n",
    "                    tf.square(s_22)[:, :, None, None],\n",
    "                ],\n",
    "                axis=-1\n",
    "            ),\n",
    "        ],\n",
    "        axis=-2,\n",
    "    )\n",
    "\n",
    "@tf.function(jit_compile = True)\n",
    "def approximate_eigen0_power_iteration(svd_s, s_21, s_22, niter=3):\n",
    "    \"\"\"Power iteration algorithm for a blocked Cholesky matrix.\n",
    "    \n",
    "    AugS is represented by [[svd_s, 0], [s_21, s_22]], so we can derive\n",
    "    AugS * AugS^T and search for its largest eigenvalue. This is initialized\n",
    "    from the first column of AugS * AugS^T, which has large values in it\n",
    "    (initial guess).\n",
    "    \"\"\"\n",
    "    b1 = s_21.shape[0]\n",
    "    b2 = s_21.shape[1]\n",
    "    feature_k = s_21.shape[-1]\n",
    "    ev = tf.concat(\n",
    "        [\n",
    "            tf.broadcast_to(\n",
    "                svd_s[:, None, 0:1],\n",
    "                [b1, b2, 1]),\n",
    "            tf.zeros((b1, b2, feature_k - 1)),\n",
    "            svd_s[:, None, 0:1] * s_21[:, :, 0, 0:1],\n",
    "        ],\n",
    "        axis=-1,\n",
    "    )\n",
    "    ev = ev[:, :, :, None]\n",
    "    ev = tf.linalg.normalize(ev)[0]\n",
    "    ev_lambda = None\n",
    "    # TODO: Benchmark multiplying each block manually, no new\n",
    "    # matrix creation here.\n",
    "    psd_matrix = build_augmented_psd(svd_s, s_21, s_22)\n",
    "    for i in range(niter):\n",
    "        ev = tf.linalg.matmul(psd_matrix, ev)\n",
    "        ev, ev_lambda = tf.linalg.normalize(ev, axis=2)\n",
    "    return ev, ev_lambda[:, :, 0, 0]\n",
    "\n",
    "@tf.function(jit_compile = True)\n",
    "def approximate_eigenvalue_power_iteration(svd_s, s_21, s_22, eigenvectors):\n",
    "    \"\"\"Single-iteration power iteration for multiple eigenvalues.\n",
    "\n",
    "    The largest eigenvalue should use a for-loop power iteration for fidelity.\n",
    "    Here, we apply the matrix once and project back onto the best-guess eigenvector\n",
    "    (avoiding the eigenvector of the largest and smallest eigenvalues). The\n",
    "    smallest eigenvalue/eigenvector is not useful to us.\n",
    "    \"\"\"\n",
    "    b1 = s_21.shape[0]\n",
    "    b2 = s_21.shape[1]\n",
    "    feature_k = s_21.shape[-1]\n",
    "    augmented_s = build_augmented_s(svd_s, s_21, s_22)\n",
    "    augmented_psd = tf.linalg.matmul(augmented_s, transpose_simple(augmented_s))\n",
    "    result = tf.linalg.matmul(augmented_psd, eigenvectors)\n",
    "    eigenvectors = tfp.math.gram_schmidt(result)\n",
    "    result = tf.linalg.matmul(augmented_psd, eigenvectors)\n",
    "    def norm_power_result(eig_index):\n",
    "        indexed_eigenvectors = eigenvectors[:, :, :, eig_index:eig_index + 1]\n",
    "        def make_projection_matrix():\n",
    "            return tf.linalg.matmul(indexed_eigenvectors, transpose_simple(indexed_eigenvectors))\n",
    "        def make_identity_matrix():\n",
    "            return tf.broadcast_to(\n",
    "                tf.linalg.eye(feature_k + 1)[None, None, :, :],\n",
    "                [b1, b2, feature_k + 1, feature_k + 1])\n",
    "        # TODO: Already added separate function for eigen0 so remove tf.cond.\n",
    "        result_projection = tf.linalg.matmul(\n",
    "            tf.cond(\n",
    "                tf.greater(eig_index, 0),\n",
    "                make_projection_matrix,\n",
    "                make_identity_matrix),\n",
    "            result[:, :, :, eig_index:eig_index + 1])\n",
    "        result_projection = result_projection[:, :, :, 0]\n",
    "        return tf.linalg.norm(result_projection, axis=2)\n",
    "    # These skip the lambda0 which should use repeated power iteration.\n",
    "    # lambda0 greatly affects the Gram Schmidt process so it needs to be high quality.\n",
    "    # Also, we guess that eigenvector using the first column of AugS*AugS^T.\n",
    "    eigenvalues = tf.map_fn(\n",
    "        norm_power_result,\n",
    "        tf.range(1, eigenvectors.shape[-1]),\n",
    "        fn_output_signature=tf.float32,\n",
    "    )\n",
    "    eigenvalues = tf.transpose(eigenvalues, [1, 2, 0])\n",
    "    eigenvalues = tf.concat(\n",
    "        [\n",
    "            approximate_eigen0_power_iteration(svd_s, s_21, s_22)[1][:, :, None],\n",
    "            eigenvalues,\n",
    "        ],\n",
    "        axis=2\n",
    "    )\n",
    "    trace_original = tf.math.reduce_sum(tf.square(svd_s), axis=-1)[:, None]\n",
    "    trace_aug_missing_final = tf.math.reduce_sum(eigenvalues, axis=-1)\n",
    "    final_eigenvalue = trace_original + tf.square(s_22) - trace_aug_missing_final\n",
    "    return tf.concat(\n",
    "        [\n",
    "            eigenvalues,\n",
    "            final_eigenvalue[:, :, None],\n",
    "        ],\n",
    "        axis=-1\n",
    "    )\n",
    "\n",
    "# TODO: Can we use a Cholesky-like (svd_s - sqrt(lambda) I) * (svd_s - sqrt(lambda) I)^T?\n",
    "# Write a more typical solver for this.\n",
    "@tf.function(jit_compile = True)\n",
    "def solve_update_s_factorization_iteration(svd_s, s_21, s_22, eig):\n",
    "    \"\"\"Block Cholesky eigenvector solver for a sparse matrix.\n",
    "    \n",
    "    This solution works because all rows but the last row of `AugS * AugS^T`\n",
    "    have only the diagonal entry and last column which are strictly non-zero.\n",
    "    \n",
    "    We want an SVD factorization of AugS so that we end up with the factors\n",
    "    of an orthonormal U and a diagonal S (V will be discarded). Equivalently,\n",
    "    we want the eigenvalues and eigenvectors of `AugS * AugS^T`. For the rows\n",
    "    of `AugS * AugS^T` to be solvable for the eigenvector, then covariance in\n",
    "    the data matrices should generally be nonzero so that every eigenvalue is\n",
    "    perturbed.\n",
    "    \n",
    "    Suppose `AugS * AugS^T * v = lambda * v`, and `v[-1] = 1`. We compute the\n",
    "    diagonal and last entry of `AugS * AugS^T` for this row. lambda_i may be\n",
    "    very close to `(AugS * AugS^T)[i, i]`, so that row is ignored in the solver.\n",
    "    ev_i is solved using the last row of the matrix, after all other entries\n",
    "    are solved.\n",
    "    \"\"\"\n",
    "    feature_k = svd_s.shape[1]\n",
    "\n",
    "    # We will create orthonormal matrices, with eigenvectors in columns. The\n",
    "    # shape is updated to (b1, b2, feature_k, feature_k - 1). This solver\n",
    "    # breaks down when it comes to the final (generally smallest) eigenvalue.\n",
    "    diag_entry = tf.square(svd_s[:, None, :, None]) - eig[:, :, None, :-1]\n",
    "    # The last column comes from the product of the original s diagonal and the\n",
    "    # appended row s_21.\n",
    "    final_entry = svd_s[:, None, :] * s_21[:, :, 0, :]\n",
    "\n",
    "    def solve_ev(eig_index):\n",
    "        entries_before = final_entry[:, :, :eig_index] / diag_entry[:, :, :eig_index, eig_index]\n",
    "        entries_after = final_entry[:, :, eig_index + 1:] / diag_entry[:, :, eig_index + 1:, eig_index]\n",
    "        this_entry = (\n",
    "                tf.math.reduce_sum(\n",
    "                    final_entry[:, :, :eig_index] * entries_before,\n",
    "                    axis=-1)\n",
    "                + tf.math.reduce_sum(\n",
    "                    final_entry[:, :, eig_index + 1:] * entries_after,\n",
    "                    axis=-1)\n",
    "                + (tf.square(s_22) - eig[:, :, eig_index]) * 1.\n",
    "            )[:, :, None] / -final_entry[:, :, eig_index:eig_index + 1]\n",
    "        return tf.concat(\n",
    "            [\n",
    "                entries_before,\n",
    "                this_entry,\n",
    "                entries_after,\n",
    "                tf.ones_like(this_entry),\n",
    "            ],\n",
    "            axis=-1\n",
    "        )\n",
    "\n",
    "    eigenvectors = tf.concat(\n",
    "        #[approximate_eigen0_power_iteration(svd_s, s_21, s_22)[0]]\n",
    "        #+\n",
    "        [\n",
    "            solve_ev(eig_index)[:, :, :, None]\n",
    "            for eig_index in range(int(feature_k))\n",
    "        ],\n",
    "        axis=3,\n",
    "    )\n",
    "    return tfp.math.gram_schmidt(eigenvectors)"
   ]
  },
  {
   "cell_type": "code",
   "execution_count": 86,
   "id": "c902fd61",
   "metadata": {},
   "outputs": [
    {
     "data": {
      "text/plain": [
       "TensorShape([5, 10, 1, 3])"
      ]
     },
     "execution_count": 86,
     "metadata": {},
     "output_type": "execute_result"
    }
   ],
   "source": [
    "s_21, s_22 = build_update_s_matrix_blocks(s, u, v, augmented_data)\n",
    "s_21.shape"
   ]
  },
  {
   "cell_type": "code",
   "execution_count": 87,
   "id": "e1e09d21",
   "metadata": {},
   "outputs": [
    {
     "data": {
      "text/plain": [
       "<tf.Tensor: shape=(4,), dtype=float32, numpy=array([111.255, 105.121,  85.197,   1.751], dtype=float32)>"
      ]
     },
     "execution_count": 87,
     "metadata": {},
     "output_type": "execute_result"
    }
   ],
   "source": [
    "augmented_s = build_augmented_s(s, s_21, s_22)\n",
    "augmented_psd = tf.linalg.matmul(augmented_s, transpose_simple(augmented_s))\n",
    "augmented_psd_lambda_actual, augmented_psd_ev_actual = tf.linalg.eigh(augmented_psd)\n",
    "augmented_psd_lambda_actual = augmented_psd_lambda_actual[:, :, ::-1]\n",
    "augmented_psd_ev_actual = augmented_psd_ev_actual[:, :, :, ::-1]\n",
    "augmented_psd_lambda_actual[0, 0]"
   ]
  },
  {
   "cell_type": "code",
   "execution_count": 88,
   "id": "fb7eec73",
   "metadata": {},
   "outputs": [
    {
     "data": {
      "text/plain": [
       "array([0.039, 0.557, 0.96 , 0.996, 1.   ])"
      ]
     },
     "execution_count": 88,
     "metadata": {},
     "output_type": "execute_result"
    }
   ],
   "source": [
    "import numpy as np\n",
    "ev = solve_update_s_factorization_iteration(s, s_21, s_22, approximate_update_eigenvalues(s, s_22))\n",
    "np.quantile(np.abs((ev * augmented_psd_ev_actual[:, :, :, :-1]).numpy().sum(axis=-2)), [0.01, 0.1, 0.25, 0.5, 0.9])"
   ]
  },
  {
   "cell_type": "code",
   "execution_count": 14,
   "id": "59a9cbf6",
   "metadata": {
    "scrolled": true
   },
   "outputs": [
    {
     "data": {
      "text/plain": [
       "<tf.Tensor: shape=(4,), dtype=float32, numpy=array([113.24056  , 102.12055  ,  84.85995  ,   1.7277527], dtype=float32)>"
      ]
     },
     "execution_count": 14,
     "metadata": {},
     "output_type": "execute_result"
    }
   ],
   "source": [
    "ev_lambda = approximate_eigenvalue_power_iteration(s, s_21, s_22, ev)\n",
    "ev_lambda[0, 0]"
   ]
  },
  {
   "cell_type": "code",
   "execution_count": 15,
   "id": "66dd1d32",
   "metadata": {},
   "outputs": [
    {
     "data": {
      "text/plain": [
       "array([0.0880382 , 0.89206724, 0.98316965, 0.99740428, 0.99993255])"
      ]
     },
     "execution_count": 15,
     "metadata": {},
     "output_type": "execute_result"
    }
   ],
   "source": [
    "ev = solve_update_s_factorization_iteration(s, s_21, s_22, ev_lambda)\n",
    "np.quantile(np.abs((ev * augmented_psd_ev_actual[:, :, :, :-1]).numpy().sum(axis=-2)), [0.01, 0.1, 0.25, 0.5, 0.9])"
   ]
  },
  {
   "cell_type": "markdown",
   "id": "4112008f",
   "metadata": {},
   "source": [
    "Note: Deleted some copies of these 2 cells. After this point, the iterations could not arrive any closer to the eigenvectors.\n",
    "\n",
    "The 90%ile approximate eigenvector (largest eigenvalue, PCA PC_1) error looks poor. For now, the rank-1 update is used for generating many mutations of the data and for building a histogram. Hopefully it does not bias us to trim some rows that might perform well, if we gave them a full k+1 SVD."
   ]
  },
  {
   "cell_type": "markdown",
   "id": "e96d0b74",
   "metadata": {},
   "source": [
    "### Feature Statistics\n",
    "\n",
    "We can generate a large number of SVDs of k+1-feature subsets of the data. The k+1'th feature (augmented to the original SVD) either outperforms the k'th ranked feature, or the new feature is rejected from this submatrix of data. The binary choice should be summed up over many rounds."
   ]
  },
  {
   "cell_type": "code",
   "execution_count": 16,
   "id": "9df6c09d",
   "metadata": {},
   "outputs": [],
   "source": [
    "MAX_SAMPLED_ELEMENTS = 256\n",
    "\n",
    "@tf.function(jit_compile = True)\n",
    "def generate_random_ensemble(data, k):\n",
    "    num_samples = min(MAX_SAMPLED_ELEMENTS, data.shape[0]) // k\n",
    "    feature_inds = tf.reshape(tf.random.shuffle(tf.range(data.shape[0]))[:num_samples * k], (num_samples, k))\n",
    "    return tf.sort(feature_inds, axis=1)\n",
    "\n",
    "@tf.function(jit_compile = True)\n",
    "def evaluate_features_batch(data, k, ndim, feature_inds=None):\n",
    "    if feature_inds is None:\n",
    "        feature_inds = generate_random_ensemble(data, k)\n",
    "    matrices = tf.gather(data, feature_inds)\n",
    "    s, u, v = tf.linalg.svd(matrices)\n",
    "    s_21, s_22 = build_update_s_matrix_blocks(s, u, v, data)\n",
    "    \n",
    "    ev_rotate = solve_update_s_factorization_iteration(\n",
    "        s, s_21, s_22, approximate_update_eigenvalues(s, s_22))\n",
    "    ev_lambda = approximate_eigenvalue_power_iteration(s, s_21, s_22, ev_rotate)\n",
    "    ev_rotate = solve_update_s_factorization_iteration(s, s_21, s_22, ev_lambda)\n",
    "    # The eigenvectors of the updated triangular matrix are a rotation of the eigenvectors\n",
    "    # of the original svd. u simply needs to be updated with a 1 on the diagonal; this is\n",
    "    # the orthogonal basis that we are using for k+1.\n",
    "    augmented_pca_u = tf.concat(\n",
    "        [\n",
    "            tf.concat(\n",
    "                [\n",
    "                    u,\n",
    "                    tf.zeros(u.shape[:-1] + (1,)),\n",
    "                ],\n",
    "                axis=-1,\n",
    "            ),\n",
    "            tf.concat(\n",
    "                [\n",
    "                    tf.zeros(u.shape[:-2] + (1, u.shape[-1])),\n",
    "                    tf.ones_like(u)[..., 0:1, 0:1],\n",
    "                ],\n",
    "                axis=-1,\n",
    "            ),\n",
    "        ],\n",
    "        axis=-2,\n",
    "    )\n",
    "    ev = tf.linalg.matmul(augmented_pca_u[:, None, :, :], ev_rotate)\n",
    "\n",
    "    feature_performance = tf.linalg.norm(\n",
    "        ev[:, :, :, :ndim], axis=3,\n",
    "    )\n",
    "    data_selected = tf.cast(\n",
    "        feature_performance[:, :, k] > tf.math.reduce_min(feature_performance[:, :, :k], axis=2),\n",
    "        tf.int32,\n",
    "    )\n",
    "\n",
    "    data_conflict = tf.reduce_any(\n",
    "        tf.range(data.shape[0])[None, :, None] == feature_inds[:, None, :],\n",
    "        axis=2,\n",
    "    )\n",
    "    data_selected = tf.where(data_conflict, tf.constant(0), data_selected)\n",
    "    return tf.math.reduce_sum(data_selected, axis=0)"
   ]
  },
  {
   "cell_type": "code",
   "execution_count": 17,
   "id": "cc69417b",
   "metadata": {},
   "outputs": [],
   "source": [
    "@tf.function(jit_compile = True)\n",
    "def evaluate_features_round(data, k, ndim, num_batches=10):\n",
    "    # TODO: parallel_iterations is not actually affecting latency in eager mode.\n",
    "    results = tf.map_fn(\n",
    "        lambda i: evaluate_features_batch(data, k, ndim),\n",
    "        tf.range(num_batches),\n",
    "        fn_output_signature=tf.int32,\n",
    "        parallel_iterations=1,\n",
    "    )\n",
    "    return tf.math.reduce_sum(results, axis=0)"
   ]
  },
  {
   "cell_type": "code",
   "execution_count": 18,
   "id": "7edcc5fe",
   "metadata": {},
   "outputs": [],
   "source": [
    "# Real developmental biology sc-RNAseq data (embryonic mouse nervous tissue)\n",
    "import numpy as np\n",
    "data = np.loadtxt('BuettnerEtAl2015.csv', delimiter=',', dtype='object')\n",
    "gene_names = data[1:, 0]\n",
    "data = data[1:, 1:].astype(int)\n",
    "cdata = data.astype(float) - np.mean(data, axis=1)[:, None]\n",
    "cdata_std = np.std(cdata, axis=1)\n",
    "cdata /= np.maximum(1e-20, cdata_std[:, None])\n",
    "var_genes = np.sort(np.argsort(-cdata_std)[:5000])\n",
    "gene_names = gene_names[var_genes]\n",
    "cdata = cdata[var_genes]\n",
    "\n",
    "cdata = tf.constant(cdata, tf.float32)"
   ]
  },
  {
   "cell_type": "code",
   "execution_count": 19,
   "id": "c10f6a82",
   "metadata": {},
   "outputs": [
    {
     "name": "stderr",
     "output_type": "stream",
     "text": [
      "2022-10-22 12:00:30.211921: I tensorflow/stream_executor/gpu/asm_compiler.cc:323] ptxas warning : Registers are spilled to local memory in function 'sort_26', 460 bytes spill stores, 396 bytes spill loads\n",
      "ptxas warning : Registers are spilled to local memory in function 'sort_25', 460 bytes spill stores, 396 bytes spill loads\n",
      "\n"
     ]
    }
   ],
   "source": [
    "bins = evaluate_features_round(cdata, 3, 1)"
   ]
  },
  {
   "cell_type": "code",
   "execution_count": 20,
   "id": "8cfb8848",
   "metadata": {},
   "outputs": [
    {
     "data": {
      "text/plain": [
       "<tf.Tensor: shape=(5000,), dtype=int32, numpy=array([ 54,  98,  43, ...,  50,  63, 230], dtype=int32)>"
      ]
     },
     "execution_count": 20,
     "metadata": {},
     "output_type": "execute_result"
    }
   ],
   "source": [
    "bins"
   ]
  },
  {
   "cell_type": "code",
   "execution_count": 21,
   "id": "35bf6874",
   "metadata": {},
   "outputs": [
    {
     "data": {
      "text/plain": [
       "'\"ENSMUSG00000023944\"'"
      ]
     },
     "execution_count": 21,
     "metadata": {},
     "output_type": "execute_result"
    }
   ],
   "source": [
    "gene_names[np.argmax(bins)]"
   ]
  },
  {
   "cell_type": "markdown",
   "id": "73c8fce3",
   "metadata": {},
   "source": [
    "https://www.ncbi.nlm.nih.gov/gene/?term=ENSMUSG00000023944\n",
    "\n",
    "Hsp90ab1 -> heat shock protein is expressed in central nervous system (axonogenesis). It has functional significance to an embryonic nervous system dataset."
   ]
  },
  {
   "cell_type": "code",
   "execution_count": 22,
   "id": "ffd1e4e3",
   "metadata": {},
   "outputs": [],
   "source": [
    "import matplotlib.pyplot as plt"
   ]
  },
  {
   "cell_type": "code",
   "execution_count": 23,
   "id": "8a2d56e4",
   "metadata": {},
   "outputs": [
    {
     "data": {
      "image/png": "[encoded data removed]",
      "text/plain": [
       "<Figure size 640x480 with 1 Axes>"
      ]
     },
     "metadata": {},
     "output_type": "display_data"
    }
   ],
   "source": [
    "plt.figure()\n",
    "sorted_bins = np.sort(bins)\n",
    "plt.plot(sorted_bins / sorted_bins[-1])\n",
    "plt.xlabel('List of all variably expressed genes (ranked)')\n",
    "plt.ylabel('Relative usefulness score (SASR feature selection)')\n",
    "None"
   ]
  },
  {
   "cell_type": "code",
   "execution_count": 24,
   "id": "da0a21d1",
   "metadata": {},
   "outputs": [
    {
     "data": {
      "text/plain": [
       "array([ 310, 1551, 1684, ..., 3224, 4714, 1997])"
      ]
     },
     "execution_count": 24,
     "metadata": {},
     "output_type": "execute_result"
    }
   ],
   "source": [
    "np.random.choice(np.arange(cdata.shape[0]), 5000, replace=False, p=tf.linalg.normalize(bins, 1)[0].numpy())"
   ]
  },
  {
   "cell_type": "code",
   "execution_count": 25,
   "id": "05b8823e",
   "metadata": {},
   "outputs": [],
   "source": [
    "@tf.function\n",
    "def build_ensemble(data, k, ndim, bins, ensemble_size=8, niter=10):\n",
    "    def resample_ensemble(size, k, norm_bins):\n",
    "        ensemble = np.random.choice(\n",
    "            np.arange(size),\n",
    "            ensemble_size * k,\n",
    "            replace=False,\n",
    "            p=norm_bins)\n",
    "        ensemble = ensemble.reshape((ensemble_size, k))\n",
    "        return ensemble\n",
    "    ensemble = tf.py_function(\n",
    "        resample_ensemble,\n",
    "        [data.shape[0], k, tf.linalg.normalize(bins, 1)[0]],\n",
    "        tf.int32,\n",
    "    )\n",
    "    ensemble = tf.ensure_shape(ensemble, [ensemble_size, k])\n",
    "\n",
    "    @tf.function(jit_compile = True)\n",
    "    def build_ensemble_xla(data, k, ndim, ensemble):\n",
    "        def update_element(feature_list):\n",
    "            augment_selection = evaluate_features_batch(\n",
    "                data, k, ndim, feature_list[None, :])\n",
    "            selected_inds = tf.random.shuffle(tf.where(augment_selection)[:, 0])\n",
    "            def replace_poorly_performing_feature():\n",
    "                s, u, v = tf.linalg.svd(tf.gather(data, feature_list))\n",
    "                u_score = tf.linalg.norm(u[:, :ndim], axis=-1)\n",
    "                poorly_performing_lookup_ind = tf.cast(tf.argmin(u_score), tf.int32)\n",
    "                new_feature_ind = tf.cast(selected_inds[0], tf.int32)\n",
    "                return tf.tensor_scatter_nd_update(\n",
    "                    feature_list,\n",
    "                    [[poorly_performing_lookup_ind]],\n",
    "                    [new_feature_ind],\n",
    "                )\n",
    "            return tf.cond(\n",
    "                tf.shape(selected_inds)[0] > 0,\n",
    "                replace_poorly_performing_feature,\n",
    "                lambda: feature_list,\n",
    "            )\n",
    "\n",
    "        return tf.map_fn(\n",
    "            update_element,\n",
    "            ensemble,\n",
    "        )\n",
    "\n",
    "    return tf.while_loop(\n",
    "        lambda ensemble: True,\n",
    "        lambda ensemble: (build_ensemble_xla(data, k, ndim, ensemble),),\n",
    "        (ensemble,),\n",
    "        maximum_iterations=niter,\n",
    "    )"
   ]
  },
  {
   "cell_type": "code",
   "execution_count": 26,
   "id": "4d9db650",
   "metadata": {},
   "outputs": [
    {
     "data": {
      "text/plain": [
       "(<tf.Tensor: shape=(8, 3), dtype=int32, numpy=\n",
       " array([[1823, 3139, 1549],\n",
       "        [ 614,  200, 4275],\n",
       "        [2185, 1317,  210],\n",
       "        [2834, 2039,  560],\n",
       "        [4507,   30,  154],\n",
       "        [1344, 1672, 2835],\n",
       "        [ 863,  150, 1955],\n",
       "        [1785, 2781, 1612]], dtype=int32)>,)"
      ]
     },
     "execution_count": 26,
     "metadata": {},
     "output_type": "execute_result"
    }
   ],
   "source": [
    "build_ensemble(cdata, 3, 1, bins, niter=100)"
   ]
  },
  {
   "cell_type": "code",
   "execution_count": 33,
   "id": "11dc826f",
   "metadata": {},
   "outputs": [],
   "source": [
    "def filter_features_for_sasr(data, gene_names, k, ndim, orig_size, quantile_cutoff=0.25):\n",
    "    scale_factor = np.ceil(orig_size / data.shape[0])\n",
    "    bins = evaluate_features_round(data, k, ndim, num_batches=5 * scale_factor).numpy()\n",
    "    sorted_bins = np.sort(bins)\n",
    "    cutoff = np.quantile(bins, quantile_cutoff)\n",
    "    if np.quantile(bins, quantile_cutoff) == np.quantile(bins, quantile_cutoff + 0.25):\n",
    "        return data, gene_names, None\n",
    "    plt.plot(sorted_bins)\n",
    "    plt.plot(np.tile([cutoff], len(bins)), color='red')\n",
    "    return data[bins > cutoff], gene_names[bins > cutoff], bins"
   ]
  },
  {
   "cell_type": "code",
   "execution_count": 34,
   "id": "c0b27e6e",
   "metadata": {},
   "outputs": [
    {
     "name": "stderr",
     "output_type": "stream",
     "text": [
      "2022-10-22 12:01:44.019731: I tensorflow/stream_executor/gpu/asm_compiler.cc:323] ptxas warning : Registers are spilled to local memory in function 'sort_26', 460 bytes spill stores, 396 bytes spill loads\n",
      "ptxas warning : Registers are spilled to local memory in function 'sort_25', 460 bytes spill stores, 396 bytes spill loads\n",
      "\n"
     ]
    },
    {
     "data": {
      "image/png": "[encoded data removed]",
      "text/plain": [
       "<Figure size 640x480 with 1 Axes>"
      ]
     },
     "metadata": {},
     "output_type": "display_data"
    }
   ],
   "source": [
    "filter_features_for_sasr(cdata, gene_names, 3, 1, len(cdata))\n",
    "None"
   ]
  },
  {
   "cell_type": "code",
   "execution_count": 35,
   "id": "4ec8e4ce",
   "metadata": {},
   "outputs": [
    {
     "name": "stderr",
     "output_type": "stream",
     "text": [
      "2022-10-22 12:01:48.851914: I tensorflow/stream_executor/gpu/asm_compiler.cc:323] ptxas warning : Registers are spilled to local memory in function 'sort_26', 460 bytes spill stores, 396 bytes spill loads\n",
      "ptxas warning : Registers are spilled to local memory in function 'sort_25', 460 bytes spill stores, 396 bytes spill loads\n",
      "\n"
     ]
    },
    {
     "data": {
      "image/png": "[encoded data removed]",
      "text/plain": [
       "<Figure size 640x480 with 1 Axes>"
      ]
     },
     "metadata": {},
     "output_type": "display_data"
    },
    {
     "name": "stderr",
     "output_type": "stream",
     "text": [
      "2022-10-22 12:01:55.664316: I tensorflow/stream_executor/gpu/asm_compiler.cc:323] ptxas warning : Registers are spilled to local memory in function 'sort_26', 520 bytes spill stores, 460 bytes spill loads\n",
      "ptxas warning : Registers are spilled to local memory in function 'sort_25', 520 bytes spill stores, 460 bytes spill loads\n",
      "\n"
     ]
    },
    {
     "name": "stdout",
     "output_type": "stream",
     "text": [
      "WARNING:tensorflow:5 out of the last 7 calls to <function evaluate_features_round at 0x7fd3b41a9a20> triggered tf.function retracing. Tracing is expensive and the excessive number of tracings could be due to (1) creating @tf.function repeatedly in a loop, (2) passing tensors with different shapes, (3) passing Python objects instead of tensors. For (1), please define your @tf.function outside of the loop. For (2), @tf.function has reduce_retracing=True option that can avoid unnecessary retracing. For (3), please refer to https://www.tensorflow.org/guide/function#controlling_retracing and https://www.tensorflow.org/api_docs/python/tf/function for  more details.\n"
     ]
    },
    {
     "data": {
      "image/png": "[encoded data removed]",
      "text/plain": [
       "<Figure size 640x480 with 1 Axes>"
      ]
     },
     "metadata": {},
     "output_type": "display_data"
    },
    {
     "name": "stdout",
     "output_type": "stream",
     "text": [
      "WARNING:tensorflow:6 out of the last 8 calls to <function evaluate_features_round at 0x7fd3b41a9a20> triggered tf.function retracing. Tracing is expensive and the excessive number of tracings could be due to (1) creating @tf.function repeatedly in a loop, (2) passing tensors with different shapes, (3) passing Python objects instead of tensors. For (1), please define your @tf.function outside of the loop. For (2), @tf.function has reduce_retracing=True option that can avoid unnecessary retracing. For (3), please refer to https://www.tensorflow.org/guide/function#controlling_retracing and https://www.tensorflow.org/api_docs/python/tf/function for  more details.\n"
     ]
    },
    {
     "data": {
      "image/png": "[encoded data removed]",
      "text/plain": [
       "<Figure size 640x480 with 1 Axes>"
      ]
     },
     "metadata": {},
     "output_type": "display_data"
    },
    {
     "data": {
      "image/png": "[encoded data removed]",
      "text/plain": [
       "<Figure size 640x480 with 1 Axes>"
      ]
     },
     "metadata": {},
     "output_type": "display_data"
    },
    {
     "data": {
      "image/png": "[encoded data removed]",
      "text/plain": [
       "<Figure size 640x480 with 1 Axes>"
      ]
     },
     "metadata": {},
     "output_type": "display_data"
    },
    {
     "data": {
      "image/png": "[encoded data removed]",
      "text/plain": [
       "<Figure size 640x480 with 1 Axes>"
      ]
     },
     "metadata": {},
     "output_type": "display_data"
    },
    {
     "data": {
      "image/png": "[encoded data removed]",
      "text/plain": [
       "<Figure size 640x480 with 1 Axes>"
      ]
     },
     "metadata": {},
     "output_type": "display_data"
    },
    {
     "data": {
      "image/png": "[encoded data removed]",
      "text/plain": [
       "<Figure size 640x480 with 1 Axes>"
      ]
     },
     "metadata": {},
     "output_type": "display_data"
    },
    {
     "data": {
      "image/png": "[encoded data removed]",
      "text/plain": [
       "<Figure size 640x480 with 1 Axes>"
      ]
     },
     "metadata": {},
     "output_type": "display_data"
    },
    {
     "data": {
      "image/png": "[encoded data removed]",
      "text/plain": [
       "<Figure size 640x480 with 1 Axes>"
      ]
     },
     "metadata": {},
     "output_type": "display_data"
    },
    {
     "data": {
      "image/png": "[encoded data removed]",
      "text/plain": [
       "<Figure size 640x480 with 1 Axes>"
      ]
     },
     "metadata": {},
     "output_type": "display_data"
    },
    {
     "data": {
      "image/png": "[encoded data removed]",
      "text/plain": [
       "<Figure size 640x480 with 1 Axes>"
      ]
     },
     "metadata": {},
     "output_type": "display_data"
    },
    {
     "data": {
      "image/png": "[encoded data removed]",
      "text/plain": [
       "<Figure size 640x480 with 1 Axes>"
      ]
     },
     "metadata": {},
     "output_type": "display_data"
    }
   ],
   "source": [
    "filter_data = cdata\n",
    "filter_gene_list = gene_names\n",
    "for i in range(16):\n",
    "    plt.subplot(4, 4, i+1)\n",
    "    quantile_cutoff = 0.25 + 0.02 * i\n",
    "    quantile_cutoff = 0.35\n",
    "    filter_data, filter_gene_list, new_bins = filter_features_for_sasr(filter_data, filter_gene_list, 5, 2, len(cdata), quantile_cutoff)\n",
    "    if new_bins is None or len(filter_data) <= 15:\n",
    "        break\n",
    "    plt.show()"
   ]
  },
  {
   "cell_type": "code",
   "execution_count": 36,
   "id": "41aa162f",
   "metadata": {},
   "outputs": [
    {
     "data": {
      "text/plain": [
       "10"
      ]
     },
     "execution_count": 36,
     "metadata": {},
     "output_type": "execute_result"
    }
   ],
   "source": [
    "len(filter_data)"
   ]
  },
  {
   "cell_type": "code",
   "execution_count": 37,
   "id": "b8e65204",
   "metadata": {},
   "outputs": [
    {
     "data": {
      "text/plain": [
       "tensorflow.python.framework.ops.EagerTensor"
      ]
     },
     "execution_count": 37,
     "metadata": {},
     "output_type": "execute_result"
    }
   ],
   "source": [
    "type(filter_data)"
   ]
  },
  {
   "cell_type": "code",
   "execution_count": 38,
   "id": "239eceb0",
   "metadata": {},
   "outputs": [
    {
     "data": {
      "text/plain": [
       "TensorShape([252, 5])"
      ]
     },
     "execution_count": 38,
     "metadata": {},
     "output_type": "execute_result"
    }
   ],
   "source": [
    "feature_inds = []\n",
    "for i in range(len(filter_data)):\n",
    "    for j in range(i + 1, len(filter_data)):\n",
    "        for k in range(j + 1, len(filter_data)):\n",
    "            for l in range(k + 1, len(filter_data)):\n",
    "                for m in range(l + 1, len(filter_data)):\n",
    "                    feature_inds += [[i, j, k, l, m]]\n",
    "feature_inds = tf.constant(feature_inds, tf.int32)\n",
    "feature_inds.shape"
   ]
  },
  {
   "cell_type": "code",
   "execution_count": 39,
   "id": "4dcce2b5",
   "metadata": {},
   "outputs": [],
   "source": [
    "ndim = 2\n",
    "explanation_of_variance = []\n",
    "princomp_1 = []\n",
    "batch_size = 1024 * 64\n",
    "for i in range(0, len(feature_inds), batch_size):\n",
    "    limit_i = min(len(feature_inds), i + batch_size)\n",
    "    u, s, v = np.linalg.svd(tf.gather(filter_data, feature_inds[i:limit_i]).numpy(), full_matrices=False)\n",
    "    # s, u, _ = tf.linalg.svd(tf.gather(filter_data, feature_inds[i:limit_i]).numpy())\n",
    "    # Maybe consider ndim = 2 for norming multiple singular values together\n",
    "    explanation_of_variance.append(np.sum(np.square(s[:, 0:ndim]), axis=-1))\n",
    "    princomp_1.append(u[:, :, 0:ndim])"
   ]
  },
  {
   "cell_type": "code",
   "execution_count": 40,
   "id": "111919c1",
   "metadata": {},
   "outputs": [],
   "source": [
    "explanation_of_variance = np.concatenate(explanation_of_variance, axis=0)\n",
    "princomp_1 = np.concatenate(princomp_1, axis=0)"
   ]
  },
  {
   "cell_type": "code",
   "execution_count": 41,
   "id": "c674d2ae",
   "metadata": {},
   "outputs": [
    {
     "data": {
      "text/plain": [
       "<tf.Tensor: shape=(5,), dtype=int32, numpy=array([2, 4, 6, 7, 9], dtype=int32)>"
      ]
     },
     "execution_count": 41,
     "metadata": {},
     "output_type": "execute_result"
    }
   ],
   "source": [
    "opt = np.argmax(explanation_of_variance)\n",
    "feature_inds[opt]"
   ]
  },
  {
   "cell_type": "code",
   "execution_count": 42,
   "id": "ab0e72ed",
   "metadata": {},
   "outputs": [
    {
     "data": {
      "text/plain": [
       "1"
      ]
     },
     "execution_count": 42,
     "metadata": {},
     "output_type": "execute_result"
    }
   ],
   "source": [
    "sum(explanation_of_variance >= explanation_of_variance[opt])"
   ]
  },
  {
   "cell_type": "code",
   "execution_count": 43,
   "id": "fceb4926",
   "metadata": {},
   "outputs": [
    {
     "data": {
      "text/plain": [
       "array(['\"ENSMUSG00000030695\"', '\"ENSMUSG00000032294\"',\n",
       "       '\"ENSMUSG00000059040\"', '\"ENSMUSG00000063524\"',\n",
       "       '\"ENSMUSG00000082062\"'], dtype=object)"
      ]
     },
     "execution_count": 43,
     "metadata": {},
     "output_type": "execute_result"
    }
   ],
   "source": [
    "filter_gene_list[feature_inds[opt]]"
   ]
  },
  {
   "cell_type": "code",
   "execution_count": 45,
   "id": "3a13f532",
   "metadata": {},
   "outputs": [
    {
     "data": {
      "text/plain": [
       "array([[-0.446,  0.08 ],\n",
       "       [-0.45 ,  0.101],\n",
       "       [-0.462, -0.437],\n",
       "       [-0.462, -0.435],\n",
       "       [-0.414,  0.777]], dtype=float32)"
      ]
     },
     "execution_count": 45,
     "metadata": {},
     "output_type": "execute_result"
    }
   ],
   "source": [
    "np.set_printoptions(precision=3)\n",
    "princomp_1[opt]"
   ]
  },
  {
   "cell_type": "markdown",
   "id": "92fdd6b4",
   "metadata": {},
   "source": [
    "| Gene                                                                                         | PC1   | PC2    | Notes                                                                                                                                                                   |\n",
    "|----------------------------------------------------------------------------------------------|-------|--------|-------------------------------------------------------------------------------------------------------------------------------------------------------------------------|\n",
    "| [Aldoa](https://www.ncbi.nlm.nih.gov/gene/11674)                                             | 0.446 | 0.08   | Cell migration                                                                                                                                                          |\n",
    "| [Pkm](https://www.ncbi.nlm.nih.gov/gene/18746)                                               | 0.45  | 0.101  | [Animal organ regeneration](http://amigo.geneontology.org/amigo/term/GO:0031100); is found in cerebellum                                                                |\n",
    "| [Eno1b](https://www.ncbi.nlm.nih.gov/gene/433182)                                            | 0.462 | -0.437 | Very similar to Eno1                                                                                                                                                    |\n",
    "| [Eno1](https://www.ncbi.nlm.nih.gov/gene/13806)                                              | 0.462 | -0.435 | [Embryonic development](http://amigo.geneontology.org/amigo/term/GO:0001701); is found in cerebellum                                                                    |\n",
    "| [Ftl2-ps](https://useast.ensembl.org/Mus_musculus/Gene/Summary?db=core;g=ENSMUSG00000082062) | 0.414 | 0.777  | [Abnormal heart morphology phenotype](https://useast.ensembl.org/Mus_musculus/Gene/Phenotype?db=core;g=ENSMUSG00000082062;r=4:125398081-125398632;t=ENSMUST00000118517) |\n"
   ]
  },
  {
   "cell_type": "code",
   "execution_count": 48,
   "id": "abf16305",
   "metadata": {},
   "outputs": [],
   "source": [
    "import sklearn.decomposition"
   ]
  },
  {
   "cell_type": "code",
   "execution_count": 90,
   "id": "65afe775",
   "metadata": {},
   "outputs": [
    {
     "data": {
      "image/png": "[encoded data removed]",
      "text/plain": [
       "<Figure size 640x480 with 1 Axes>"
      ]
     },
     "metadata": {},
     "output_type": "display_data"
    }
   ],
   "source": [
    "pca_full = sklearn.decomposition.PCA(n_components=2)\n",
    "classical_pca = pca_full.fit_transform(cdata.numpy().T)\n",
    "plt.scatter(classical_pca[:, 0], classical_pca[:, 1])\n",
    "plt.xlabel('PC_1 (Classical SVD)')\n",
    "plt.ylabel('PC_2 (Classical SVD)')\n",
    "None"
   ]
  },
  {
   "cell_type": "code",
   "execution_count": 91,
   "id": "ef2e2504",
   "metadata": {},
   "outputs": [
    {
     "name": "stdout",
     "output_type": "stream",
     "text": [
      "Lasso sparsity k: 576\n"
     ]
    },
    {
     "data": {
      "image/png": "[encoded data removed]",
      "text/plain": [
       "<Figure size 640x480 with 1 Axes>"
      ]
     },
     "metadata": {},
     "output_type": "display_data"
    }
   ],
   "source": [
    "# alpha: L1 sparsity (lasso) penalty.\n",
    "pca_lasso_sparse = sklearn.decomposition.SparsePCA(n_components=2, alpha=10)\n",
    "lasso_pca = pca_lasso_sparse.fit_transform(cdata.numpy().T)\n",
    "print('Lasso sparsity k: {}'.format(sum((np.abs(pca_lasso_sparse.components_) > 1e-10).any(axis=0).astype(int))))\n",
    "plt.scatter(lasso_pca[:, 0], lasso_pca[:, 1])\n",
    "plt.xlabel('PC_1 (Lasso SVD)')\n",
    "plt.ylabel('PC_2 (Lasso SVD)')\n",
    "None"
   ]
  },
  {
   "cell_type": "code",
   "execution_count": 92,
   "id": "dbfbdc5d",
   "metadata": {},
   "outputs": [
    {
     "data": {
      "text/plain": [
       "Text(0, 0.5, 'PC_2 (SASR Feature Selection/L0 SVD)')"
      ]
     },
     "execution_count": 92,
     "metadata": {},
     "output_type": "execute_result"
    },
    {
     "data": {
      "image/png": "[encoded data removed]",
      "text/plain": [
       "<Figure size 640x480 with 1 Axes>"
      ]
     },
     "metadata": {},
     "output_type": "display_data"
    }
   ],
   "source": [
    "features = tf.gather(cdata, feature_inds[opt]).numpy()\n",
    "pca_sasr_result = sklearn.decomposition.PCA(n_components=2)\n",
    "sasr_pca = pca_sasr_result.fit_transform(features.T)\n",
    "plt.scatter(sasr_pca[:, 0], sasr_pca[:, 1])\n",
    "plt.xlabel('PC_1 (SASR Feature Selection/L0 SVD)')\n",
    "plt.ylabel('PC_2 (SASR Feature Selection/L0 SVD)')"
   ]
  },
  {
   "cell_type": "markdown",
   "id": "bbf810b0",
   "metadata": {},
   "source": [
    "### Results\n",
    "\n",
    "SASR feature selection resulted in a PCA where the PC1 and PC2 components are visually less correlated - there is a process going on along the x-axis, and along the y-axis. SVD always results in an orthonormal basis, so this is just a qualitative finding that could be explored further.\n",
    "\n",
    "First, we had tried the analysis using ndim = 1, and the gene list was less interpretable (with ndim = 1 it wanted to select a long list of ribosomal proteins). Those genes might be highly variable and there might be an actual process (or noise) going on, but it was hard to call it a success. We would increment ndim (e.g. between 1-3) until we think that the feature selection is selecting something interesting.\n",
    "\n",
    "### Conclusions\n",
    "\n",
    "We are using a subroutine that fits into the SASR paper (augment the k rows of data with an additional row, and greedily trim one of the rows). However, we're not using a simulated annealing schedule yet. SASR would select a new row uniformly randomly for its entire duration, and would stochastically move to a less favorable set of rows. It would need to select the unfavorable subdata with the probability ramping lower (`exp(delta_score (1 + alpha*log(T + 1)))`) until it becomes completely greedy. We think that the implementation focus for us is still choosing the distribution of rows to augment as the k+1'th row.\n",
    "\n",
    "The row sampling still needs to be according to a discrete distribution on every batch, not having the only operation be to chop off rows. At early times, the row sampling can be smoothed towards a uniform distribution even when we have a histogram of observation utility already. We should adjust a multinomial/softmax function of the histogram, so that the differences in our utility score will have most of the rows go to probability 0 with time. Hopefully, runtime to convergence will improve several-fold \n",
    "\n",
    "Consider every batch using only a subset of the observations (minibatches). We can also advertise the project as having distributed potential (blocking up the observations and features into several chunks), so that we sum up the contributions from every chunk of the data/every compute node, before the result is effected (the categorical distribution for the next epoch). \n",
    "\n",
    "Finally, rank-one SVD updates could be used in more places (even in the final brute-force search) if we had excellent tests and bounds on accuracy."
   ]
  },
  {
   "cell_type": "code",
   "execution_count": null,
   "id": "9f19b184",
   "metadata": {},
   "outputs": [],
   "source": []
  }
 ],
 "metadata": {
  "kernelspec": {
   "display_name": "Python 3 (ipykernel)",
   "language": "python",
   "name": "python3"
  },
  "language_info": {
   "codemirror_mode": {
    "name": "ipython",
    "version": 3
   },
   "file_extension": ".py",
   "mimetype": "text/x-python",
   "name": "python",
   "nbconvert_exporter": "python",
   "pygments_lexer": "ipython3",
   "version": "3.10.6"
  }
 },
 "nbformat": 4,
 "nbformat_minor": 5
}
