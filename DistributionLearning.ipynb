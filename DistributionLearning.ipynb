{
 "cells": [
  {
   "cell_type": "code",
   "execution_count": 2,
   "id": "fc4680d1",
   "metadata": {},
   "outputs": [
    {
     "name": "stderr",
     "output_type": "stream",
     "text": [
      "2022-10-28 16:45:24.837954: I tensorflow/core/platform/cpu_feature_guard.cc:193] This TensorFlow binary is optimized with oneAPI Deep Neural Network Library (oneDNN) to use the following CPU instructions in performance-critical operations:  AVX2 FMA\n",
      "To enable them in other operations, rebuild TensorFlow with the appropriate compiler flags.\n"
     ]
    }
   ],
   "source": [
    "from l0pca import weights_utility"
   ]
  },
  {
   "cell_type": "code",
   "execution_count": 9,
   "id": "70dfedcf",
   "metadata": {},
   "outputs": [],
   "source": [
    "import numpy as np\n",
    "import tensorflow as tf\n",
    "data = np.loadtxt('Buettner2015Features@1024.csv', delimiter=',', dtype='object')\n",
    "gene_names = data[0, 1:]\n",
    "data = data[1:, 1:].astype(np.float32)\n",
    "data = tf.constant(data)\n",
    "cov = tf.linalg.matmul(tf.transpose(data), data) / (data.shape[0] - 1)"
   ]
  },
  {
   "cell_type": "code",
   "execution_count": 10,
   "id": "51a35886",
   "metadata": {},
   "outputs": [
    {
     "data": {
      "text/plain": [
       "array(['\"ENSMUSG00000008668\"', '\"ENSMUSG00000025794\"',\n",
       "       '\"ENSMUSG00000093674\"'], dtype=object)"
      ]
     },
     "execution_count": 10,
     "metadata": {},
     "output_type": "execute_result"
    }
   ],
   "source": [
    "gene_names[[109, 410, 1020]]"
   ]
  },
  {
   "cell_type": "code",
   "execution_count": 12,
   "id": "ade17be1",
   "metadata": {},
   "outputs": [
    {
     "data": {
      "text/plain": [
       "array([0.06699303, 0.08763904, 2.8558207 ], dtype=float32)"
      ]
     },
     "execution_count": 12,
     "metadata": {},
     "output_type": "execute_result"
    }
   ],
   "source": [
    "np.linalg.eigh(cov.numpy()[[109, 410, 1020]].T[[109, 410, 1020]])[0]"
   ]
  },
  {
   "cell_type": "code",
   "execution_count": 871,
   "id": "d7ed4ab3",
   "metadata": {},
   "outputs": [],
   "source": [
    "@tf.function(jit_compile = True)\n",
    "def gather_cov(cov, batches):\n",
    "    inds_row = batches[..., :, None, None]\n",
    "    inds_col = batches[..., None, :, None]\n",
    "    inds_shape = tf.broadcast_dynamic_shape(\n",
    "        tf.shape(inds_row), tf.shape(inds_col))\n",
    "    inds = tf.concat([tf.broadcast_to(inds_row, inds_shape), tf.broadcast_to(inds_col, inds_shape)], axis=-1)\n",
    "    return tf.gather_nd(cov, inds)"
   ]
  },
  {
   "cell_type": "code",
   "execution_count": 872,
   "id": "8029cb92",
   "metadata": {},
   "outputs": [
    {
     "data": {
      "text/plain": [
       "<tf.Tensor: shape=(2, 2), dtype=float32, numpy=\n",
       "array([[1.0034844 , 0.46886358],\n",
       "       [0.46886358, 1.0034841 ]], dtype=float32)>"
      ]
     },
     "execution_count": 872,
     "metadata": {},
     "output_type": "execute_result"
    }
   ],
   "source": [
    "tf.gather_nd(cov, [[[1, 1], [1, 3]], [[3, 1], [3, 3]]])"
   ]
  },
  {
   "cell_type": "code",
   "execution_count": 462,
   "id": "aa745064",
   "metadata": {},
   "outputs": [],
   "source": [
    "@tf.function(jit_compile = True)\n",
    "def reservoir_sample_naive(k, weights):\n",
    "    order = tf.random.shuffle(tf.range(weights.shape[0]))\n",
    "    weights = tf.gather(weights, order)\n",
    "    retain = weights < tf.random.uniform(weights.shape)\n",
    "    return tf.ensure_shape(tf.boolean_mask(order, retain)[:k], [k])"
   ]
  },
  {
   "cell_type": "code",
   "execution_count": 511,
   "id": "f14a0040",
   "metadata": {},
   "outputs": [
    {
     "data": {
      "text/plain": [
       "<tf.Tensor: shape=(3,), dtype=int32, numpy=array([2, 1, 0], dtype=int32)>"
      ]
     },
     "execution_count": 511,
     "metadata": {},
     "output_type": "execute_result"
    }
   ],
   "source": [
    "reservoir_sample_naive(3, tf.constant([0.1, 0.1, 0.1, 0.7]))"
   ]
  },
  {
   "cell_type": "code",
   "execution_count": 875,
   "id": "a3aa9ee2",
   "metadata": {},
   "outputs": [],
   "source": [
    "def evaluate_cov(weights, cov, k):\n",
    "    ensemble_prob = tf.nn.softmax(weights)\n",
    "    ensemble = reservoir_sample_naive(k, ensemble_prob)\n",
    "    ensemble_cov = gather_cov(cov, ensemble)\n",
    "\n",
    "    loss = tf.math.reduce_max(\n",
    "        tf.linalg.eigh(ensemble_cov)[0],\n",
    "    )\n",
    "\n",
    "    data_no_conflict = tf.logical_not(\n",
    "        tf.reduce_any(\n",
    "            tf.equal(tf.range(cov.shape[0])[:, None], ensemble[None, :]),\n",
    "            axis=-1))\n",
    "    data_list = tf.boolean_mask(tf.range(cov.shape[0]), data_no_conflict)\n",
    "    data_row = tf.gather(cov, ensemble)\n",
    "    data_row = tf.gather(tf.transpose(data_row),\n",
    "                  data_list)[:, None, :]\n",
    "    data_diag = tf.gather(tf.linalg.diag_part(cov), data_list)\n",
    "\n",
    "    cov_batch_shape = tf.broadcast_dynamic_shape(tf.shape(ensemble_cov[None, :, :]), tf.shape(data_row))\n",
    "    ensemble_aug = tf.concat(\n",
    "        [\n",
    "            tf.concat(\n",
    "                [\n",
    "                    tf.broadcast_to(\n",
    "                        ensemble_cov[None, :, :],\n",
    "                        cov_batch_shape),\n",
    "                    transpose_simple(data_row),\n",
    "                ],\n",
    "                axis=2,\n",
    "            ),\n",
    "            tf.concat(\n",
    "                [\n",
    "                    data_row,\n",
    "                    data_diag[:, None, None],\n",
    "                ],\n",
    "                axis=2,\n",
    "            ),\n",
    "        ],\n",
    "        axis=1,\n",
    "    )\n",
    "    eigenvalues, eigenvectors = tf.linalg.eigh(ensemble_aug)\n",
    "    pc0 = tf.gather(transpose_simple(eigenvectors), tf.argmax(eigenvalues, axis=1), batch_dims=1)\n",
    "    ranking = tf.argsort(tf.math.abs(pc0), axis=1)\n",
    "    aug_index = k\n",
    "    next_feature = tf.where(\n",
    "        ranking[:, 0] == aug_index,\n",
    "        ranking[:, 1],\n",
    "        ranking[:, 0])\n",
    "    score = tf.math.abs(pc0[:, -1]) - tf.math.abs(tf.gather(pc0, next_feature, batch_dims=1))\n",
    "    updates = tf.where(score > 0, tf.math.log(score), 0)\n",
    "    return loss, data_list, updates"
   ]
  },
  {
   "cell_type": "code",
   "execution_count": 768,
   "id": "cf31e1bf",
   "metadata": {},
   "outputs": [],
   "source": [
    "class AnnealingDiffEq(object):\n",
    "    def __init__(self, t0):\n",
    "        self.t0 = t0\n",
    "\n",
    "    def temperature(self, i):\n",
    "        return self.t0 / tf.math.log(i + 2)\n",
    "\n",
    "    def compute_derivative(self, temperature):\n",
    "        \"\"\"Applies a first-order diff eq: `y' = f(y)`.\n",
    "\n",
    "        The derivative `dt/di` (thermodynamic temperature - reciprocal) is:\n",
    "        `t0 / (i + e)`. Then: `t' = t0 exp(-t / t0)`. All updates (\"gradient\")\n",
    "        must be adjusted so that they are the difference between a new vector\n",
    "        with the expected updated L1 norm, and the original vector. Otherwise,\n",
    "        we would not step through annealing at the expected schedule.\n",
    "        \"\"\"\n",
    "        return self.t0 * tf.math.exp(-temperature / self.t0)\n",
    "\n",
    "class ParameterStrategy(object):\n",
    "    def __init__(self, t0) -> None:\n",
    "        self.annealing_diff_eq = AnnealingDiffEq(t0)\n",
    "\n",
    "    def call(self, param, evaluation_fn):\n",
    "        @tf.custom_gradient\n",
    "        def custom_gradient_impl(param):\n",
    "            def grad(upstream, variables=[]):\n",
    "                # variables (cov) are unused.\n",
    "                variables = list(map(tf.zeros_like, variables))\n",
    "                unused_loss, update_ind, update_score = evaluation_fn(param)\n",
    "                return upstream * self._update_scatter_backprop(param, update_ind, update_score), variables\n",
    "\n",
    "            return evaluation_fn(param)[0], grad\n",
    "\n",
    "        return custom_gradient_impl(param)\n",
    "\n",
    "    def _update_scatter_backprop(self, param, update_ind, update_score):\n",
    "        @tf.function\n",
    "        def update_impl(param, update_ind, update_score, annealing_diff_eq):\n",
    "            temperature = tf.linalg.norm(param, 1)\n",
    "            updated_temperature = temperature + annealing_diff_eq.compute_derivative(temperature)\n",
    "            orig_param = param\n",
    "            param = tf.tensor_scatter_nd_add(\n",
    "                param,\n",
    "                update_ind[:, None],\n",
    "                update_score,\n",
    "            )\n",
    "            # return -(param * updated_temperature / tf.linalg.norm(param, 1) - orig_param)\n",
    "            return -(param - orig_param)\n",
    "        return update_impl(param, update_ind, update_score, self.annealing_diff_eq)"
   ]
  },
  {
   "cell_type": "code",
   "execution_count": 769,
   "id": "acfa99e4",
   "metadata": {},
   "outputs": [],
   "source": [
    "from ast import Param\n",
    "import tensorflow as tf\n",
    "from l0pca import weights_utility\n",
    "\n",
    "class L0PCALayer(tf.keras.layers.Layer):\n",
    "    def __init__(self, t0=1) -> None:\n",
    "        super().__init__()\n",
    "        self.t0 = float(t0)\n",
    "        self.parameter_strategy = ParameterStrategy(self.t0)\n",
    "\n",
    "    def build(self, input_shape):\n",
    "        self.feature_logits = self.add_weight(\n",
    "            'feature_logits',\n",
    "            shape=[input_shape[1]],\n",
    "            initializer=lambda shape, dtype: tf.fill(shape, tf.constant(self.t0 / shape[0], dtype)),\n",
    "            trainable=True,\n",
    "        )\n",
    "        self.cov_matrix = self.add_weight(\n",
    "            'cov_matrix',\n",
    "            shape=[input_shape[1], input_shape[1]],\n",
    "            initializer='zero',\n",
    "            trainable=False,\n",
    "        )\n",
    "        self.epoch = self.add_weight(\n",
    "            'epoch',\n",
    "            shape=[],\n",
    "            initializer='zero',\n",
    "            dtype=tf.int32,\n",
    "            trainable=False,\n",
    "        )\n",
    "\n",
    "    def call(self, data):\n",
    "        data = data - tf.math.reduce_mean(data, axis=0)[None, :]\n",
    "        cov_matrix = tf.cond(\n",
    "            tf.equal(self.epoch, 0),\n",
    "            lambda: self.cov_matrix.assign(tf.linalg.matmul(tf.transpose(data), data)),\n",
    "            lambda: self.cov_matrix)\n",
    "        self.epoch.assign_add(1)\n",
    "        return self.parameter_strategy.call(\n",
    "            self.feature_logits,\n",
    "            lambda param: evaluate_cov(param, cov_matrix, 12))\n",
    "\n",
    "class L0PCA(tf.keras.Model):\n",
    "\n",
    "    def __init__(self, *args, **kwargs):\n",
    "        super().__init__(*args, **kwargs)\n",
    "        self.layer = L0PCALayer()\n",
    "\n",
    "    def call(self, data):\n",
    "        result = self.layer(data)\n",
    "        self.add_loss(result)\n",
    "        return result"
   ]
  },
  {
   "cell_type": "code",
   "execution_count": 770,
   "id": "7e9443a0",
   "metadata": {},
   "outputs": [],
   "source": [
    "tf.keras.backend.clear_session()"
   ]
  },
  {
   "cell_type": "code",
   "execution_count": 771,
   "id": "1a412557",
   "metadata": {},
   "outputs": [],
   "source": [
    "tf.config.optimizer.set_jit(True) # Enable XLA."
   ]
  },
  {
   "cell_type": "code",
   "execution_count": 887,
   "id": "779cdc34",
   "metadata": {},
   "outputs": [],
   "source": [
    "m = L0PCA()"
   ]
  },
  {
   "cell_type": "code",
   "execution_count": 877,
   "id": "063e8b96",
   "metadata": {},
   "outputs": [],
   "source": [
    "# Other optimizers not showing as good of a gene set!\n",
    "opt = tf.keras.optimizers.SGD(1e-3)\n",
    "opt = tf.keras.optimizers.Adam(1e-1)"
   ]
  },
  {
   "cell_type": "code",
   "execution_count": 888,
   "id": "5c8468c2",
   "metadata": {},
   "outputs": [],
   "source": [
    "m.compile(opt, steps_per_execution=1)"
   ]
  },
  {
   "cell_type": "code",
   "execution_count": 889,
   "id": "4d00cb87",
   "metadata": {},
   "outputs": [],
   "source": [
    "tf.debugging.disable_traceback_filtering()"
   ]
  },
  {
   "cell_type": "code",
   "execution_count": 890,
   "id": "756562a9",
   "metadata": {
    "scrolled": true
   },
   "outputs": [
    {
     "name": "stdout",
     "output_type": "stream",
     "text": [
      "9/9 [==============================] - 1s 94ms/step - loss: 224.6059\n"
     ]
    },
    {
     "data": {
      "text/plain": [
       "<keras.callbacks.History at 0x7fb15a818a90>"
      ]
     },
     "execution_count": 890,
     "metadata": {},
     "output_type": "execute_result"
    }
   ],
   "source": [
    "m.fit(data, epochs=1)"
   ]
  },
  {
   "cell_type": "code",
   "execution_count": 884,
   "id": "87709090",
   "metadata": {},
   "outputs": [
    {
     "data": {
      "text/plain": [
       "[<matplotlib.lines.Line2D at 0x7fb15a9da500>]"
      ]
     },
     "execution_count": 884,
     "metadata": {},
     "output_type": "execute_result"
    },
    {
     "data": {
      "image/png": "[encoded data removed]",
      "text/plain": [
       "<Figure size 640x480 with 1 Axes>"
      ]
     },
     "metadata": {},
     "output_type": "display_data"
    }
   ],
   "source": [
    "plt.plot(np.sort(tf.nn.softmax(m.weights[0])))"
   ]
  },
  {
   "cell_type": "code",
   "execution_count": 853,
   "id": "7eb11e09",
   "metadata": {},
   "outputs": [
    {
     "data": {
      "text/plain": [
       "9"
      ]
     },
     "execution_count": 853,
     "metadata": {},
     "output_type": "execute_result"
    }
   ],
   "source": [
    "(tf.nn.softmax(m.weights[0]) > 0.0001).numpy().sum()"
   ]
  },
  {
   "cell_type": "code",
   "execution_count": 854,
   "id": "6505613c",
   "metadata": {},
   "outputs": [
    {
     "data": {
      "text/plain": [
       "50"
      ]
     },
     "execution_count": 854,
     "metadata": {},
     "output_type": "execute_result"
    }
   ],
   "source": [
    "np.argmax(m.weights[0])"
   ]
  },
  {
   "cell_type": "code",
   "execution_count": 855,
   "id": "bd162cc8",
   "metadata": {},
   "outputs": [
    {
     "data": {
      "text/plain": [
       "array(['\"ENSMUSG00000010592\"', '\"ENSMUSG00000036036\"',\n",
       "       '\"ENSMUSG00000001687\"', '\"ENSMUSG00000034120\"',\n",
       "       '\"ENSMUSG00000046323\"'], dtype=object)"
      ]
     },
     "execution_count": 855,
     "metadata": {},
     "output_type": "execute_result"
    }
   ],
   "source": [
    "gene_names[np.argsort(-m.weights[0])[:5]]"
   ]
  },
  {
   "cell_type": "code",
   "execution_count": 891,
   "id": "110233c4",
   "metadata": {},
   "outputs": [
    {
     "data": {
      "text/plain": [
       "364.1278"
      ]
     },
     "execution_count": 891,
     "metadata": {},
     "output_type": "execute_result"
    }
   ],
   "source": [
    "tf.linalg.norm(m.weights[0], 1).numpy()"
   ]
  },
  {
   "cell_type": "code",
   "execution_count": null,
   "id": "7d1daeb7",
   "metadata": {},
   "outputs": [],
   "source": []
  }
 ],
 "metadata": {
  "kernelspec": {
   "display_name": "Python 3 (ipykernel)",
   "language": "python",
   "name": "python3"
  },
  "language_info": {
   "codemirror_mode": {
    "name": "ipython",
    "version": 3
   },
   "file_extension": ".py",
   "mimetype": "text/x-python",
   "name": "python",
   "nbconvert_exporter": "python",
   "pygments_lexer": "ipython3",
   "version": "3.10.6"
  }
 },
 "nbformat": 4,
 "nbformat_minor": 5
}
