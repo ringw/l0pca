{
 "cells": [
  {
   "cell_type": "code",
   "execution_count": 4,
   "id": "c8bd638e",
   "metadata": {},
   "outputs": [],
   "source": [
    "# Real developmental biology sc-RNAseq data (embryonic mouse nervous tissue)\n",
    "import numpy as np\n",
    "data = np.loadtxt('../stochsparsepca.sandbox/BuettnerEtAl2015.csv', delimiter=',', dtype='object')\n",
    "gene_names = data[1:, 0]\n",
    "cell_ids = data[0, 1:]\n",
    "data = data[1:, 1:].astype(int)\n",
    "cdata = data.astype(float) - np.mean(data, axis=1)[:, None]\n",
    "cdata_std = np.std(cdata, axis=1)\n",
    "cdata /= np.maximum(1e-20, cdata_std[:, None])\n",
    "var_genes = np.sort(np.argsort(-cdata_std)[:512])\n",
    "gene_names = gene_names[var_genes]\n",
    "cdata = cdata[var_genes]"
   ]
  },
  {
   "cell_type": "code",
   "execution_count": 13,
   "id": "0a76d1a3",
   "metadata": {},
   "outputs": [],
   "source": [
    "output = np.zeros((len(cell_ids) + 1, len(gene_names) + 1), object)\n",
    "output[0, 1:] = gene_names\n",
    "output[1:, 0] = cell_ids\n",
    "output[1:, 1:] = cdata.T"
   ]
  },
  {
   "cell_type": "code",
   "execution_count": 14,
   "id": "ffeb1fdf",
   "metadata": {},
   "outputs": [],
   "source": [
    "np.savetxt('Buettner2015Features.csv', output, delimiter=',', fmt='%s')"
   ]
  },
  {
   "cell_type": "code",
   "execution_count": null,
   "id": "18c0fc34",
   "metadata": {},
   "outputs": [],
   "source": []
  }
 ],
 "metadata": {
  "kernelspec": {
   "display_name": "Python 3 (ipykernel)",
   "language": "python",
   "name": "python3"
  },
  "language_info": {
   "codemirror_mode": {
    "name": "ipython",
    "version": 3
   },
   "file_extension": ".py",
   "mimetype": "text/x-python",
   "name": "python",
   "nbconvert_exporter": "python",
   "pygments_lexer": "ipython3",
   "version": "3.10.6"
  }
 },
 "nbformat": 4,
 "nbformat_minor": 5
}
