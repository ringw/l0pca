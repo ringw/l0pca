{
 "cells": [
  {
   "cell_type": "code",
   "execution_count": 1,
   "id": "4e0467e5",
   "metadata": {},
   "outputs": [
    {
     "name": "stderr",
     "output_type": "stream",
     "text": [
      "2022-10-11 08:24:19.798938: I tensorflow/core/platform/cpu_feature_guard.cc:193] This TensorFlow binary is optimized with oneAPI Deep Neural Network Library (oneDNN) to use the following CPU instructions in performance-critical operations:  AVX2 FMA\n",
      "To enable them in other operations, rebuild TensorFlow with the appropriate compiler flags.\n",
      "2022-10-11 08:24:20.433854: W tensorflow/stream_executor/platform/default/dso_loader.cc:64] Could not load dynamic library 'libcudart.so.11.0'; dlerror: libcudart.so.11.0: cannot open shared object file: No such file or directory\n",
      "2022-10-11 08:24:20.433875: I tensorflow/stream_executor/cuda/cudart_stub.cc:29] Ignore above cudart dlerror if you do not have a GPU set up on your machine.\n",
      "2022-10-11 08:24:20.520945: E tensorflow/stream_executor/cuda/cuda_blas.cc:2981] Unable to register cuBLAS factory: Attempting to register factory for plugin cuBLAS when one has already been registered\n",
      "2022-10-11 08:24:22.036656: W tensorflow/stream_executor/platform/default/dso_loader.cc:64] Could not load dynamic library 'libnvinfer.so.7'; dlerror: libnvinfer.so.7: cannot open shared object file: No such file or directory\n",
      "2022-10-11 08:24:22.036786: W tensorflow/stream_executor/platform/default/dso_loader.cc:64] Could not load dynamic library 'libnvinfer_plugin.so.7'; dlerror: libnvinfer_plugin.so.7: cannot open shared object file: No such file or directory\n",
      "2022-10-11 08:24:22.036815: W tensorflow/compiler/tf2tensorrt/utils/py_utils.cc:38] TF-TRT Warning: Cannot dlopen some TensorRT libraries. If you would like to use Nvidia GPU with TensorRT, please make sure the missing libraries mentioned above are installed properly.\n"
     ]
    }
   ],
   "source": [
    "import tensorflow as tf"
   ]
  },
  {
   "cell_type": "code",
   "execution_count": 3,
   "id": "9f375c59",
   "metadata": {},
   "outputs": [],
   "source": [
    "ndim = 50"
   ]
  },
  {
   "cell_type": "code",
   "execution_count": 144,
   "id": "b0559434",
   "metadata": {},
   "outputs": [],
   "source": [
    "class SparsePCA(tf.keras.Model):\n",
    "    \"\"\"Sparse PCA convex relaxation for SGD.\n",
    "    \n",
    "    This equation was drafted based on eqs 19 and 20 in:\n",
    "    https://arxiv.org/abs/2005.05195\n",
    "    \"\"\"\n",
    "    \n",
    "    def __init__(self, ndim, k):\n",
    "        super(SparsePCA, self).__init__()\n",
    "        self.ndim = ndim\n",
    "        self.k = k\n",
    "        self.z_weight = tf.Variable(tf.random.normal([self.ndim + 1]), name='z_weight')\n",
    "        self.v_raw = tf.Variable(tf.random.normal([self.ndim]), name='v_raw')\n",
    "\n",
    "    def call(self, inputs):\n",
    "        # TODO: Properly constrain based on the off-diagonal entries\n",
    "        # If z[i] > 0.5 (after scale by k) then impose a soft penalty that would come from z[j]/2 constraint\n",
    "        z_value = tf.nn.softmax(self.z_weight)[:self.ndim] * self.k\n",
    "        self.eigenvector = tf.tanh(self.v_raw) * z_value\n",
    "        # PSD matrix of rank 1.\n",
    "        self.proj_matrix = tf.matmul(tf.reshape(self.eigenvector, [self.ndim, 1]), tf.reshape(self.eigenvector, [1, self.ndim]))\n",
    "        # The paper uses elementwise multplication (Euclidean inner product).\n",
    "        return tf.math.reduce_sum(inputs * self.proj_matrix)"
   ]
  },
  {
   "cell_type": "code",
   "execution_count": 145,
   "id": "f4242ddc",
   "metadata": {},
   "outputs": [],
   "source": [
    "model = SparsePCA(5, 3)\n",
    "optimizer = tf.keras.optimizers.SGD()\n",
    "obs = tf.random.normal([5 * 2, 5])\n",
    "data = tf.constant(tf.matmul(tf.transpose(obs), obs), name='data')"
   ]
  },
  {
   "cell_type": "code",
   "execution_count": 146,
   "id": "1aba2e88",
   "metadata": {},
   "outputs": [
    {
     "name": "stdout",
     "output_type": "stream",
     "text": [
      "loss: -6.035438537597656\n",
      "loss: -6.635714530944824\n",
      "loss: -7.251384258270264\n",
      "loss: -7.880305290222168\n",
      "loss: -8.521323204040527\n",
      "loss: -9.173909187316895\n",
      "loss: -9.837728500366211\n",
      "loss: -10.512296676635742\n",
      "loss: -11.196666717529297\n",
      "loss: -11.889286994934082\n",
      "loss: -12.587928771972656\n",
      "loss: -13.289758682250977\n",
      "loss: -13.991461753845215\n",
      "loss: -14.689457893371582\n",
      "loss: -15.380115509033203\n",
      "loss: -16.059959411621094\n",
      "loss: -16.725894927978516\n",
      "loss: -17.375335693359375\n",
      "loss: -18.006372451782227\n",
      "loss: -18.61774253845215\n",
      "loss: -19.208995819091797\n",
      "loss: -19.780418395996094\n",
      "loss: -20.333059310913086\n",
      "loss: -20.86872673034668\n",
      "loss: -21.38995361328125\n",
      "loss: -21.899948120117188\n",
      "loss: -22.40255355834961\n",
      "loss: -22.902088165283203\n",
      "loss: -23.403139114379883\n",
      "loss: -23.910425186157227\n",
      "loss: -24.428268432617188\n",
      "loss: -24.96027946472168\n",
      "loss: -25.50889015197754\n",
      "loss: -26.074857711791992\n",
      "loss: -26.657127380371094\n",
      "loss: -27.252683639526367\n",
      "loss: -27.856801986694336\n",
      "loss: -28.463483810424805\n",
      "loss: -29.066171646118164\n",
      "loss: -29.658283233642578\n",
      "loss: -30.233808517456055\n",
      "loss: -30.78780746459961\n",
      "loss: -31.316492080688477\n",
      "loss: -31.817359924316406\n",
      "loss: -32.289039611816406\n",
      "loss: -32.73107147216797\n",
      "loss: -33.143890380859375\n",
      "loss: -33.528377532958984\n",
      "loss: -33.88583755493164\n",
      "loss: -34.21782302856445\n",
      "loss: -34.52600860595703\n",
      "loss: -34.812068939208984\n",
      "loss: -35.07771682739258\n",
      "loss: -35.324562072753906\n",
      "loss: -35.554107666015625\n",
      "loss: -35.76780700683594\n",
      "loss: -35.96699905395508\n",
      "loss: -36.152854919433594\n",
      "loss: -36.326568603515625\n",
      "loss: -36.48908996582031\n",
      "loss: -36.641357421875\n",
      "loss: -36.78422164916992\n",
      "loss: -36.9184455871582\n",
      "loss: -37.044715881347656\n",
      "loss: -37.16366958618164\n",
      "loss: -37.275856018066406\n",
      "loss: -37.38186264038086\n",
      "loss: -37.48204803466797\n",
      "loss: -37.576900482177734\n",
      "loss: -37.66682052612305\n",
      "loss: -37.752159118652344\n",
      "loss: -37.83322525024414\n",
      "loss: -37.91033172607422\n",
      "loss: -37.98372268676758\n",
      "loss: -38.05363845825195\n",
      "loss: -38.120357513427734\n",
      "loss: -38.18403625488281\n",
      "loss: -38.24489974975586\n",
      "loss: -38.30312728881836\n",
      "loss: -38.35884475708008\n",
      "loss: -38.41223907470703\n",
      "loss: -38.463436126708984\n",
      "loss: -38.512550354003906\n",
      "loss: -38.559722900390625\n",
      "loss: -38.60505294799805\n",
      "loss: -38.64865493774414\n",
      "loss: -38.690589904785156\n",
      "loss: -38.73097610473633\n",
      "loss: -38.7699089050293\n",
      "loss: -38.807430267333984\n",
      "loss: -38.84362030029297\n",
      "loss: -38.87855529785156\n",
      "loss: -38.91232681274414\n",
      "loss: -38.94493103027344\n",
      "loss: -38.976463317871094\n",
      "loss: -39.006961822509766\n",
      "loss: -39.03649139404297\n",
      "loss: -39.06508255004883\n",
      "loss: -39.0927734375\n",
      "loss: -39.119625091552734\n"
     ]
    }
   ],
   "source": [
    "for nstep in range(100):\n",
    "    with tf.GradientTape() as tape:\n",
    "        loss = -model(data)\n",
    "\n",
    "    grads = tape.gradient(loss, model.trainable_weights)\n",
    "    optimizer.apply_gradients(zip(grads, model.trainable_weights))\n",
    "    print('loss: {}'.format(loss))"
   ]
  },
  {
   "cell_type": "code",
   "execution_count": 147,
   "id": "2f734fed",
   "metadata": {},
   "outputs": [
    {
     "data": {
      "text/plain": [
       "<tf.Tensor: shape=(5,), dtype=float32, numpy=\n",
       "array([ 3.2295819e-02, -2.9240181e+00, -9.6981076e-04, -3.0638992e-03,\n",
       "        2.8557130e-03], dtype=float32)>"
      ]
     },
     "execution_count": 147,
     "metadata": {},
     "output_type": "execute_result"
    }
   ],
   "source": [
    "model.eigenvector"
   ]
  },
  {
   "cell_type": "code",
   "execution_count": 148,
   "id": "899a2f30",
   "metadata": {},
   "outputs": [
    {
     "data": {
      "text/plain": [
       "2.9241998"
      ]
     },
     "execution_count": 148,
     "metadata": {},
     "output_type": "execute_result"
    }
   ],
   "source": [
    "import numpy as np\n",
    "np.linalg.norm(model.eigenvector.numpy())"
   ]
  },
  {
   "cell_type": "code",
   "execution_count": 149,
   "id": "65c438e6",
   "metadata": {},
   "outputs": [
    {
     "data": {
      "text/plain": [
       "(array([[-0.14368446,  0.89272356, -0.18644916,  0.09359178,  0.3726617 ],\n",
       "        [-0.21486512, -0.2973871 ,  0.4356079 ,  0.19997536,  0.7972763 ],\n",
       "        [ 0.38829485,  0.32052544,  0.80466235, -0.27901855, -0.14545685],\n",
       "        [-0.88329893,  0.07234776,  0.28926718, -0.13746186, -0.33463046],\n",
       "        [ 0.04688152,  0.0814546 ,  0.2105361 ,  0.9243935 , -0.30387253]],\n",
       "       dtype=float32),\n",
       " array([26.186852 ,  9.301595 ,  5.812681 ,  2.3784559,  2.0494936],\n",
       "       dtype=float32),\n",
       " array([[-0.14368446, -0.21486512,  0.38829485, -0.88329893,  0.04688152],\n",
       "        [ 0.89272356, -0.2973871 ,  0.32052544,  0.07234776,  0.0814546 ],\n",
       "        [-0.18644916,  0.4356079 ,  0.80466235,  0.28926718,  0.2105361 ],\n",
       "        [ 0.09359178,  0.19997536, -0.27901855, -0.13746186,  0.9243935 ],\n",
       "        [ 0.3726617 ,  0.7972763 , -0.14545685, -0.33463046, -0.30387253]],\n",
       "       dtype=float32))"
      ]
     },
     "execution_count": 149,
     "metadata": {},
     "output_type": "execute_result"
    }
   ],
   "source": [
    "np.linalg.svd(data.numpy())"
   ]
  },
  {
   "cell_type": "code",
   "execution_count": null,
   "id": "0d5f15bb",
   "metadata": {},
   "outputs": [],
   "source": []
  }
 ],
 "metadata": {
  "kernelspec": {
   "display_name": "Python 3 (ipykernel)",
   "language": "python",
   "name": "python3"
  },
  "language_info": {
   "codemirror_mode": {
    "name": "ipython",
    "version": 3
   },
   "file_extension": ".py",
   "mimetype": "text/x-python",
   "name": "python",
   "nbconvert_exporter": "python",
   "pygments_lexer": "ipython3",
   "version": "3.9.12"
  }
 },
 "nbformat": 4,
 "nbformat_minor": 5
}
