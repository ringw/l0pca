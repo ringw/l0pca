{
 "cells": [
  {
   "cell_type": "code",
   "execution_count": 2,
   "id": "fb544934",
   "metadata": {},
   "outputs": [
    {
     "name": "stderr",
     "output_type": "stream",
     "text": [
      "2022-10-29 21:43:14.320664: I tensorflow/core/platform/cpu_feature_guard.cc:193] This TensorFlow binary is optimized with oneAPI Deep Neural Network Library (oneDNN) to use the following CPU instructions in performance-critical operations:  AVX2 AVX512F AVX512_VNNI FMA\n",
      "To enable them in other operations, rebuild TensorFlow with the appropriate compiler flags.\n",
      "2022-10-29 21:43:21.497736: I tensorflow/core/platform/cpu_feature_guard.cc:193] This TensorFlow binary is optimized with oneAPI Deep Neural Network Library (oneDNN) to use the following CPU instructions in performance-critical operations:  AVX2 AVX512F AVX512_VNNI FMA\n",
      "To enable them in other operations, rebuild TensorFlow with the appropriate compiler flags.\n"
     ]
    }
   ],
   "source": [
    "import numpy as np\n",
    "import tensorflow as tf\n",
    "data = np.loadtxt('Buettner2015Features@1024.csv', delimiter=',', dtype='object')\n",
    "gene_names = data[0, 1:]\n",
    "data = data[1:, 1:].astype(np.float32)\n",
    "data = tf.constant(data)\n",
    "cov = tf.linalg.matmul(tf.transpose(data), data) / (data.shape[0] - 1)\n",
    "data = tf.transpose(data)"
   ]
  },
  {
   "cell_type": "code",
   "execution_count": 1,
   "id": "87739c87",
   "metadata": {},
   "outputs": [],
   "source": [
    "def _generate_random_sample_py(data, k):\n",
    "    rang = np.arange(data.shape[0])\n",
    "    return np.asarray([\n",
    "        np.random.choice(rang, k, replace=False)\n",
    "        for i in range(8192)\n",
    "    ])\n",
    "\n",
    "def generate_random_ensemble(data, k):\n",
    "    result = tf.py_function(\n",
    "        _generate_random_sample_py,\n",
    "        [data, k],\n",
    "        tf.int32)\n",
    "    return tf.ensure_shape(result, [8192, k])"
   ]
  },
  {
   "cell_type": "code",
   "execution_count": 3,
   "id": "4099eced",
   "metadata": {},
   "outputs": [],
   "source": [
    "import tensorflow_probability as tfp\n",
    "\n",
    "@tf.function(jit_compile = True)\n",
    "def transpose_simple(matrices):\n",
    "    \"\"\"Transpose utility for batches of matrices (high-dimensional).\"\"\"\n",
    "    ndim = len(matrices.shape)\n",
    "    return tf.transpose(matrices, list(range(ndim-2)) + [ndim-1, ndim-2])\n",
    "\n",
    "@tf.function(jit_compile = True)\n",
    "def create_block_diagonal_augmented_u(svd_u):\n",
    "    \"\"\"Treat the batch of u matrices as being updated block diagonally.\n",
    "\n",
    "    The orthonormal basis is trivial on the left side at this point, when\n",
    "    adding a new row. The existing basis is zero along this dimension, and\n",
    "    we produce an orthonormal basis vector e_N. Then, the augmented matrix\n",
    "    SVD would need a V with a more sophisticated basis vector, but we\n",
    "    discard V in this algorithm.\n",
    "    \n",
    "    The new SVD factorization's left singular vectors are found by\n",
    "    multiplying this trivial matrix by the left singular vectors of the\n",
    "    \"augmented S\".\n",
    "    \"\"\"\n",
    "    augmented_pca_u = tf.concat(\n",
    "        [\n",
    "            tf.concat(\n",
    "                [\n",
    "                    svd_u,\n",
    "                    tf.zeros(svd_u.shape[:-1] + (1,)),\n",
    "                ],\n",
    "                axis=-1,\n",
    "            ),\n",
    "            tf.concat(\n",
    "                [\n",
    "                    tf.zeros(svd_u.shape[:-2] + (1, svd_u.shape[-1])),\n",
    "                    tf.ones(svd_u.shape[:-2] + (1, 1)),\n",
    "                ],\n",
    "                axis=-1,\n",
    "            ),\n",
    "        ],\n",
    "        axis=-2,\n",
    "    )\n",
    "    return augmented_pca_u\n",
    "\n",
    "@tf.function(jit_compile = True)\n",
    "def build_update_s_matrix_blocks(svd_s, svd_u, svd_v, possible_rows):\n",
    "    # Add a row to the SVD decomposition by adding to S*V^T:\n",
    "    # encoding^T * V + ortho_norm * orthogonalize(V, row)\n",
    "    # encoding is the vector of the projection of row onto each\n",
    "    # basis vector in V. The orthogonalize function would subtract\n",
    "    # the projection onto this column space from row, then save the\n",
    "    # norm of the resulting normalized vector. The norm goes into S.\n",
    "    # U is updated with a 1 (add a diagonal block for the identity matrix 1x1).\n",
    "    # This is the transpose of the single-column update given by Ross 2008.\n",
    "    # Ross, D. A., Lim, J., Lin, R. S., & Yang, M. H. (2008). Incremental learning for robust visual tracking. International journal of computer vision, 77(1), 125-141.\n",
    "    n_matrices = svd_s.shape[0]\n",
    "    n_observations = svd_v.shape[1]\n",
    "    n_outputs = possible_rows.shape[0]\n",
    "    feature_k = svd_s.shape[1]\n",
    "    s_21 = tf.linalg.matmul(possible_rows[None, :, :], svd_v)[:, :, None, :]\n",
    "    proj_rows_batch_shape = [n_matrices, n_outputs, 1, feature_k]\n",
    "    transpose_v_batch_shape = [n_matrices, n_outputs, feature_k, n_observations]\n",
    "    # Note: A projection matrix onto the right-singular vectors is:\n",
    "    # `svd_v * svd_v^T` (unlike NumPy, \"v\" return value is not transposed).\n",
    "    # svd_v contains precisely the eigenvectors of M^T M in columns. We\n",
    "    # transpose the entire expression projecting our input vectors (which are\n",
    "    # row vectors). Then, we use the already-computed s_21 and possible_rows.\n",
    "    # `svd_v * svd_v^T * ColVecs = (RowVecs * svd_v * svd_v^T)^T`\n",
    "    row_projection = tf.squeeze(\n",
    "        tf.linalg.matmul(\n",
    "            s_21,\n",
    "            transpose_simple(svd_v)[:, None, :, :]),\n",
    "        axis=2)\n",
    "    row_ortho = possible_rows[None, :, :] - row_projection\n",
    "    # row_ortho would be used as a new right-singular vector in V, but we are\n",
    "    # discarding V. It must be unit-scaled.\n",
    "    row_ortho = tf.linalg.normalize(row_ortho)[0]\n",
    "    # Now find the extent of the original data along the orthogonal basis vector.\n",
    "    s_22 = tf.linalg.matmul(row_ortho[:, :, None, :], possible_rows[None, :, :, None])\n",
    "    # matmul creates 1x1 matrices, so we extract the scalar value.\n",
    "    s_22 = s_22[:, :, 0, 0]\n",
    "    return s_21, s_22\n",
    "\n",
    "@tf.function(jit_compile = True)\n",
    "def approximate_update_eigenvalues(svd_s, s_22):\n",
    "    \"\"\"Initialization for augmented matrix power iteration.\n",
    "    \n",
    "    Augmented S is no longer a diagonal matrix, so the eigenvalues\n",
    "    are perturbed from the original matrix. Generally, the update\n",
    "    to the matrix trace is small, and the final eigenvalue is even\n",
    "    smaller than the final diagonal entry that we append. We can\n",
    "    divide up the final value of S^2 arbitrarily, and add some of\n",
    "    that contribution uniformly to the larger eigenvalues, while the\n",
    "    final eigenvalue will be very small.\n",
    "    \"\"\"\n",
    "    feature_k = svd_s.shape[1]\n",
    "    aug_contribution = tf.square(s_22) / 2. / feature_k\n",
    "    return tf.concat([tf.square(svd_s)[:, None, :] + aug_contribution[:, :, None], (tf.square(s_22) / 2.)[:, :, None]], axis=-1)\n",
    "\n",
    "# TODO: We are close to not needing to create these augmented matrices explicitly.\n",
    "@tf.function(jit_compile = True)\n",
    "def build_augmented_s(svd_s, s_21, s_22):\n",
    "    \"\"\"Augment S for k+1 rows - no longer a diagonal matrix.\"\"\"\n",
    "    b1 = s_21.shape[0]\n",
    "    b2 = s_21.shape[1]\n",
    "    feature_k = svd_s.shape[1]\n",
    "    return tf.concat(\n",
    "        [\n",
    "            tf.concat(\n",
    "                [\n",
    "                    tf.broadcast_to(\n",
    "                        tf.linalg.diag(svd_s)[:, None, :, :],\n",
    "                        [b1, b2, feature_k, feature_k]),\n",
    "                    tf.zeros((b1, b2, feature_k, 1)),\n",
    "                ],\n",
    "                axis=-1,\n",
    "            ),\n",
    "            tf.concat(\n",
    "                [\n",
    "                    s_21,\n",
    "                    s_22[:, :, None, None],\n",
    "                ],\n",
    "                axis=-1\n",
    "            ),\n",
    "        ],\n",
    "        axis=-2,\n",
    "    )\n",
    "\n",
    "@tf.function(jit_compile = True)\n",
    "def build_augmented_psd(svd_s, s_21, s_22):\n",
    "    \"\"\"Build AugS * AugS^T.\"\"\"\n",
    "    b1 = s_21.shape[0]\n",
    "    b2 = s_21.shape[1]\n",
    "    feature_k = svd_s.shape[1]\n",
    "    return tf.concat(\n",
    "        [\n",
    "            tf.concat(\n",
    "                [\n",
    "                    tf.broadcast_to(\n",
    "                        tf.linalg.diag(tf.square(svd_s))[:, None, :, :],\n",
    "                        [b1, b2, feature_k, feature_k]),\n",
    "                    transpose_simple(s_21 * svd_s[:, None, None, :]),\n",
    "                ],\n",
    "                axis=-1,\n",
    "            ),\n",
    "            tf.concat(\n",
    "                [\n",
    "                    s_21 * svd_s[:, None, None, :],\n",
    "                    tf.square(s_22)[:, :, None, None],\n",
    "                ],\n",
    "                axis=-1\n",
    "            ),\n",
    "        ],\n",
    "        axis=-2,\n",
    "    )\n",
    "\n",
    "@tf.function(jit_compile = True)\n",
    "def approximate_eigen0_power_iteration(svd_s, s_21, s_22, niter=3):\n",
    "    \"\"\"Power iteration algorithm for a blocked Cholesky matrix.\n",
    "    \n",
    "    AugS is represented by [[svd_s, 0], [s_21, s_22]], so we can derive\n",
    "    AugS * AugS^T and search for its largest eigenvalue. This is initialized\n",
    "    from the first column of AugS * AugS^T, which has large values in it\n",
    "    (initial guess).\n",
    "    \"\"\"\n",
    "    b1 = s_21.shape[0]\n",
    "    b2 = s_21.shape[1]\n",
    "    feature_k = s_21.shape[-1]\n",
    "    ev = tf.concat(\n",
    "        [\n",
    "            tf.broadcast_to(\n",
    "                svd_s[:, None, 0:1],\n",
    "                [b1, b2, 1]),\n",
    "            tf.zeros((b1, b2, feature_k - 1)),\n",
    "            svd_s[:, None, 0:1] * s_21[:, :, 0, 0:1],\n",
    "        ],\n",
    "        axis=-1,\n",
    "    )\n",
    "    ev = ev[:, :, :, None]\n",
    "    ev = tf.linalg.normalize(ev)[0]\n",
    "    ev_lambda = None\n",
    "    # TODO: Benchmark multiplying each block manually, no new\n",
    "    # matrix creation here.\n",
    "    psd_matrix = build_augmented_psd(svd_s, s_21, s_22)\n",
    "    for i in range(niter):\n",
    "        ev = tf.linalg.matmul(psd_matrix, ev)\n",
    "        ev, ev_lambda = tf.linalg.normalize(ev, axis=2)\n",
    "    return ev, ev_lambda[:, :, 0, 0]\n",
    "\n",
    "@tf.function(jit_compile = True)\n",
    "def approximate_eigenvalue_power_iteration(svd_s, s_21, s_22, eigenvectors):\n",
    "    \"\"\"Single-iteration power iteration for multiple eigenvalues.\n",
    "\n",
    "    The largest eigenvalue should use a for-loop power iteration for fidelity.\n",
    "    Here, we apply the matrix once and project back onto the best-guess eigenvector\n",
    "    (avoiding the eigenvector of the largest and smallest eigenvalues). The\n",
    "    smallest eigenvalue/eigenvector is not useful to us.\n",
    "    \"\"\"\n",
    "    b1 = s_21.shape[0]\n",
    "    b2 = s_21.shape[1]\n",
    "    feature_k = s_21.shape[-1]\n",
    "    augmented_s = build_augmented_s(svd_s, s_21, s_22)\n",
    "    augmented_psd = tf.linalg.matmul(augmented_s, transpose_simple(augmented_s))\n",
    "    result = tf.linalg.matmul(augmented_psd, eigenvectors)\n",
    "    eigenvectors = tfp.math.gram_schmidt(result)\n",
    "    result = tf.linalg.matmul(augmented_psd, eigenvectors)\n",
    "    def norm_power_result(eig_index):\n",
    "        indexed_eigenvectors = eigenvectors[:, :, :, eig_index:eig_index + 1]\n",
    "        def make_projection_matrix():\n",
    "            return tf.linalg.matmul(indexed_eigenvectors, transpose_simple(indexed_eigenvectors))\n",
    "        def make_identity_matrix():\n",
    "            return tf.broadcast_to(\n",
    "                tf.linalg.eye(feature_k + 1)[None, None, :, :],\n",
    "                [b1, b2, feature_k + 1, feature_k + 1])\n",
    "        # TODO: Already added separate function for eigen0 so remove tf.cond.\n",
    "        result_projection = tf.linalg.matmul(\n",
    "            tf.cond(\n",
    "                tf.greater(eig_index, 0),\n",
    "                make_projection_matrix,\n",
    "                make_identity_matrix),\n",
    "            result[:, :, :, eig_index:eig_index + 1])\n",
    "        result_projection = result_projection[:, :, :, 0]\n",
    "        return tf.linalg.norm(result_projection, axis=2)\n",
    "    # These skip the lambda0 which should use repeated power iteration.\n",
    "    # lambda0 greatly affects the Gram Schmidt process so it needs to be high quality.\n",
    "    # Also, we guess that eigenvector using the first column of AugS*AugS^T.\n",
    "    eigenvalues = tf.map_fn(\n",
    "        norm_power_result,\n",
    "        tf.range(1, eigenvectors.shape[-1]),\n",
    "        fn_output_signature=tf.float32,\n",
    "    )\n",
    "    eigenvalues = tf.transpose(eigenvalues, [1, 2, 0])\n",
    "    eigenvalues = tf.concat(\n",
    "        [\n",
    "            approximate_eigen0_power_iteration(svd_s, s_21, s_22)[1][:, :, None],\n",
    "            eigenvalues,\n",
    "        ],\n",
    "        axis=2\n",
    "    )\n",
    "    trace_original = tf.math.reduce_sum(tf.square(svd_s), axis=-1)[:, None]\n",
    "    trace_aug_missing_final = tf.math.reduce_sum(eigenvalues, axis=-1)\n",
    "    final_eigenvalue = trace_original + tf.square(s_22) - trace_aug_missing_final\n",
    "    return tf.concat(\n",
    "        [\n",
    "            eigenvalues,\n",
    "            final_eigenvalue[:, :, None],\n",
    "        ],\n",
    "        axis=-1\n",
    "    )\n",
    "\n",
    "# TODO: Can we use a Cholesky-like (svd_s - sqrt(lambda) I) * (svd_s - sqrt(lambda) I)^T?\n",
    "# Write a more typical solver for this.\n",
    "@tf.function(jit_compile = True)\n",
    "def solve_update_s_factorization_iteration(svd_s, s_21, s_22, eig):\n",
    "    \"\"\"Block Cholesky eigenvector solver for a sparse matrix.\n",
    "    \n",
    "    This solution works because all rows but the last row of `AugS * AugS^T`\n",
    "    have only the diagonal entry and last column which are strictly non-zero.\n",
    "    \n",
    "    We want an SVD factorization of AugS so that we end up with the factors\n",
    "    of an orthonormal U and a diagonal S (V will be discarded). Equivalently,\n",
    "    we want the eigenvalues and eigenvectors of `AugS * AugS^T`. For the rows\n",
    "    of `AugS * AugS^T` to be solvable for the eigenvector, then covariance in\n",
    "    the data matrices should generally be nonzero so that every eigenvalue is\n",
    "    perturbed.\n",
    "    \n",
    "    Suppose `AugS * AugS^T * v = lambda * v`, and `v[-1] = 1`. We compute the\n",
    "    diagonal and last entry of `AugS * AugS^T` for this row. lambda_i may be\n",
    "    very close to `(AugS * AugS^T)[i, i]`, so that row is ignored in the solver.\n",
    "    ev_i is solved using the last row of the matrix, after all other entries\n",
    "    are solved.\n",
    "    \"\"\"\n",
    "    feature_k = svd_s.shape[1]\n",
    "\n",
    "    # We will create orthonormal matrices, with eigenvectors in columns. The\n",
    "    # shape is updated to (b1, b2, feature_k, feature_k - 1). This solver\n",
    "    # breaks down when it comes to the final (generally smallest) eigenvalue.\n",
    "    diag_entry = tf.square(svd_s[:, None, :, None]) - eig[:, :, None, :-1]\n",
    "    # The last column comes from the product of the original s diagonal and the\n",
    "    # appended row s_21.\n",
    "    final_entry = svd_s[:, None, :] * s_21[:, :, 0, :]\n",
    "\n",
    "    def solve_ev(eig_index):\n",
    "        entries_before = final_entry[:, :, :eig_index] / diag_entry[:, :, :eig_index, eig_index]\n",
    "        entries_after = final_entry[:, :, eig_index + 1:] / diag_entry[:, :, eig_index + 1:, eig_index]\n",
    "        this_entry = (\n",
    "                tf.math.reduce_sum(\n",
    "                    final_entry[:, :, :eig_index] * entries_before,\n",
    "                    axis=-1)\n",
    "                + tf.math.reduce_sum(\n",
    "                    final_entry[:, :, eig_index + 1:] * entries_after,\n",
    "                    axis=-1)\n",
    "                + (tf.square(s_22) - eig[:, :, eig_index]) * 1.\n",
    "            )[:, :, None] / -final_entry[:, :, eig_index:eig_index + 1]\n",
    "        return tf.concat(\n",
    "            [\n",
    "                entries_before,\n",
    "                this_entry,\n",
    "                entries_after,\n",
    "                tf.ones_like(this_entry),\n",
    "            ],\n",
    "            axis=-1\n",
    "        )\n",
    "\n",
    "    eigenvectors = tf.concat(\n",
    "        #[approximate_eigen0_power_iteration(svd_s, s_21, s_22)[0]]\n",
    "        #+\n",
    "        [\n",
    "            solve_ev(eig_index)[:, :, :, None]\n",
    "            for eig_index in range(int(feature_k))\n",
    "        ],\n",
    "        axis=3,\n",
    "    )\n",
    "    return tfp.math.gram_schmidt(eigenvectors)"
   ]
  },
  {
   "cell_type": "code",
   "execution_count": 6,
   "id": "661a424d",
   "metadata": {},
   "outputs": [],
   "source": [
    "@tf.function\n",
    "def evaluate_features_batch(data, k, ndim, feature_inds=None):\n",
    "    if feature_inds is None:\n",
    "        feature_inds = generate_random_ensemble(data, k)\n",
    "    matrices = tf.gather(data, feature_inds)\n",
    "    s, u, v = tf.linalg.svd(matrices)\n",
    "    s_21, s_22 = build_update_s_matrix_blocks(s, u, v, data[:200])\n",
    "\n",
    "    ev_rotate = solve_update_s_factorization_iteration(\n",
    "        s, s_21, s_22, approximate_update_eigenvalues(s, s_22))\n",
    "    ev_lambda = approximate_eigenvalue_power_iteration(s, s_21, s_22, ev_rotate)\n",
    "    ev_rotate = solve_update_s_factorization_iteration(s, s_21, s_22, ev_lambda)\n",
    "    # The eigenvectors of the updated triangular matrix are a rotation of the eigenvectors\n",
    "    # of the original svd. u simply needs to be updated with a 1 on the diagonal; this is\n",
    "    # the orthogonal basis that we are using for k+1.\n",
    "    augmented_pca_u = tf.concat(\n",
    "        [\n",
    "            tf.concat(\n",
    "                [\n",
    "                    u,\n",
    "                    tf.zeros(u.shape[:-1] + (1,)),\n",
    "                ],\n",
    "                axis=-1,\n",
    "            ),\n",
    "            tf.concat(\n",
    "                [\n",
    "                    tf.zeros(u.shape[:-2] + (1, u.shape[-1])),\n",
    "                    tf.ones_like(u)[..., 0:1, 0:1],\n",
    "                ],\n",
    "                axis=-1,\n",
    "            ),\n",
    "        ],\n",
    "        axis=-2,\n",
    "    )\n",
    "    ev = tf.linalg.matmul(augmented_pca_u[:, None, :, :], ev_rotate)\n",
    "\n",
    "    feature_performance = tf.linalg.norm(\n",
    "        ev[:, :, :, :ndim], axis=3,\n",
    "    )\n",
    "    feature_score = feature_performance[:, :, -1] - tf.math.reduce_min(feature_performance[:, :, :-1], axis=2)\n",
    "\n",
    "    data_conflict = tf.reduce_any(\n",
    "        tf.range(200)[None, :, None] == feature_inds[:, None, :],\n",
    "        axis=2,\n",
    "    )\n",
    "    data_selected = tf.where(data_conflict, tf.constant(np.nan), feature_score)\n",
    "    return data_selected"
   ]
  },
  {
   "cell_type": "code",
   "execution_count": 652,
   "id": "9da68bca",
   "metadata": {},
   "outputs": [
    {
     "name": "stdout",
     "output_type": "stream",
     "text": [
      "CPU times: user 1min 56s, sys: 22.1 s, total: 2min 19s\n",
      "Wall time: 1min 53s\n"
     ]
    },
    {
     "data": {
      "text/plain": [
       "TensorShape([8192, 200])"
      ]
     },
     "execution_count": 652,
     "metadata": {},
     "output_type": "execute_result"
    }
   ],
   "source": [
    "%%time\n",
    "scores = evaluate_features_batch(data, 12, 1)\n",
    "scores.shape"
   ]
  },
  {
   "cell_type": "code",
   "execution_count": 653,
   "id": "d4040869",
   "metadata": {},
   "outputs": [],
   "source": [
    "import matplotlib.pyplot as plt"
   ]
  },
  {
   "cell_type": "code",
   "execution_count": 667,
   "id": "f51179e4",
   "metadata": {},
   "outputs": [
    {
     "data": {
      "text/plain": [
       "[<matplotlib.lines.Line2D at 0x7f7e24ffa500>]"
      ]
     },
     "execution_count": 667,
     "metadata": {},
     "output_type": "execute_result"
    },
    {
     "data": {
      "image/png": "[encoded data removed]",
      "text/plain": [
       "<Figure size 640x480 with 1 Axes>"
      ]
     },
     "metadata": {},
     "output_type": "display_data"
    }
   ],
   "source": [
    "data_index = 185\n",
    "samp = scores[:, data_index][np.isfinite(scores[:, data_index])]\n",
    "w = 0.015\n",
    "xs = np.linspace(-1, 0.5, 600)[None, :]\n",
    "ys = (\n",
    "    np.exp(-(xs - samp[:, None]) ** 2 / 2 / w ** 2)\n",
    ").sum(axis=0)\n",
    "norm_d1 = ys\n",
    "plt.plot(xs[0, :], ys)"
   ]
  },
  {
   "cell_type": "code",
   "execution_count": 659,
   "id": "6d267bc9",
   "metadata": {
    "scrolled": true
   },
   "outputs": [
    {
     "name": "stderr",
     "output_type": "stream",
     "text": [
      "/var/folders/_7/nzfm900d60v07y_zrq435hdr0000gn/T/ipykernel_67953/741822967.py:1: RuntimeWarning: divide by zero encountered in log\n",
      "  plt.plot(xs[0, :], np.sqrt(-np.log(ys) + 10))\n"
     ]
    },
    {
     "data": {
      "text/plain": [
       "[<matplotlib.lines.Line2D at 0x7f7e27cb8940>]"
      ]
     },
     "execution_count": 659,
     "metadata": {},
     "output_type": "execute_result"
    },
    {
     "data": {
      "image/png": "[encoded data removed]",
      "text/plain": [
       "<Figure size 640x480 with 1 Axes>"
      ]
     },
     "metadata": {},
     "output_type": "display_data"
    }
   ],
   "source": [
    "plt.plot(xs[0, :], np.sqrt(-np.log(ys) + 10))"
   ]
  },
  {
   "cell_type": "code",
   "execution_count": 660,
   "id": "7c299e70",
   "metadata": {},
   "outputs": [
    {
     "data": {
      "text/plain": [
       "0.016694490818029983"
      ]
     },
     "execution_count": 660,
     "metadata": {},
     "output_type": "execute_result"
    }
   ],
   "source": [
    "xs[0, np.argmax(ys)]"
   ]
  },
  {
   "cell_type": "code",
   "execution_count": 661,
   "id": "88b72e82",
   "metadata": {},
   "outputs": [
    {
     "data": {
      "text/plain": [
       "0.03180016732985508"
      ]
     },
     "execution_count": 661,
     "metadata": {},
     "output_type": "execute_result"
    }
   ],
   "source": [
    "np.sqrt(\n",
    "    (ys[:np.argmax(ys)] * (xs[0, :np.argmax(ys)] - xs[0, np.argmax(ys)]) ** 2).sum() / ys[:np.argmax(ys)].sum())"
   ]
  },
  {
   "cell_type": "code",
   "execution_count": 662,
   "id": "4fa3f869",
   "metadata": {},
   "outputs": [
    {
     "data": {
      "text/plain": [
       "(0.028303834, 0.038233783)"
      ]
     },
     "execution_count": 662,
     "metadata": {},
     "output_type": "execute_result"
    }
   ],
   "source": [
    "import scipy.stats\n",
    "scipy.stats.distributions.norm.fit(samp)"
   ]
  },
  {
   "cell_type": "code",
   "execution_count": 676,
   "id": "eb9206eb",
   "metadata": {},
   "outputs": [
    {
     "data": {
      "text/plain": [
       "[<matplotlib.lines.Line2D at 0x7f7e27466bf0>]"
      ]
     },
     "execution_count": 676,
     "metadata": {},
     "output_type": "execute_result"
    },
    {
     "data": {
      "image/png": "[encoded data removed]",
      "text/plain": [
       "<Figure size 640x480 with 1 Axes>"
      ]
     },
     "metadata": {},
     "output_type": "display_data"
    }
   ],
   "source": [
    "data_index = 185\n",
    "samp = scores[:, data_index][np.isfinite(scores[:, data_index])]\n",
    "w = 0.015\n",
    "xs = np.linspace(-1, 0.5, 600)[None, :]\n",
    "ys = (\n",
    "    np.exp(-(xs - samp[:, None]) ** 2 / 2 / w ** 2)\n",
    ").mean(axis=0) / w / np.sqrt(2 * np.pi) * 1.22\n",
    "plt.plot(xs[0, :], ys)\n",
    "plt.plot(xs[0, :], scipy.stats.distributions.norm(loc=0.016694490818029983, scale=0.0318).pdf(xs[0, :]), 'green')"
   ]
  },
  {
   "cell_type": "code",
   "execution_count": 682,
   "id": "4b958377",
   "metadata": {},
   "outputs": [
    {
     "data": {
      "text/plain": [
       "[<matplotlib.lines.Line2D at 0x7f7e29623c40>]"
      ]
     },
     "execution_count": 682,
     "metadata": {},
     "output_type": "execute_result"
    },
    {
     "data": {
      "image/png": "[encoded data removed]",
      "text/plain": [
       "<Figure size 640x480 with 1 Axes>"
      ]
     },
     "metadata": {},
     "output_type": "display_data"
    }
   ],
   "source": [
    "plt.plot(xs[0, :], (y2 := ys - scipy.stats.distributions.norm(loc=0.016694490818029983, scale=0.0318).pdf(xs[0, :])))"
   ]
  },
  {
   "cell_type": "code",
   "execution_count": 686,
   "id": "ee5cb887",
   "metadata": {},
   "outputs": [
    {
     "name": "stderr",
     "output_type": "stream",
     "text": [
      "/var/folders/_7/nzfm900d60v07y_zrq435hdr0000gn/T/ipykernel_67953/2516856576.py:1: RuntimeWarning: invalid value encountered in log\n",
      "  plt.plot(xs[0, :], np.sqrt(-np.log(y2) + 3))\n"
     ]
    },
    {
     "data": {
      "text/plain": [
       "[<matplotlib.lines.Line2D at 0x7f7e29a6cd30>]"
      ]
     },
     "execution_count": 686,
     "metadata": {},
     "output_type": "execute_result"
    },
    {
     "data": {
      "image/png": "[encoded data removed]",
      "text/plain": [
       "<Figure size 640x480 with 1 Axes>"
      ]
     },
     "metadata": {},
     "output_type": "display_data"
    }
   ],
   "source": [
    "plt.plot(xs[0, :], np.sqrt(-np.log(y2) + 3))"
   ]
  },
  {
   "cell_type": "code",
   "execution_count": 61,
   "id": "0f9bf89d",
   "metadata": {},
   "outputs": [],
   "source": [
    "samp = np.sort(samp)"
   ]
  },
  {
   "cell_type": "code",
   "execution_count": 601,
   "id": "a7795d79",
   "metadata": {},
   "outputs": [],
   "source": [
    "mu1 = tf.Variable(-.3314, name='mu1')\n",
    "sigma1 = tf.Variable(.05019, name='sigma1')\n",
    "theta = tf.Variable(0.1, name='theta')\n",
    "mu2 = tf.Variable(-0.19, name='mu2')\n",
    "sigma2 = tf.Variable(0.1, name='sigma2')\n",
    "opt = tf.keras.optimizers.Adam(0.005)"
   ]
  },
  {
   "cell_type": "code",
   "execution_count": 638,
   "id": "ab802d75",
   "metadata": {},
   "outputs": [],
   "source": [
    "with tf.GradientTape() as tape:\n",
    "    cdf = (\n",
    "        tf.math.cos(theta)\n",
    "        * (1 + tf.math.erf((samp - mu1) / sigma1 / tf.math.sqrt(2.))) / 2.\n",
    "        + tf.math.sin(theta)\n",
    "        * (1 + tf.math.erf((samp - mu2) / sigma2 / tf.math.sqrt(2.))) / 2.\n",
    "    )\n",
    "    result = tf.math.reduce_sum(tf.math.abs(cdf - tf.linspace(0., 1., samp.shape[0])))"
   ]
  },
  {
   "cell_type": "code",
   "execution_count": 639,
   "id": "ec6653fc",
   "metadata": {},
   "outputs": [
    {
     "data": {
      "text/plain": [
       "<tf.Tensor: shape=(), dtype=float32, numpy=274.21094>"
      ]
     },
     "execution_count": 639,
     "metadata": {},
     "output_type": "execute_result"
    }
   ],
   "source": [
    "result"
   ]
  },
  {
   "cell_type": "code",
   "execution_count": 640,
   "id": "5edc203c",
   "metadata": {},
   "outputs": [
    {
     "data": {
      "text/plain": [
       "[<tf.Tensor: shape=(), dtype=float32, numpy=20117.97>,\n",
       " <tf.Tensor: shape=(), dtype=float32, numpy=3638.6118>,\n",
       " <tf.Tensor: shape=(), dtype=float32, numpy=-20.703411>,\n",
       " <tf.Tensor: shape=(), dtype=float32, numpy=-301.89044>,\n",
       " <tf.Tensor: shape=(), dtype=float32, numpy=357.6851>]"
      ]
     },
     "execution_count": 640,
     "metadata": {},
     "output_type": "execute_result"
    }
   ],
   "source": [
    "gr = tape.gradient(result, [mu1, sigma1, mu2, sigma2, theta])\n",
    "gr"
   ]
  },
  {
   "cell_type": "markdown",
   "id": "d603913b",
   "metadata": {},
   "source": [
    "mu1.assign_sub(result / gr[0] * 0.1)\n",
    "sigma1.assign_sub(result / gr[1] * 0.1)\n",
    "mu2.assign_sub(result / gr[2] * 0.1)\n",
    "sigma2.assign_sub(result / gr[3] * 0.1)\n",
    "theta.assign_sub(result / gr[4] * 0.1)\n",
    "mu1.numpy(), sigma1.numpy(), mu2.numpy(), sigma2.numpy(), theta.numpy()"
   ]
  },
  {
   "cell_type": "code",
   "execution_count": 641,
   "id": "2fe4543d",
   "metadata": {},
   "outputs": [
    {
     "data": {
      "text/plain": [
       "<tf.Variable 'UnreadVariable' shape=() dtype=int64, numpy=10>"
      ]
     },
     "execution_count": 641,
     "metadata": {},
     "output_type": "execute_result"
    }
   ],
   "source": [
    "opt.apply_gradients(zip(gr, [mu1, sigma1, mu2, sigma2, theta]))"
   ]
  },
  {
   "cell_type": "code",
   "execution_count": null,
   "id": "65b8778a",
   "metadata": {},
   "outputs": [],
   "source": [
    "def mixture_model(samples, niter):\n",
    "    mu0 = tf.quantile(samples, 0.5, axis=0)[None, :]\n",
    "    lower = tf.quantile(samples, 0.4, axis=0)[None, :]\n",
    "    upper = tf.quantile(samples, 0.6, axis=0)[None, :]\n",
    "    sgn = tf.where(upper - mu0 > mu0 - lower, 1, -1)\n",
    "    param = tf.concat(\n",
    "        [\n",
    "            tf.quantile(samples, 0.5, axis=0)[None, :],\n",
    "            tf.fill([])\n",
    "        ])"
   ]
  },
  {
   "cell_type": "code",
   "execution_count": 650,
   "id": "51c5ea13",
   "metadata": {},
   "outputs": [
    {
     "data": {
      "text/plain": [
       "<tf.Tensor: shape=(), dtype=float32, numpy=nan>"
      ]
     },
     "execution_count": 650,
     "metadata": {},
     "output_type": "execute_result"
    }
   ],
   "source": [
    "import tensorflow_probability as tfp\n",
    "tfp.stats.stddev([1., 3., 5., np.nan])"
   ]
  },
  {
   "cell_type": "code",
   "execution_count": null,
   "id": "47384e58",
   "metadata": {},
   "outputs": [],
   "source": []
  }
 ],
 "metadata": {
  "kernelspec": {
   "display_name": "Python 3 (ipykernel)",
   "language": "python",
   "name": "python3"
  },
  "language_info": {
   "codemirror_mode": {
    "name": "ipython",
    "version": 3
   },
   "file_extension": ".py",
   "mimetype": "text/x-python",
   "name": "python",
   "nbconvert_exporter": "python",
   "pygments_lexer": "ipython3",
   "version": "3.10.6"
  }
 },
 "nbformat": 4,
 "nbformat_minor": 5
}
